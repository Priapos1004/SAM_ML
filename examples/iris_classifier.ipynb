{
 "cells": [
  {
   "attachments": {},
   "cell_type": "markdown",
   "metadata": {},
   "source": [
    "# Example Notebook for a classifier"
   ]
  },
  {
   "attachments": {},
   "cell_type": "markdown",
   "metadata": {},
   "source": [
    "## 0. set log-level of sam_ml library [can be ignored]\n",
    "\n",
    "(e.g. debugging)\n",
    "\n",
    "NOTE: has to happen before importing the sam_ml library"
   ]
  },
  {
   "cell_type": "code",
   "execution_count": 1,
   "metadata": {},
   "outputs": [],
   "source": [
    "import os\n",
    "os.environ[\"SAM_ML_LOG_LEVEL\"] = \"info\""
   ]
  },
  {
   "attachments": {},
   "cell_type": "markdown",
   "metadata": {},
   "source": [
    "## 1. libraries"
   ]
  },
  {
   "cell_type": "code",
   "execution_count": 2,
   "metadata": {},
   "outputs": [],
   "source": [
    "import pandas as pd\n",
    "from sklearn.datasets import load_iris\n",
    "from sklearn.model_selection import train_test_split\n",
    "\n",
    "from sam_ml.models.classifier import LR, __all__\n",
    "from sam_ml.data.preprocessing import Embeddings_builder, Sampler, Scaler, Selector"
   ]
  },
  {
   "attachments": {},
   "cell_type": "markdown",
   "metadata": {},
   "source": [
    "## 2. data"
   ]
  },
  {
   "attachments": {},
   "cell_type": "markdown",
   "metadata": {},
   "source": [
    "**Note:** All data classes (*Embeddings_builder*, *Sampler*, *Scaler*, *Selector*) have a static function .params() which returns the possible parameter values for the class"
   ]
  },
  {
   "cell_type": "code",
   "execution_count": 3,
   "metadata": {},
   "outputs": [
    {
     "name": "stdout",
     "output_type": "stream",
     "text": [
      "{'algorithm': ['bert', 'count', 'tfidf']}\n",
      "{'algorithm': ['standard', 'minmax', 'maxabs', 'robust', 'normalizer', 'power', 'quantile', 'quantile_normal']}\n",
      "{'algorithm': ['kbest', 'kbest_chi2', 'pca', 'wrapper', 'sequential', 'select_model', 'rfe', 'rfecv'], 'estimator': [LinearSVC(dual=False, penalty='l1'), LogisticRegression(), ExtraTreesClassifier(n_estimators=50)]}\n",
      "{'algorithm': ['SMOTE', 'BSMOTE', 'rus', 'ros', 'tl', 'nm', 'cc', 'oss']}\n"
     ]
    }
   ],
   "source": [
    "print(Embeddings_builder.params())\n",
    "print(Scaler.params())\n",
    "print(Selector.params())\n",
    "print(Sampler.params())"
   ]
  },
  {
   "attachments": {},
   "cell_type": "markdown",
   "metadata": {},
   "source": [
    "**Note:** do not forget to change the *train_on* parameter of the data class methods depending if the data is train or test data"
   ]
  },
  {
   "attachments": {},
   "cell_type": "markdown",
   "metadata": {},
   "source": [
    "### 2.1. load dataset"
   ]
  },
  {
   "cell_type": "code",
   "execution_count": 4,
   "metadata": {},
   "outputs": [],
   "source": [
    "df = load_iris()\n",
    "y = pd.Series(df.target)\n",
    "X = pd.DataFrame(df.data, columns=df.feature_names)\n",
    "x_train, x_test, y_train, y_test = train_test_split(X,y, train_size=0.80, random_state=42)"
   ]
  },
  {
   "attachments": {},
   "cell_type": "markdown",
   "metadata": {},
   "source": [
    "### 2.2. build embeddings [not needed for iris dataset]"
   ]
  },
  {
   "attachments": {},
   "cell_type": "markdown",
   "metadata": {},
   "source": [
    "Vectorizers convert text into vectors which is needed for string columns because ml models often can just deal with numeric or boolean features"
   ]
  },
  {
   "cell_type": "code",
   "execution_count": null,
   "metadata": {},
   "outputs": [],
   "source": [
    "'''\n",
    "eb = Embeddings_builder(vec=\"tfidf\")\n",
    "x_train_pre = eb.vectorize(x_train[\"string_columns\"], train_on=True)\n",
    "x_test_pre = eb.vectorize(x_test[\"string_columns\"], train_on=False)\n",
    "'''"
   ]
  },
  {
   "attachments": {},
   "cell_type": "markdown",
   "metadata": {},
   "source": [
    "### 2.3. scaling"
   ]
  },
  {
   "attachments": {},
   "cell_type": "markdown",
   "metadata": {},
   "source": [
    "Scaling algorithm scale the features to have the same range (e.g. [0, 1], [-1, 1]). This often helps the model to not priorities a feature with a wider range (depending on the model, it can also make sometimes no difference with or without scaling)"
   ]
  },
  {
   "cell_type": "code",
   "execution_count": 6,
   "metadata": {},
   "outputs": [],
   "source": [
    "scaler = Scaler(algorithm=\"minmax\")\n",
    "x_train =scaler.scale(x_train, train_on=True)\n",
    "x_test =scaler.scale(x_test, train_on=False)"
   ]
  },
  {
   "attachments": {},
   "cell_type": "markdown",
   "metadata": {},
   "source": [
    "### 2.4. feature selection"
   ]
  },
  {
   "attachments": {},
   "cell_type": "markdown",
   "metadata": {},
   "source": [
    "Feature selection algorithm select the most important features which reduces train time and also sometimes increases the scores because the model can focus on one of redundant features"
   ]
  },
  {
   "cell_type": "code",
   "execution_count": 7,
   "metadata": {},
   "outputs": [
    {
     "name": "stdout",
     "output_type": "stream",
     "text": [
      "all features:  ['sepal length (cm)', 'sepal width (cm)', 'petal length (cm)', 'petal width (cm)']\n",
      "selected features:  ['sepal length (cm)' 'petal length (cm)' 'petal width (cm)']\n"
     ]
    }
   ],
   "source": [
    "print(\"all features: \", list(x_train.columns))\n",
    "selector = Selector(algorithm=\"kbest\", num_features=3)\n",
    "x_train = selector.select(x_train, y_train, train_on = True)\n",
    "x_test = selector.select(x_test, train_on = False)\n",
    "print(\"selected features: \", selector.selected_features)"
   ]
  },
  {
   "attachments": {},
   "cell_type": "markdown",
   "metadata": {},
   "source": [
    "### 2.5. upsample data"
   ]
  },
  {
   "attachments": {},
   "cell_type": "markdown",
   "metadata": {},
   "source": [
    "Up-/Downsampling is important for imbalanced data. You can use it to create duplicated rows of under represented labels in the train data so that the model will not learn just to predict the major label (upsampling) **OR** remove rows from the major label that have correlated information to other rows and therefore do not add or just few new information (downsampling). Often one of these strategies is better than the other for a specific dataset."
   ]
  },
  {
   "cell_type": "code",
   "execution_count": 8,
   "metadata": {},
   "outputs": [
    {
     "name": "stdout",
     "output_type": "stream",
     "text": [
      "Value counts before upsampling:\n"
     ]
    },
    {
     "data": {
      "text/plain": [
       "1    41\n",
       "0    40\n",
       "2    39\n",
       "Name: count, dtype: int64"
      ]
     },
     "execution_count": 8,
     "metadata": {},
     "output_type": "execute_result"
    }
   ],
   "source": [
    "print(\"Value counts before upsampling:\")\n",
    "y_train.value_counts()"
   ]
  },
  {
   "cell_type": "code",
   "execution_count": 9,
   "metadata": {},
   "outputs": [],
   "source": [
    "sampler = Sampler(algorithm=\"ros\")\n",
    "x_train, y_train = sampler.sample(x_train, y_train)"
   ]
  },
  {
   "cell_type": "code",
   "execution_count": 10,
   "metadata": {},
   "outputs": [
    {
     "name": "stdout",
     "output_type": "stream",
     "text": [
      "Value counts after upsampling:\n"
     ]
    },
    {
     "data": {
      "text/plain": [
       "0    41\n",
       "1    41\n",
       "2    41\n",
       "Name: count, dtype: int64"
      ]
     },
     "execution_count": 10,
     "metadata": {},
     "output_type": "execute_result"
    }
   ],
   "source": [
    "print(\"Value counts after upsampling:\")\n",
    "y_train.value_counts()"
   ]
  },
  {
   "attachments": {},
   "cell_type": "markdown",
   "metadata": {},
   "source": [
    "## 3. model"
   ]
  },
  {
   "attachments": {},
   "cell_type": "markdown",
   "metadata": {},
   "source": [
    "The following class methods apply to all models in sam_ml.models. Here as an example the RandomForestClassifier."
   ]
  },
  {
   "attachments": {},
   "cell_type": "markdown",
   "metadata": {},
   "source": [
    "get possible *Classifier* classes with **\\_\\_all\\_\\_** list"
   ]
  },
  {
   "cell_type": "code",
   "execution_count": 11,
   "metadata": {},
   "outputs": [
    {
     "data": {
      "text/plain": [
       "['RFC',\n",
       " 'LR',\n",
       " 'DTC',\n",
       " 'SVC',\n",
       " 'MLPC',\n",
       " 'GBM',\n",
       " 'ABC',\n",
       " 'KNC',\n",
       " 'ETC',\n",
       " 'GNB',\n",
       " 'BNB',\n",
       " 'GPC',\n",
       " 'QDA',\n",
       " 'LDA',\n",
       " 'BC',\n",
       " 'LSVC',\n",
       " 'XGBC']"
      ]
     },
     "execution_count": 11,
     "metadata": {},
     "output_type": "execute_result"
    }
   ],
   "source": [
    "__all__"
   ]
  },
  {
   "attachments": {},
   "cell_type": "markdown",
   "metadata": {},
   "source": [
    "### 3.1. simple training"
   ]
  },
  {
   "attachments": {},
   "cell_type": "markdown",
   "metadata": {},
   "source": [
    "train and evaluate your model"
   ]
  },
  {
   "cell_type": "code",
   "execution_count": 12,
   "metadata": {},
   "outputs": [
    {
     "name": "stdout",
     "output_type": "stream",
     "text": [
      "Train score: 0.9349593495934959 - Train time: 0:00:00\n",
      "accuracy: 1.0\n",
      "precision: 1.0\n",
      "recall: 1.0\n",
      "s_score: 0.9926004570086354\n",
      "l_score: 1.0\n",
      "\n",
      "classification report:\n",
      "              precision    recall  f1-score   support\n",
      "\n",
      "           0       1.00      1.00      1.00        10\n",
      "           1       1.00      1.00      1.00         9\n",
      "           2       1.00      1.00      1.00        11\n",
      "\n",
      "    accuracy                           1.00        30\n",
      "   macro avg       1.00      1.00      1.00        30\n",
      "weighted avg       1.00      1.00      1.00        30\n",
      "\n"
     ]
    },
    {
     "data": {
      "text/plain": [
       "{'accuracy': 1.0,\n",
       " 'precision': 1.0,\n",
       " 'recall': 1.0,\n",
       " 's_score': 0.9926004570086354,\n",
       " 'l_score': 1.0}"
      ]
     },
     "execution_count": 12,
     "metadata": {},
     "output_type": "execute_result"
    }
   ],
   "source": [
    "model = LR()\n",
    "model.train(x_train, y_train)\n",
    "model.evaluate(x_test, y_test)"
   ]
  },
  {
   "attachments": {},
   "cell_type": "markdown",
   "metadata": {},
   "source": [
    "get the importance of the different features of your model"
   ]
  },
  {
   "cell_type": "code",
   "execution_count": 13,
   "metadata": {},
   "outputs": [
    {
     "data": {
      "image/png": "[encoded data removed]",
      "text/plain": [
       "<Figure size 640x480 with 1 Axes>"
      ]
     },
     "metadata": {},
     "output_type": "display_data"
    }
   ],
   "source": [
    "model.feature_importance()"
   ]
  },
  {
   "attachments": {},
   "cell_type": "markdown",
   "metadata": {},
   "source": [
    "predict with your model"
   ]
  },
  {
   "cell_type": "code",
   "execution_count": 14,
   "metadata": {},
   "outputs": [
    {
     "data": {
      "text/html": [
       "<div>\n",
       "<style scoped>\n",
       "    .dataframe tbody tr th:only-of-type {\n",
       "        vertical-align: middle;\n",
       "    }\n",
       "\n",
       "    .dataframe tbody tr th {\n",
       "        vertical-align: top;\n",
       "    }\n",
       "\n",
       "    .dataframe thead th {\n",
       "        text-align: right;\n",
       "    }\n",
       "</style>\n",
       "<table border=\"1\" class=\"dataframe\">\n",
       "  <thead>\n",
       "    <tr style=\"text-align: right;\">\n",
       "      <th></th>\n",
       "      <th>sepal length (cm)</th>\n",
       "      <th>sepal width (cm)</th>\n",
       "      <th>petal length (cm)</th>\n",
       "      <th>petal width (cm)</th>\n",
       "    </tr>\n",
       "  </thead>\n",
       "  <tbody>\n",
       "    <tr>\n",
       "      <th>0</th>\n",
       "      <td>1.3</td>\n",
       "      <td>1.3</td>\n",
       "      <td>1.3</td>\n",
       "      <td>1.3</td>\n",
       "    </tr>\n",
       "    <tr>\n",
       "      <th>1</th>\n",
       "      <td>6.5</td>\n",
       "      <td>1.6</td>\n",
       "      <td>8.6</td>\n",
       "      <td>2.4</td>\n",
       "    </tr>\n",
       "  </tbody>\n",
       "</table>\n",
       "</div>"
      ],
      "text/plain": [
       "   sepal length (cm)  sepal width (cm)  petal length (cm)  petal width (cm)\n",
       "0                1.3               1.3                1.3               1.3\n",
       "1                6.5               1.6                8.6               2.4"
      ]
     },
     "execution_count": 14,
     "metadata": {},
     "output_type": "execute_result"
    }
   ],
   "source": [
    "test_df = pd.DataFrame([[1.3, 1.3, 1.3, 1.3], [6.5, 1.6, 8.6, 2.4]], columns=['sepal length (cm)', 'sepal width (cm)', 'petal length (cm)', 'petal width (cm)'])\n",
    "test_df.head()"
   ]
  },
  {
   "attachments": {},
   "cell_type": "markdown",
   "metadata": {},
   "source": [
    "**IMPORTANT:** if you are not using a pipeline, you have to apply all the data preparation steps (without sampling) also to your data that shall be predicted"
   ]
  },
  {
   "cell_type": "code",
   "execution_count": 15,
   "metadata": {},
   "outputs": [],
   "source": [
    "test_df = scaler.scale(test_df, train_on=False)\n",
    "test_df = selector.select(test_df, train_on=False)"
   ]
  },
  {
   "cell_type": "code",
   "execution_count": 16,
   "metadata": {},
   "outputs": [
    {
     "data": {
      "text/plain": [
       "[0, 2]"
      ]
     },
     "execution_count": 16,
     "metadata": {},
     "output_type": "execute_result"
    }
   ],
   "source": [
    "model.predict(test_df)"
   ]
  },
  {
   "attachments": {},
   "cell_type": "markdown",
   "metadata": {},
   "source": [
    "### 3.2. hyperparameter tuning"
   ]
  },
  {
   "attachments": {},
   "cell_type": "markdown",
   "metadata": {},
   "source": [
    "you can get the hyperparameter tuning grid as followed:"
   ]
  },
  {
   "cell_type": "code",
   "execution_count": 17,
   "metadata": {},
   "outputs": [
    {
     "data": {
      "text/plain": [
       "Configuration space object:\n",
       "  Hyperparameters:\n",
       "    C, Type: UniformFloat, Range: [0.01, 100.0], Default: 1.0, on log-scale\n",
       "    l1_ratio, Type: UniformFloat, Range: [0.01, 1.0], Default: 0.1\n",
       "    penalty, Type: Categorical, Choices: {l2, elasticnet}, Default: l2\n",
       "    solver, Type: Categorical, Choices: {newton-cg, lbfgs, liblinear, sag, saga}, Default: lbfgs, Probabilities: (0.15, 0.15, 0.15, 0.15, 0.4)\n",
       "  Conditions:\n",
       "    l1_ratio | penalty == 'elasticnet'\n",
       "  Forbidden Clauses:\n",
       "    (Forbidden: penalty == 'elasticnet' && Forbidden: solver in {'lbfgs', 'liblinear', 'newton-cg', 'sag'})"
      ]
     },
     "execution_count": 17,
     "metadata": {},
     "output_type": "execute_result"
    }
   ],
   "source": [
    "model.grid"
   ]
  },
  {
   "attachments": {},
   "cell_type": "markdown",
   "metadata": {},
   "source": [
    "#### 3.2.1. recall optimization (with recall_score function)"
   ]
  },
  {
   "attachments": {},
   "cell_type": "markdown",
   "metadata": {},
   "source": [
    "simple scoring with recall/precision/accurracy"
   ]
  },
  {
   "cell_type": "code",
   "execution_count": 18,
   "metadata": {},
   "outputs": [
    {
     "name": "stderr",
     "output_type": "stream",
     "text": [
      "randomCVsearch (LogisticRegression): 100%|██████████| 10/10 [00:15<00:00,  1.51s/it]\n"
     ]
    },
    {
     "data": {
      "text/plain": [
       "({'C': 63.512210106407046, 'penalty': 'l2', 'solver': 'lbfgs'},\n",
       " 0.948015873015873)"
      ]
     },
     "execution_count": 18,
     "metadata": {},
     "output_type": "execute_result"
    }
   ],
   "source": [
    "best_hyperparam, best_score = model.randomCVsearch(x_train, y_train, scoring=\"recall\", avg=\"macro\")\n",
    "best_hyperparam, best_score"
   ]
  },
  {
   "cell_type": "code",
   "execution_count": 19,
   "metadata": {},
   "outputs": [
    {
     "name": "stdout",
     "output_type": "stream",
     "text": [
      "Train score: 0.959349593495935 - Train time: 0:00:00\n",
      "accuracy: 1.0\n",
      "precision: 1.0\n",
      "recall: 1.0\n",
      "s_score: 0.9926004570086354\n",
      "l_score: 1.0\n",
      "\n",
      "classification report:\n",
      "              precision    recall  f1-score   support\n",
      "\n",
      "           0       1.00      1.00      1.00        10\n",
      "           1       1.00      1.00      1.00         9\n",
      "           2       1.00      1.00      1.00        11\n",
      "\n",
      "    accuracy                           1.00        30\n",
      "   macro avg       1.00      1.00      1.00        30\n",
      "weighted avg       1.00      1.00      1.00        30\n",
      "\n"
     ]
    },
    {
     "data": {
      "text/plain": [
       "{'accuracy': 1.0,\n",
       " 'precision': 1.0,\n",
       " 'recall': 1.0,\n",
       " 's_score': 0.9926004570086354,\n",
       " 'l_score': 1.0}"
      ]
     },
     "execution_count": 19,
     "metadata": {},
     "output_type": "execute_result"
    }
   ],
   "source": [
    "best_model = model.get_deepcopy()\n",
    "best_model.set_params(**best_hyperparam)\n",
    "best_model.train(x_train, y_train)\n",
    "best_model.evaluate(x_test, y_test)"
   ]
  },
  {
   "attachments": {},
   "cell_type": "markdown",
   "metadata": {},
   "source": [
    "#### 3.2.2. recall optimization (with s_scoring function)"
   ]
  },
  {
   "attachments": {},
   "cell_type": "markdown",
   "metadata": {},
   "source": [
    "advanced scoring with s_score/l_score:\n",
    "- **secondary_scoring** and **pos_label** to priorities metrics/classes in optimization\n",
    "- **strength** to set how much the priorization is compared to scores in all the other metrics/classes\n",
    "- always includes all metrics/classes and punishes really bad scores in one metric/class"
   ]
  },
  {
   "cell_type": "code",
   "execution_count": 20,
   "metadata": {},
   "outputs": [
    {
     "name": "stderr",
     "output_type": "stream",
     "text": [
      "randomCVsearch (LogisticRegression): 100%|██████████| 10/10 [00:00<00:00, 16.00it/s]\n"
     ]
    },
    {
     "data": {
      "text/plain": [
       "({'C': 2.463768595899747, 'penalty': 'l2', 'solver': 'newton-cg'},\n",
       " 0.9242160422494159)"
      ]
     },
     "execution_count": 20,
     "metadata": {},
     "output_type": "execute_result"
    }
   ],
   "source": [
    "best_hyperparam, best_score = model.randomCVsearch(x_train, y_train, scoring=\"s_score\", secondary_scoring=\"recall\", pos_label=-1, strength=4)\n",
    "best_hyperparam, best_score"
   ]
  },
  {
   "cell_type": "code",
   "execution_count": 20,
   "metadata": {},
   "outputs": [
    {
     "name": "stdout",
     "output_type": "stream",
     "text": [
      "Train score:  0.9512195121951219  - Train time:  0:00:00\n",
      "accuracy:  1.0\n",
      "precision:  [1. 1. 1.]\n",
      "recall:  [1. 1. 1.]\n",
      "s_score:  0.9926004570086354\n",
      "l_score:  1.0\n",
      "\n",
      "classification report: \n",
      "              precision    recall  f1-score   support\n",
      "\n",
      "           0       1.00      1.00      1.00        10\n",
      "           1       1.00      1.00      1.00         9\n",
      "           2       1.00      1.00      1.00        11\n",
      "\n",
      "    accuracy                           1.00        30\n",
      "   macro avg       1.00      1.00      1.00        30\n",
      "weighted avg       1.00      1.00      1.00        30\n",
      "\n"
     ]
    },
    {
     "data": {
      "text/plain": [
       "{'accuracy': 1.0,\n",
       " 'precision': array([1., 1., 1.]),\n",
       " 'recall': array([1., 1., 1.]),\n",
       " 's_score': 0.9926004570086354,\n",
       " 'l_score': 1.0}"
      ]
     },
     "execution_count": 20,
     "metadata": {},
     "output_type": "execute_result"
    }
   ],
   "source": [
    "best_model = model.get_deepcopy()\n",
    "best_model.set_params(**best_hyperparam)\n",
    "best_model.train(x_train, y_train)\n",
    "best_model.evaluate(x_test, y_test)"
   ]
  },
  {
   "attachments": {},
   "cell_type": "markdown",
   "metadata": {},
   "source": [
    "#### 3.2.3. SMAC3 library *HyperparameterOptimizationFacade*"
   ]
  },
  {
   "cell_type": "code",
   "execution_count": 21,
   "metadata": {},
   "outputs": [
    {
     "name": "stdout",
     "output_type": "stream",
     "text": [
      "[INFO][abstract_initial_design.py:147] Using 3 initial design configurations and 0 additional configurations.\n",
      "[INFO][abstract_intensifier.py:305] Using only one seed for deterministic scenario.\n",
      "[INFO][abstract_intensifier.py:515] Added config 12be8a as new incumbent because there are no incumbents yet.\n",
      "[INFO][abstract_intensifier.py:590] Added config ce10f4 and rejected config 12be8a as incumbent because it is not better than the incumbents on 1 instances:\n",
      "[INFO][configspace.py:175] --- C: 1.521010951219768 -> 68.66295315779564\n",
      "[INFO][configspace.py:175] --- solver: 'sag' -> 'lbfgs'\n",
      "[INFO][abstract_intensifier.py:590] Added config 0b341b and rejected config ce10f4 as incumbent because it is not better than the incumbents on 1 instances:\n",
      "[INFO][configspace.py:175] --- C: 68.66295315779564 -> 2.218460698162247\n",
      "[INFO][configspace.py:175] --- solver: 'lbfgs' -> 'saga'\n",
      "[INFO][smbo.py:319] Finished 50 trials.\n",
      "[INFO][smbo.py:327] Configuration budget is exhausted:\n",
      "[INFO][smbo.py:328] --- Remaining wallclock time: 596.9330201148987\n",
      "[INFO][smbo.py:329] --- Remaining cpu time: inf\n",
      "[INFO][smbo.py:330] --- Remaining trials: 0\n"
     ]
    },
    {
     "data": {
      "text/plain": [
       "Configuration(values={\n",
       "  'C': 2.218460698162247,\n",
       "  'penalty': 'l2',\n",
       "  'solver': 'saga',\n",
       "})"
      ]
     },
     "execution_count": 21,
     "metadata": {},
     "output_type": "execute_result"
    }
   ],
   "source": [
    "best_hyperparam = model.smac_search(x_train, y_train, scoring=\"recall\", avg=\"macro\")\n",
    "best_hyperparam"
   ]
  },
  {
   "cell_type": "code",
   "execution_count": 21,
   "metadata": {},
   "outputs": [
    {
     "name": "stdout",
     "output_type": "stream",
     "text": [
      "Train score: 0.9512195121951219 - Train time: 0:00:00\n",
      "accuracy: 1.0\n",
      "precision: 1.0\n",
      "recall: 1.0\n",
      "s_score: 0.9926004570086354\n",
      "l_score: 1.0\n",
      "\n",
      "classification report:\n",
      "              precision    recall  f1-score   support\n",
      "\n",
      "           0       1.00      1.00      1.00        10\n",
      "           1       1.00      1.00      1.00         9\n",
      "           2       1.00      1.00      1.00        11\n",
      "\n",
      "    accuracy                           1.00        30\n",
      "   macro avg       1.00      1.00      1.00        30\n",
      "weighted avg       1.00      1.00      1.00        30\n",
      "\n"
     ]
    },
    {
     "data": {
      "text/plain": [
       "{'accuracy': 1.0,\n",
       " 'precision': 1.0,\n",
       " 'recall': 1.0,\n",
       " 's_score': 0.9926004570086354,\n",
       " 'l_score': 1.0}"
      ]
     },
     "execution_count": 21,
     "metadata": {},
     "output_type": "execute_result"
    }
   ],
   "source": [
    "best_model = model.get_deepcopy()\n",
    "best_model.set_params(**best_hyperparam)\n",
    "best_model.train(x_train, y_train)\n",
    "best_model.evaluate(x_test, y_test)"
   ]
  },
  {
   "attachments": {},
   "cell_type": "markdown",
   "metadata": {},
   "source": [
    "### 3.3. crossvalidation"
   ]
  },
  {
   "attachments": {},
   "cell_type": "markdown",
   "metadata": {},
   "source": [
    "#### 3.3.1. all-vs-one cross validation"
   ]
  },
  {
   "attachments": {},
   "cell_type": "markdown",
   "metadata": {},
   "source": [
    "**Concept:**\n",
    "\n",
    "The model will be trained on all datapoints except one and then tested on this last one. This will be repeated for all datapoints so that we have our predictions for all datapoints.\n",
    "\n",
    "**Advantage:** optimal use of information for training\n",
    "\n",
    "**Disadvantage:** long train time\n",
    "\n",
    "This concept is very useful for small datasets (datapoints < 150) because the long train time is still not too long and especially with a small amount of information for the model, it is important to use all the information one has for the training."
   ]
  },
  {
   "cell_type": "code",
   "execution_count": 22,
   "metadata": {},
   "outputs": [
    {
     "name": "stderr",
     "output_type": "stream",
     "text": [
      "LogisticRegression:   0%|          | 0/150 [00:00<?, ?it/s]"
     ]
    },
    {
     "name": "stderr",
     "output_type": "stream",
     "text": [
      "LogisticRegression: 100%|██████████| 150/150 [00:02<00:00, 53.81it/s]"
     ]
    },
    {
     "name": "stdout",
     "output_type": "stream",
     "text": [
      "accuracy: 0.9666666666666667\n",
      "precision: 0.9667867146858743\n",
      "recall: 0.9666666666666667\n",
      "s_score: 0.9885291351907307\n",
      "l_score: 0.9999999880691252\n",
      "train_score: 0.9734675615212528\n",
      "train_time: 0:00:00\n",
      "\n",
      "classification report:\n",
      "              precision    recall  f1-score   support\n",
      "\n",
      "           0       1.00      1.00      1.00        50\n",
      "           1       0.96      0.94      0.95        50\n",
      "           2       0.94      0.96      0.95        50\n",
      "\n",
      "    accuracy                           0.97       150\n",
      "   macro avg       0.97      0.97      0.97       150\n",
      "weighted avg       0.97      0.97      0.97       150\n",
      "\n"
     ]
    },
    {
     "name": "stderr",
     "output_type": "stream",
     "text": [
      "\n"
     ]
    },
    {
     "data": {
      "text/plain": [
       "{'accuracy': 0.9666666666666667,\n",
       " 'precision': 0.9667867146858743,\n",
       " 'recall': 0.9666666666666667,\n",
       " 's_score': 0.9885291351907307,\n",
       " 'l_score': 0.9999999880691252,\n",
       " 'train_score': 0.9734675615212528,\n",
       " 'train_time': '0:00:00'}"
      ]
     },
     "execution_count": 22,
     "metadata": {},
     "output_type": "execute_result"
    }
   ],
   "source": [
    "model.cross_validation_small_data(X, y, avg=\"macro\")"
   ]
  },
  {
   "attachments": {},
   "cell_type": "markdown",
   "metadata": {},
   "source": [
    "#### 3.3.2. multiple split cross validation"
   ]
  },
  {
   "cell_type": "code",
   "execution_count": 23,
   "metadata": {},
   "outputs": [
    {
     "name": "stdout",
     "output_type": "stream",
     "text": [
      "\n",
      "                                0         1         2         3         4  \\\n",
      "fit_time                 0.016397  0.017937  0.014965  0.023099  0.019038   \n",
      "score_time               0.013046  0.010705  0.011035  0.013298  0.009963   \n",
      "test_precision (macro)   1.000000  1.000000  0.500000  0.916667  0.500000   \n",
      "train_precision (macro)  0.973825  0.971997  1.000000  0.941667  0.987179   \n",
      "test_recall (macro)      1.000000  1.000000  0.433333  0.950000  0.416667   \n",
      "train_recall (macro)     0.973333  0.968333  1.000000  0.941667  0.966667   \n",
      "test_accuracy            1.000000  1.000000  0.866667  0.933333  0.833333   \n",
      "train_accuracy           0.966667  0.966667  1.000000  0.950000  0.983333   \n",
      "test_s_score             0.997527  0.995061  0.002455  0.984473  0.002447   \n",
      "train_s_score            0.989409  0.988808  0.992600  0.983390  0.989049   \n",
      "test_l_score             1.000000  1.000000  0.000000  0.999980  0.000000   \n",
      "train_l_score            1.000000  1.000000  1.000000  0.999999  1.000000   \n",
      "\n",
      "                          average  \n",
      "fit_time                 0.018287  \n",
      "score_time               0.011609  \n",
      "test_precision (macro)   0.783333  \n",
      "train_precision (macro)  0.974934  \n",
      "test_recall (macro)      0.760000  \n",
      "train_recall (macro)     0.970000  \n",
      "test_accuracy            0.926667  \n",
      "train_accuracy           0.973333  \n",
      "test_s_score             0.596393  \n",
      "train_s_score            0.988651  \n",
      "test_l_score             0.599996  \n",
      "train_l_score            1.000000  \n"
     ]
    },
    {
     "data": {
      "text/plain": [
       "{'accuracy': 0.9266666666666665,\n",
       " 'precision': 0.7833333333333334,\n",
       " 'recall': 0.76,\n",
       " 's_score': 0.5963926326514177,\n",
       " 'l_score': 0.5999959011044498,\n",
       " 'train_time': '0:00:00',\n",
       " 'train_score': 0.9733333333333334}"
      ]
     },
     "execution_count": 23,
     "metadata": {},
     "output_type": "execute_result"
    }
   ],
   "source": [
    "model.cross_validation(X, y, cv_num=5, avg=\"macro\")"
   ]
  },
  {
   "attachments": {},
   "cell_type": "markdown",
   "metadata": {},
   "source": [
    "### 3.4. save and load models"
   ]
  },
  {
   "attachments": {},
   "cell_type": "markdown",
   "metadata": {},
   "source": [
    "save your classifier class object with **only_estimator**=False or you can only save the sklearn model with **only_estimator**=True"
   ]
  },
  {
   "cell_type": "code",
   "execution_count": 24,
   "metadata": {},
   "outputs": [],
   "source": [
    "model.save_model(path=\"rfc.pkl\", only_estimator=False)"
   ]
  },
  {
   "attachments": {},
   "cell_type": "markdown",
   "metadata": {},
   "source": [
    "every *Model* subclass (*Classifier*, *Pipeline*, *RFC*, ...) has the *load_model* function that returns the model"
   ]
  },
  {
   "cell_type": "code",
   "execution_count": 25,
   "metadata": {},
   "outputs": [],
   "source": [
    "loaded_model = LR.load_model(path=\"rfc.pkl\")"
   ]
  },
  {
   "cell_type": "code",
   "execution_count": null,
   "metadata": {},
   "outputs": [],
   "source": []
  }
 ],
 "metadata": {
  "kernelspec": {
   "display_name": "Python 3.9.7 ('sam_ml')",
   "language": "python",
   "name": "python3"
  },
  "language_info": {
   "codemirror_mode": {
    "name": "ipython",
    "version": 3
   },
   "file_extension": ".py",
   "mimetype": "text/x-python",
   "name": "python",
   "nbconvert_exporter": "python",
   "pygments_lexer": "ipython3",
   "version": "3.10.11"
  },
  "orig_nbformat": 4,
  "vscode": {
   "interpreter": {
    "hash": "5b738b73aff05be6a815c168ec02e2f25923ef65f9da64e59e0db381ef6ddb14"
   }
  }
 },
 "nbformat": 4,
 "nbformat_minor": 2
}
