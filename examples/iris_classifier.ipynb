{
 "cells": [
  {
   "cell_type": "markdown",
   "metadata": {},
   "source": [
    "# Example Notebook for a classifier"
   ]
  },
  {
   "cell_type": "markdown",
   "metadata": {},
   "source": [
    "## 1. libraries"
   ]
  },
  {
   "cell_type": "code",
   "execution_count": 1,
   "metadata": {},
   "outputs": [],
   "source": [
    "import pandas as pd\n",
    "from sklearn.datasets import load_iris\n",
    "from sklearn.model_selection import train_test_split\n",
    "\n",
    "from sam_ml.models import RFC, __all__\n",
    "from sam_ml.data import Embeddings_builder, Sampler, Scaler, Selector"
   ]
  },
  {
   "cell_type": "markdown",
   "metadata": {},
   "source": [
    "## 2. data"
   ]
  },
  {
   "cell_type": "markdown",
   "metadata": {},
   "source": [
    "**Note:** All data classes (*Embeddings_builder*, *Sampler*, *Scaler*, *Selector*) have a static function .params() which returns the possible parameter values for the class"
   ]
  },
  {
   "cell_type": "code",
   "execution_count": 2,
   "metadata": {},
   "outputs": [
    {
     "name": "stdout",
     "output_type": "stream",
     "text": [
      "{'vec': ['bert', 'count', 'tfidf']}\n",
      "{'scaler': ['standard', 'minmax', 'maxabs', 'robust', 'normalizer', 'power', 'quantile', 'quantile_normal']}\n",
      "{'algorithm': ['kbest', 'kbest_chi2', 'pca', 'wrapper', 'sequential', 'select_model', 'rfe', 'rfecv'], 'estimator': [LinearSVC(dual=False, penalty='l1'), LogisticRegression(), ExtraTreesClassifier(n_estimators=50)]}\n",
      "{'algorithm': ['SMOTE', 'rus', 'ros', 'tl', 'nm']}\n"
     ]
    }
   ],
   "source": [
    "print(Embeddings_builder.params())\n",
    "print(Scaler.params())\n",
    "print(Selector.params())\n",
    "print(Sampler.params())"
   ]
  },
  {
   "cell_type": "markdown",
   "metadata": {},
   "source": [
    "**Note:** do not forget to change the *train_on* parameter of the data class methods depending if the data is train or test data"
   ]
  },
  {
   "cell_type": "markdown",
   "metadata": {},
   "source": [
    "### 2.1. load dataset"
   ]
  },
  {
   "cell_type": "code",
   "execution_count": 3,
   "metadata": {},
   "outputs": [],
   "source": [
    "df = load_iris()\n",
    "y = pd.Series(df.target)\n",
    "X = pd.DataFrame(df.data, columns=df.feature_names)\n",
    "x_train, x_test, y_train, y_test = train_test_split(X,y, train_size=0.80, random_state=42)"
   ]
  },
  {
   "cell_type": "markdown",
   "metadata": {},
   "source": [
    "### 2.2. build embeddings [not needed for iris dataset]"
   ]
  },
  {
   "cell_type": "markdown",
   "metadata": {},
   "source": [
    "Vectorizers convert text into vectors which is needed for string columns because ml models often can just deal with numeric or boolean features"
   ]
  },
  {
   "cell_type": "code",
   "execution_count": null,
   "metadata": {},
   "outputs": [],
   "source": [
    "'''\n",
    "eb = Embeddings_builder(vec=\"tfidf\")\n",
    "x_train_pre = eb.vectorize(x_train[\"string_columns\"], train_on=True)\n",
    "x_test_pre = eb.vectorize(x_test[\"string_columns\"], train_on=False)\n",
    "'''"
   ]
  },
  {
   "cell_type": "markdown",
   "metadata": {},
   "source": [
    "### 2.3. scaling"
   ]
  },
  {
   "cell_type": "markdown",
   "metadata": {},
   "source": [
    "Scaling algorithm scale the features to have the same range (e.g. [0, 1], [-1, 1]). This often helps the model to not priorities a feature with a wider range (depending on the model, it can also make sometimes no difference with or without scaling)"
   ]
  },
  {
   "cell_type": "code",
   "execution_count": 4,
   "metadata": {},
   "outputs": [],
   "source": [
    "scaler = Scaler(scaler=\"minmax\")\n",
    "x_train =scaler.scale(x_train, train_on=True)\n",
    "x_test =scaler.scale(x_test, train_on=False)"
   ]
  },
  {
   "cell_type": "markdown",
   "metadata": {},
   "source": [
    "### 2.4. feature selection"
   ]
  },
  {
   "cell_type": "markdown",
   "metadata": {},
   "source": [
    "Feature selection algorithm select the most important features which reduces train time and also sometimes increases the scores because the model can focus on one of redundant features"
   ]
  },
  {
   "cell_type": "code",
   "execution_count": 5,
   "metadata": {},
   "outputs": [
    {
     "name": "stdout",
     "output_type": "stream",
     "text": [
      "all features:  ['sepal length (cm)', 'sepal width (cm)', 'petal length (cm)', 'petal width (cm)']\n",
      "selected features:  ['sepal length (cm)' 'petal length (cm)' 'petal width (cm)']\n"
     ]
    }
   ],
   "source": [
    "print(\"all features: \", list(x_train.columns))\n",
    "selector = Selector(algorithm=\"kbest\", num_features=3)\n",
    "x_train = selector.select(x_train, y_train, train_on = True)\n",
    "x_test = selector.select(x_test, train_on = False)\n",
    "print(\"selected features: \", selector.selected_features)"
   ]
  },
  {
   "cell_type": "markdown",
   "metadata": {},
   "source": [
    "### 2.5. upsample data"
   ]
  },
  {
   "cell_type": "markdown",
   "metadata": {},
   "source": [
    "Up-/Downsampling is important for imbalanced data. You can use it to create duplicated rows of under represented labels in the train data so that the model will not learn just to predict the major label (upsampling) **OR** remove rows from the major label that have correlated information to other rows and therefore do not add or just few new information (downsampling). Often one of these strategies is better than the other for a specific dataset."
   ]
  },
  {
   "cell_type": "code",
   "execution_count": 6,
   "metadata": {},
   "outputs": [
    {
     "name": "stdout",
     "output_type": "stream",
     "text": [
      "Value counts before upsampling:\n"
     ]
    },
    {
     "data": {
      "text/plain": [
       "1    41\n",
       "0    40\n",
       "2    39\n",
       "dtype: int64"
      ]
     },
     "execution_count": 6,
     "metadata": {},
     "output_type": "execute_result"
    }
   ],
   "source": [
    "print(\"Value counts before upsampling:\")\n",
    "y_train.value_counts()"
   ]
  },
  {
   "cell_type": "code",
   "execution_count": 7,
   "metadata": {},
   "outputs": [],
   "source": [
    "sampler = Sampler(algorithm=\"ros\")\n",
    "x_train, y_train = sampler.sample(x_train, y_train)"
   ]
  },
  {
   "cell_type": "code",
   "execution_count": 8,
   "metadata": {},
   "outputs": [
    {
     "name": "stdout",
     "output_type": "stream",
     "text": [
      "Value counts after upsampling:\n"
     ]
    },
    {
     "data": {
      "text/plain": [
       "0    41\n",
       "1    41\n",
       "2    41\n",
       "dtype: int64"
      ]
     },
     "execution_count": 8,
     "metadata": {},
     "output_type": "execute_result"
    }
   ],
   "source": [
    "print(\"Value counts after upsampling:\")\n",
    "y_train.value_counts()"
   ]
  },
  {
   "cell_type": "markdown",
   "metadata": {},
   "source": [
    "## 3. model"
   ]
  },
  {
   "cell_type": "markdown",
   "metadata": {},
   "source": [
    "The following class methods apply to all models in sam_ml.models. Here as an example the RandomForestClassifier."
   ]
  },
  {
   "cell_type": "markdown",
   "metadata": {},
   "source": [
    "get possible *Classifier* classes with **\\_\\_all\\_\\_** dictionary"
   ]
  },
  {
   "cell_type": "code",
   "execution_count": 9,
   "metadata": {},
   "outputs": [
    {
     "data": {
      "text/plain": [
       "{'model parent class': 'Model',\n",
       " 'classifier parent class': 'Classifier',\n",
       " 'pipeline class': 'Pipeline',\n",
       " 'AutoML class': 'CTest',\n",
       " 'RandomForestClassifier': 'RFC',\n",
       " 'LogisticRegression': 'LR',\n",
       " 'DecisionTreeClassifier': 'DCT',\n",
       " 'SupportVectorClassifier': 'SVC',\n",
       " 'MLP Classifier': 'MLPC',\n",
       " 'GradientBoostingMachine': 'GBM',\n",
       " 'CatBoostClassifier': 'CBC',\n",
       " 'AdaBoostClassifier': 'ABC',\n",
       " 'KNeighborsClassifier': 'KNC',\n",
       " 'ExtraTreesClassifier': 'ETC',\n",
       " 'GaussianNaiveBayes': 'GNB',\n",
       " 'BernoulliNaiveBayes': 'BNB',\n",
       " 'GaussianProcessClassifier': 'GPC',\n",
       " 'QuadraticDiscriminantAnalysis': 'QDA',\n",
       " 'LinearDiscriminantAnalysis': 'LDA',\n",
       " 'BaggingClassifier': 'BC',\n",
       " 'LinearSupportVectorClassifier': 'LSVC'}"
      ]
     },
     "execution_count": 9,
     "metadata": {},
     "output_type": "execute_result"
    }
   ],
   "source": [
    "__all__"
   ]
  },
  {
   "cell_type": "markdown",
   "metadata": {},
   "source": [
    "### 3.1. simple training"
   ]
  },
  {
   "cell_type": "markdown",
   "metadata": {},
   "source": [
    "train and evaluate your model"
   ]
  },
  {
   "cell_type": "code",
   "execution_count": 10,
   "metadata": {},
   "outputs": [
    {
     "name": "stdout",
     "output_type": "stream",
     "text": [
      "started training...\n",
      "Train score:  1.0  - Train time:  0:00:00\n",
      "accuracy:  1.0\n",
      "precision:  [1. 1. 1.]\n",
      "recall:  [1. 1. 1.]\n",
      "s_score:  0.9926004570086354\n",
      "l_score:  1.0\n",
      "\n",
      "classification report: \n",
      "              precision    recall  f1-score   support\n",
      "\n",
      "           0       1.00      1.00      1.00        10\n",
      "           1       1.00      1.00      1.00         9\n",
      "           2       1.00      1.00      1.00        11\n",
      "\n",
      "    accuracy                           1.00        30\n",
      "   macro avg       1.00      1.00      1.00        30\n",
      "weighted avg       1.00      1.00      1.00        30\n",
      "\n"
     ]
    },
    {
     "data": {
      "text/plain": [
       "{'accuracy': 1.0,\n",
       " 'precision': array([1., 1., 1.]),\n",
       " 'recall': array([1., 1., 1.]),\n",
       " 's_score': 0.9926004570086354,\n",
       " 'l_score': 1.0}"
      ]
     },
     "execution_count": 10,
     "metadata": {},
     "output_type": "execute_result"
    }
   ],
   "source": [
    "model = RFC()\n",
    "model.train(x_train, y_train)\n",
    "model.evaluate(x_test, y_test)"
   ]
  },
  {
   "cell_type": "markdown",
   "metadata": {},
   "source": [
    "get the importance of the different features of your model"
   ]
  },
  {
   "cell_type": "code",
   "execution_count": 11,
   "metadata": {},
   "outputs": [
    {
     "data": {
      "image/png": "[encoded data removed]",
      "text/plain": [
       "<Figure size 432x288 with 1 Axes>"
      ]
     },
     "metadata": {
      "needs_background": "light"
     },
     "output_type": "display_data"
    }
   ],
   "source": [
    "model.feature_importance()"
   ]
  },
  {
   "cell_type": "markdown",
   "metadata": {},
   "source": [
    "predict with your model"
   ]
  },
  {
   "cell_type": "code",
   "execution_count": 12,
   "metadata": {},
   "outputs": [
    {
     "data": {
      "text/html": [
       "<div>\n",
       "<style scoped>\n",
       "    .dataframe tbody tr th:only-of-type {\n",
       "        vertical-align: middle;\n",
       "    }\n",
       "\n",
       "    .dataframe tbody tr th {\n",
       "        vertical-align: top;\n",
       "    }\n",
       "\n",
       "    .dataframe thead th {\n",
       "        text-align: right;\n",
       "    }\n",
       "</style>\n",
       "<table border=\"1\" class=\"dataframe\">\n",
       "  <thead>\n",
       "    <tr style=\"text-align: right;\">\n",
       "      <th></th>\n",
       "      <th>sepal length (cm)</th>\n",
       "      <th>sepal width (cm)</th>\n",
       "      <th>petal length (cm)</th>\n",
       "      <th>petal width (cm)</th>\n",
       "    </tr>\n",
       "  </thead>\n",
       "  <tbody>\n",
       "    <tr>\n",
       "      <th>0</th>\n",
       "      <td>1.3</td>\n",
       "      <td>1.3</td>\n",
       "      <td>1.3</td>\n",
       "      <td>1.3</td>\n",
       "    </tr>\n",
       "    <tr>\n",
       "      <th>1</th>\n",
       "      <td>6.5</td>\n",
       "      <td>1.6</td>\n",
       "      <td>8.6</td>\n",
       "      <td>2.4</td>\n",
       "    </tr>\n",
       "  </tbody>\n",
       "</table>\n",
       "</div>"
      ],
      "text/plain": [
       "   sepal length (cm)  sepal width (cm)  petal length (cm)  petal width (cm)\n",
       "0                1.3               1.3                1.3               1.3\n",
       "1                6.5               1.6                8.6               2.4"
      ]
     },
     "execution_count": 12,
     "metadata": {},
     "output_type": "execute_result"
    }
   ],
   "source": [
    "test_df = pd.DataFrame([[1.3, 1.3, 1.3, 1.3], [6.5, 1.6, 8.6, 2.4]], columns=['sepal length (cm)', 'sepal width (cm)', 'petal length (cm)', 'petal width (cm)'])\n",
    "test_df.head()"
   ]
  },
  {
   "cell_type": "markdown",
   "metadata": {},
   "source": [
    "**IMPORTANT:** if you are not using a pipeline, you have to apply all the data preparation steps (without sampling) also to your data that shall be predicted"
   ]
  },
  {
   "cell_type": "code",
   "execution_count": 13,
   "metadata": {},
   "outputs": [],
   "source": [
    "test_df = scaler.scale(test_df, train_on=False)\n",
    "test_df = selector.select(test_df, train_on=False)"
   ]
  },
  {
   "cell_type": "code",
   "execution_count": 14,
   "metadata": {},
   "outputs": [
    {
     "data": {
      "text/plain": [
       "[0, 2]"
      ]
     },
     "execution_count": 14,
     "metadata": {},
     "output_type": "execute_result"
    }
   ],
   "source": [
    "model.predict(test_df)"
   ]
  },
  {
   "cell_type": "markdown",
   "metadata": {},
   "source": [
    "### 3.2. hyperparameter tuning"
   ]
  },
  {
   "cell_type": "markdown",
   "metadata": {},
   "source": [
    "The default type of hyperparameter tuning is the *RandomizedSearchCV*; however, with the **rand_search** parameter in the **gridsearch** method you can change it to *GridSearchCV*. (it is recommended to use *RandomizedSearchCV* because it does not take so much time)"
   ]
  },
  {
   "cell_type": "markdown",
   "metadata": {},
   "source": [
    "you can get the hyperparameter tuning grid as followed:"
   ]
  },
  {
   "cell_type": "code",
   "execution_count": 15,
   "metadata": {},
   "outputs": [
    {
     "data": {
      "text/plain": [
       "{'n_estimators': [1, 2, 4, 8, 16, 32, 64, 100, 200, 500, 1000],\n",
       " 'max_depth': [2, 3, 4, 5, 6, 7, 8, 10, 15],\n",
       " 'min_samples_split': [2, 3, 5, 10],\n",
       " 'min_samples_leaf': [1, 2, 4],\n",
       " 'bootstrap': [True, False],\n",
       " 'criterion': ['gini', 'entropy']}"
      ]
     },
     "execution_count": 15,
     "metadata": {},
     "output_type": "execute_result"
    }
   ],
   "source": [
    "model.grid"
   ]
  },
  {
   "cell_type": "markdown",
   "metadata": {},
   "source": [
    "you can change the hyperparameter tuning grid as followed:"
   ]
  },
  {
   "cell_type": "code",
   "execution_count": 16,
   "metadata": {},
   "outputs": [],
   "source": [
    "model.update_grid(max_depth = [5,6,7,8,9])"
   ]
  },
  {
   "cell_type": "code",
   "execution_count": 17,
   "metadata": {},
   "outputs": [
    {
     "data": {
      "text/plain": [
       "{'n_estimators': [1, 2, 4, 8, 16, 32, 64, 100, 200, 500, 1000],\n",
       " 'max_depth': [5, 6, 7, 8, 9],\n",
       " 'min_samples_split': [2, 3, 5, 10],\n",
       " 'min_samples_leaf': [1, 2, 4],\n",
       " 'bootstrap': [True, False],\n",
       " 'criterion': ['gini', 'entropy']}"
      ]
     },
     "execution_count": 17,
     "metadata": {},
     "output_type": "execute_result"
    }
   ],
   "source": [
    "model.grid"
   ]
  },
  {
   "cell_type": "markdown",
   "metadata": {},
   "source": [
    "#### 3.2.1. recall optimization (with recall_score function)"
   ]
  },
  {
   "cell_type": "markdown",
   "metadata": {},
   "source": [
    "simple scoring with recall/precision/accurracy"
   ]
  },
  {
   "cell_type": "code",
   "execution_count": 18,
   "metadata": {},
   "outputs": [
    {
     "name": "stdout",
     "output_type": "stream",
     "text": [
      "grid:  {'n_estimators': [1, 2, 4, 8, 16, 32, 64, 100, 200, 500, 1000], 'max_depth': [5, 6, 7, 8, 9], 'min_samples_split': [2, 3, 5, 10], 'min_samples_leaf': [1, 2, 4], 'bootstrap': [True, False], 'criterion': ['gini', 'entropy']}\n",
      "\n",
      "starting hyperparameter tuning...\n",
      "... hyperparameter tuning finished\n",
      "\n",
      "mean: 0.943889 (stdev: 0.064043) with: {'n_estimators': 8, 'min_samples_split': 5, 'min_samples_leaf': 1, 'max_depth': 5, 'criterion': 'entropy', 'bootstrap': False}\n",
      "mean: 0.946111 (stdev: 0.058639) with: {'n_estimators': 1000, 'min_samples_split': 5, 'min_samples_leaf': 1, 'max_depth': 5, 'criterion': 'gini', 'bootstrap': True}\n",
      "mean: 0.941111 (stdev: 0.063353) with: {'n_estimators': 32, 'min_samples_split': 10, 'min_samples_leaf': 1, 'max_depth': 7, 'criterion': 'entropy', 'bootstrap': True}\n",
      "mean: 0.943333 (stdev: 0.061854) with: {'n_estimators': 500, 'min_samples_split': 2, 'min_samples_leaf': 1, 'max_depth': 6, 'criterion': 'gini', 'bootstrap': False}\n",
      "mean: 0.941111 (stdev: 0.059587) with: {'n_estimators': 32, 'min_samples_split': 10, 'min_samples_leaf': 2, 'max_depth': 8, 'criterion': 'gini', 'bootstrap': True}\n",
      "mean: 0.943333 (stdev: 0.061854) with: {'n_estimators': 100, 'min_samples_split': 10, 'min_samples_leaf': 2, 'max_depth': 9, 'criterion': 'entropy', 'bootstrap': True}\n",
      "mean: 0.922222 (stdev: 0.068358) with: {'n_estimators': 4, 'min_samples_split': 10, 'min_samples_leaf': 2, 'max_depth': 6, 'criterion': 'gini', 'bootstrap': True}\n",
      "mean: 0.876667 (stdev: 0.090840) with: {'n_estimators': 1, 'min_samples_split': 10, 'min_samples_leaf': 4, 'max_depth': 9, 'criterion': 'entropy', 'bootstrap': True}\n",
      "mean: 0.935000 (stdev: 0.066576) with: {'n_estimators': 100, 'min_samples_split': 5, 'min_samples_leaf': 1, 'max_depth': 8, 'criterion': 'gini', 'bootstrap': False}\n",
      "mean: 0.932778 (stdev: 0.067149) with: {'n_estimators': 4, 'min_samples_split': 2, 'min_samples_leaf': 2, 'max_depth': 6, 'criterion': 'gini', 'bootstrap': False}\n",
      "mean: 0.938333 (stdev: 0.058871) with: {'n_estimators': 8, 'min_samples_split': 2, 'min_samples_leaf': 4, 'max_depth': 5, 'criterion': 'gini', 'bootstrap': False}\n",
      "mean: 0.943333 (stdev: 0.055544) with: {'n_estimators': 200, 'min_samples_split': 5, 'min_samples_leaf': 4, 'max_depth': 8, 'criterion': 'entropy', 'bootstrap': False}\n",
      "mean: 0.940556 (stdev: 0.061114) with: {'n_estimators': 500, 'min_samples_split': 5, 'min_samples_leaf': 2, 'max_depth': 5, 'criterion': 'gini', 'bootstrap': False}\n",
      "mean: 0.924444 (stdev: 0.067595) with: {'n_estimators': 4, 'min_samples_split': 2, 'min_samples_leaf': 4, 'max_depth': 5, 'criterion': 'gini', 'bootstrap': False}\n",
      "mean: 0.943333 (stdev: 0.057991) with: {'n_estimators': 1000, 'min_samples_split': 5, 'min_samples_leaf': 2, 'max_depth': 9, 'criterion': 'entropy', 'bootstrap': True}\n",
      "mean: 0.920000 (stdev: 0.078102) with: {'n_estimators': 4, 'min_samples_split': 5, 'min_samples_leaf': 2, 'max_depth': 8, 'criterion': 'entropy', 'bootstrap': False}\n",
      "mean: 0.936667 (stdev: 0.072444) with: {'n_estimators': 4, 'min_samples_split': 3, 'min_samples_leaf': 1, 'max_depth': 6, 'criterion': 'entropy', 'bootstrap': False}\n",
      "mean: 0.937778 (stdev: 0.067486) with: {'n_estimators': 32, 'min_samples_split': 2, 'min_samples_leaf': 1, 'max_depth': 5, 'criterion': 'gini', 'bootstrap': False}\n",
      "mean: 0.937778 (stdev: 0.067486) with: {'n_estimators': 2, 'min_samples_split': 2, 'min_samples_leaf': 4, 'max_depth': 8, 'criterion': 'gini', 'bootstrap': True}\n",
      "mean: 0.946111 (stdev: 0.051941) with: {'n_estimators': 1000, 'min_samples_split': 10, 'min_samples_leaf': 4, 'max_depth': 5, 'criterion': 'gini', 'bootstrap': False}\n",
      "mean: 0.908889 (stdev: 0.078497) with: {'n_estimators': 1, 'min_samples_split': 2, 'min_samples_leaf': 1, 'max_depth': 8, 'criterion': 'entropy', 'bootstrap': True}\n",
      "mean: 0.928889 (stdev: 0.076247) with: {'n_estimators': 8, 'min_samples_split': 3, 'min_samples_leaf': 1, 'max_depth': 8, 'criterion': 'gini', 'bootstrap': True}\n",
      "mean: 0.947222 (stdev: 0.061777) with: {'n_estimators': 8, 'min_samples_split': 5, 'min_samples_leaf': 1, 'max_depth': 9, 'criterion': 'entropy', 'bootstrap': True}\n",
      "mean: 0.943333 (stdev: 0.061854) with: {'n_estimators': 200, 'min_samples_split': 2, 'min_samples_leaf': 2, 'max_depth': 9, 'criterion': 'entropy', 'bootstrap': False}\n",
      "mean: 0.930000 (stdev: 0.074585) with: {'n_estimators': 4, 'min_samples_split': 5, 'min_samples_leaf': 1, 'max_depth': 8, 'criterion': 'gini', 'bootstrap': False}\n",
      "mean: 0.943333 (stdev: 0.057991) with: {'n_estimators': 64, 'min_samples_split': 10, 'min_samples_leaf': 2, 'max_depth': 8, 'criterion': 'entropy', 'bootstrap': False}\n",
      "mean: 0.930000 (stdev: 0.066722) with: {'n_estimators': 4, 'min_samples_split': 5, 'min_samples_leaf': 2, 'max_depth': 8, 'criterion': 'gini', 'bootstrap': True}\n",
      "mean: 0.935556 (stdev: 0.065225) with: {'n_estimators': 64, 'min_samples_split': 2, 'min_samples_leaf': 2, 'max_depth': 8, 'criterion': 'gini', 'bootstrap': False}\n",
      "mean: 0.946111 (stdev: 0.058639) with: {'n_estimators': 1000, 'min_samples_split': 2, 'min_samples_leaf': 2, 'max_depth': 9, 'criterion': 'gini', 'bootstrap': True}\n",
      "mean: 0.940556 (stdev: 0.061114) with: {'n_estimators': 200, 'min_samples_split': 2, 'min_samples_leaf': 1, 'max_depth': 6, 'criterion': 'entropy', 'bootstrap': False}\n",
      "mean: 0.932222 (stdev: 0.065537) with: {'n_estimators': 2, 'min_samples_split': 10, 'min_samples_leaf': 1, 'max_depth': 8, 'criterion': 'gini', 'bootstrap': True}\n",
      "mean: 0.940556 (stdev: 0.061114) with: {'n_estimators': 1000, 'min_samples_split': 3, 'min_samples_leaf': 2, 'max_depth': 6, 'criterion': 'entropy', 'bootstrap': False}\n",
      "mean: 0.921667 (stdev: 0.077478) with: {'n_estimators': 1, 'min_samples_split': 3, 'min_samples_leaf': 2, 'max_depth': 5, 'criterion': 'gini', 'bootstrap': False}\n",
      "mean: 0.943333 (stdev: 0.057991) with: {'n_estimators': 64, 'min_samples_split': 10, 'min_samples_leaf': 1, 'max_depth': 5, 'criterion': 'entropy', 'bootstrap': False}\n",
      "mean: 0.936111 (stdev: 0.066120) with: {'n_estimators': 32, 'min_samples_split': 2, 'min_samples_leaf': 2, 'max_depth': 6, 'criterion': 'entropy', 'bootstrap': False}\n",
      "mean: 0.932778 (stdev: 0.074097) with: {'n_estimators': 2, 'min_samples_split': 3, 'min_samples_leaf': 2, 'max_depth': 5, 'criterion': 'gini', 'bootstrap': True}\n",
      "mean: 0.946111 (stdev: 0.051941) with: {'n_estimators': 100, 'min_samples_split': 5, 'min_samples_leaf': 4, 'max_depth': 9, 'criterion': 'gini', 'bootstrap': False}\n",
      "mean: 0.920556 (stdev: 0.064361) with: {'n_estimators': 4, 'min_samples_split': 3, 'min_samples_leaf': 2, 'max_depth': 8, 'criterion': 'entropy', 'bootstrap': True}\n",
      "mean: 0.935000 (stdev: 0.069967) with: {'n_estimators': 2, 'min_samples_split': 2, 'min_samples_leaf': 2, 'max_depth': 5, 'criterion': 'entropy', 'bootstrap': True}\n",
      "mean: 0.945556 (stdev: 0.064683) with: {'n_estimators': 2, 'min_samples_split': 2, 'min_samples_leaf': 2, 'max_depth': 5, 'criterion': 'entropy', 'bootstrap': False}\n",
      "mean: 0.940000 (stdev: 0.063333) with: {'n_estimators': 2, 'min_samples_split': 2, 'min_samples_leaf': 4, 'max_depth': 8, 'criterion': 'gini', 'bootstrap': False}\n",
      "mean: 0.943889 (stdev: 0.060474) with: {'n_estimators': 500, 'min_samples_split': 3, 'min_samples_leaf': 4, 'max_depth': 7, 'criterion': 'entropy', 'bootstrap': True}\n",
      "mean: 0.935556 (stdev: 0.065225) with: {'n_estimators': 64, 'min_samples_split': 5, 'min_samples_leaf': 2, 'max_depth': 9, 'criterion': 'gini', 'bootstrap': False}\n",
      "mean: 0.933333 (stdev: 0.067905) with: {'n_estimators': 32, 'min_samples_split': 3, 'min_samples_leaf': 4, 'max_depth': 9, 'criterion': 'gini', 'bootstrap': True}\n",
      "mean: 0.935556 (stdev: 0.061574) with: {'n_estimators': 16, 'min_samples_split': 5, 'min_samples_leaf': 1, 'max_depth': 8, 'criterion': 'entropy', 'bootstrap': False}\n",
      "mean: 0.940556 (stdev: 0.064791) with: {'n_estimators': 500, 'min_samples_split': 3, 'min_samples_leaf': 1, 'max_depth': 7, 'criterion': 'entropy', 'bootstrap': True}\n",
      "mean: 0.926667 (stdev: 0.079303) with: {'n_estimators': 1, 'min_samples_split': 2, 'min_samples_leaf': 1, 'max_depth': 7, 'criterion': 'entropy', 'bootstrap': False}\n",
      "mean: 0.932778 (stdev: 0.075582) with: {'n_estimators': 4, 'min_samples_split': 5, 'min_samples_leaf': 1, 'max_depth': 6, 'criterion': 'gini', 'bootstrap': False}\n",
      "mean: 0.943333 (stdev: 0.061854) with: {'n_estimators': 500, 'min_samples_split': 2, 'min_samples_leaf': 2, 'max_depth': 9, 'criterion': 'entropy', 'bootstrap': False}\n",
      "mean: 0.915000 (stdev: 0.074206) with: {'n_estimators': 4, 'min_samples_split': 3, 'min_samples_leaf': 4, 'max_depth': 9, 'criterion': 'entropy', 'bootstrap': False}\n",
      "mean: 0.889444 (stdev: 0.080793) with: {'n_estimators': 1, 'min_samples_split': 2, 'min_samples_leaf': 4, 'max_depth': 7, 'criterion': 'entropy', 'bootstrap': False}\n",
      "mean: 0.881667 (stdev: 0.089789) with: {'n_estimators': 1, 'min_samples_split': 3, 'min_samples_leaf': 1, 'max_depth': 8, 'criterion': 'gini', 'bootstrap': True}\n",
      "mean: 0.941111 (stdev: 0.063353) with: {'n_estimators': 32, 'min_samples_split': 10, 'min_samples_leaf': 2, 'max_depth': 6, 'criterion': 'entropy', 'bootstrap': False}\n",
      "mean: 0.885000 (stdev: 0.087066) with: {'n_estimators': 1, 'min_samples_split': 2, 'min_samples_leaf': 2, 'max_depth': 5, 'criterion': 'gini', 'bootstrap': True}\n",
      "mean: 0.940556 (stdev: 0.061114) with: {'n_estimators': 100, 'min_samples_split': 5, 'min_samples_leaf': 2, 'max_depth': 5, 'criterion': 'gini', 'bootstrap': True}\n",
      "mean: 0.931111 (stdev: 0.071068) with: {'n_estimators': 16, 'min_samples_split': 2, 'min_samples_leaf': 2, 'max_depth': 6, 'criterion': 'entropy', 'bootstrap': True}\n",
      "mean: 0.940556 (stdev: 0.061114) with: {'n_estimators': 1000, 'min_samples_split': 5, 'min_samples_leaf': 2, 'max_depth': 8, 'criterion': 'entropy', 'bootstrap': False}\n",
      "mean: 0.941111 (stdev: 0.059587) with: {'n_estimators': 16, 'min_samples_split': 5, 'min_samples_leaf': 1, 'max_depth': 9, 'criterion': 'gini', 'bootstrap': True}\n",
      "mean: 0.936667 (stdev: 0.072954) with: {'n_estimators': 16, 'min_samples_split': 5, 'min_samples_leaf': 2, 'max_depth': 6, 'criterion': 'entropy', 'bootstrap': True}\n",
      "mean: 0.946111 (stdev: 0.051941) with: {'n_estimators': 100, 'min_samples_split': 3, 'min_samples_leaf': 4, 'max_depth': 8, 'criterion': 'entropy', 'bootstrap': False}\n",
      "mean: 0.935556 (stdev: 0.065225) with: {'n_estimators': 64, 'min_samples_split': 3, 'min_samples_leaf': 2, 'max_depth': 9, 'criterion': 'gini', 'bootstrap': False}\n",
      "mean: 0.876667 (stdev: 0.090840) with: {'n_estimators': 1, 'min_samples_split': 3, 'min_samples_leaf': 4, 'max_depth': 5, 'criterion': 'entropy', 'bootstrap': True}\n",
      "mean: 0.942778 (stdev: 0.064072) with: {'n_estimators': 2, 'min_samples_split': 10, 'min_samples_leaf': 2, 'max_depth': 6, 'criterion': 'gini', 'bootstrap': False}\n",
      "mean: 0.946111 (stdev: 0.062462) with: {'n_estimators': 100, 'min_samples_split': 3, 'min_samples_leaf': 1, 'max_depth': 6, 'criterion': 'entropy', 'bootstrap': True}\n",
      "mean: 0.947222 (stdev: 0.051114) with: {'n_estimators': 8, 'min_samples_split': 10, 'min_samples_leaf': 4, 'max_depth': 5, 'criterion': 'gini', 'bootstrap': True}\n",
      "mean: 0.943889 (stdev: 0.056517) with: {'n_estimators': 100, 'min_samples_split': 10, 'min_samples_leaf': 4, 'max_depth': 6, 'criterion': 'gini', 'bootstrap': False}\n",
      "mean: 0.940556 (stdev: 0.061114) with: {'n_estimators': 100, 'min_samples_split': 3, 'min_samples_leaf': 2, 'max_depth': 7, 'criterion': 'entropy', 'bootstrap': False}\n",
      "mean: 0.943333 (stdev: 0.057991) with: {'n_estimators': 1000, 'min_samples_split': 2, 'min_samples_leaf': 2, 'max_depth': 9, 'criterion': 'entropy', 'bootstrap': True}\n",
      "mean: 0.933889 (stdev: 0.063899) with: {'n_estimators': 16, 'min_samples_split': 10, 'min_samples_leaf': 1, 'max_depth': 7, 'criterion': 'entropy', 'bootstrap': True}\n",
      "mean: 0.941667 (stdev: 0.063501) with: {'n_estimators': 16, 'min_samples_split': 5, 'min_samples_leaf': 2, 'max_depth': 5, 'criterion': 'gini', 'bootstrap': True}\n",
      "mean: 0.936667 (stdev: 0.064893) with: {'n_estimators': 8, 'min_samples_split': 5, 'min_samples_leaf': 4, 'max_depth': 7, 'criterion': 'entropy', 'bootstrap': True}\n",
      "mean: 0.936111 (stdev: 0.060259) with: {'n_estimators': 16, 'min_samples_split': 2, 'min_samples_leaf': 4, 'max_depth': 9, 'criterion': 'gini', 'bootstrap': True}\n",
      "mean: 0.941111 (stdev: 0.063353) with: {'n_estimators': 32, 'min_samples_split': 10, 'min_samples_leaf': 2, 'max_depth': 6, 'criterion': 'entropy', 'bootstrap': True}\n",
      "mean: 0.933889 (stdev: 0.074720) with: {'n_estimators': 8, 'min_samples_split': 3, 'min_samples_leaf': 1, 'max_depth': 8, 'criterion': 'entropy', 'bootstrap': False}\n",
      "mean: 0.935556 (stdev: 0.065225) with: {'n_estimators': 64, 'min_samples_split': 5, 'min_samples_leaf': 1, 'max_depth': 9, 'criterion': 'gini', 'bootstrap': False}\n",
      "\n",
      "Best: 0.947222 using {'n_estimators': 8, 'min_samples_split': 10, 'min_samples_leaf': 4, 'max_depth': 5, 'criterion': 'gini', 'bootstrap': True}\n",
      "\n",
      "starting to train best model...\n",
      "... best model trained\n",
      "accuracy:  1.0\n",
      "precision:  1.0\n",
      "recall:  1.0\n",
      "s_score:  0.9926004570086354\n",
      "l_score:  1.0\n",
      "\n",
      "classification report: \n",
      "              precision    recall  f1-score   support\n",
      "\n",
      "           0       1.00      1.00      1.00        10\n",
      "           1       1.00      1.00      1.00         9\n",
      "           2       1.00      1.00      1.00        11\n",
      "\n",
      "    accuracy                           1.00        30\n",
      "   macro avg       1.00      1.00      1.00        30\n",
      "weighted avg       1.00      1.00      1.00        30\n",
      "\n"
     ]
    },
    {
     "data": {
      "text/plain": [
       "{'accuracy': 1.0,\n",
       " 'precision': 1.0,\n",
       " 'recall': 1.0,\n",
       " 's_score': 0.9926004570086354,\n",
       " 'l_score': 1.0}"
      ]
     },
     "execution_count": 18,
     "metadata": {},
     "output_type": "execute_result"
    }
   ],
   "source": [
    "model.gridsearch(x_train, y_train, scoring=\"recall\", avg=\"macro\", train_afterwards=True)\n",
    "model.evaluate(x_test, y_test, avg=\"macro\")"
   ]
  },
  {
   "cell_type": "markdown",
   "metadata": {},
   "source": [
    "#### 3.2.2. recall optimization (with s_scoring function)"
   ]
  },
  {
   "cell_type": "markdown",
   "metadata": {},
   "source": [
    "advanced scoring with s_score/l_score:\n",
    "- **secondary_scoring** and **pos_label** to priorities metrics/classes in optimization\n",
    "- **strength** to set how much the priorization is compared to scores in all the other metrics/classes\n",
    "- always includes all metrics/classes and punishes really bad scores in one metric/class"
   ]
  },
  {
   "cell_type": "code",
   "execution_count": 19,
   "metadata": {},
   "outputs": [
    {
     "name": "stdout",
     "output_type": "stream",
     "text": [
      "grid:  {'n_estimators': [1, 2, 4, 8, 16, 32, 64, 100, 200, 500, 1000], 'max_depth': [5, 6, 7, 8, 9], 'min_samples_split': [2, 3, 5, 10], 'min_samples_leaf': [1, 2, 4], 'bootstrap': [True, False], 'criterion': ['gini', 'entropy']}\n",
      "\n",
      "starting hyperparameter tuning...\n",
      "... hyperparameter tuning finished\n",
      "\n",
      "mean: 0.878678 (stdev: 0.171852) with: {'n_estimators': 8, 'min_samples_split': 5, 'min_samples_leaf': 1, 'max_depth': 5, 'criterion': 'entropy', 'bootstrap': False}\n",
      "mean: 0.891582 (stdev: 0.158429) with: {'n_estimators': 1000, 'min_samples_split': 5, 'min_samples_leaf': 1, 'max_depth': 5, 'criterion': 'gini', 'bootstrap': True}\n",
      "mean: 0.857304 (stdev: 0.205789) with: {'n_estimators': 32, 'min_samples_split': 10, 'min_samples_leaf': 1, 'max_depth': 7, 'criterion': 'entropy', 'bootstrap': True}\n",
      "mean: 0.888090 (stdev: 0.159702) with: {'n_estimators': 500, 'min_samples_split': 2, 'min_samples_leaf': 1, 'max_depth': 6, 'criterion': 'gini', 'bootstrap': False}\n",
      "mean: 0.875808 (stdev: 0.168807) with: {'n_estimators': 32, 'min_samples_split': 10, 'min_samples_leaf': 2, 'max_depth': 8, 'criterion': 'gini', 'bootstrap': True}\n",
      "mean: 0.869832 (stdev: 0.197833) with: {'n_estimators': 100, 'min_samples_split': 10, 'min_samples_leaf': 2, 'max_depth': 9, 'criterion': 'entropy', 'bootstrap': True}\n",
      "mean: 0.820096 (stdev: 0.237903) with: {'n_estimators': 4, 'min_samples_split': 10, 'min_samples_leaf': 2, 'max_depth': 6, 'criterion': 'gini', 'bootstrap': True}\n",
      "mean: 0.697949 (stdev: 0.309020) with: {'n_estimators': 1, 'min_samples_split': 10, 'min_samples_leaf': 4, 'max_depth': 9, 'criterion': 'entropy', 'bootstrap': True}\n",
      "mean: 0.841553 (stdev: 0.226923) with: {'n_estimators': 100, 'min_samples_split': 5, 'min_samples_leaf': 1, 'max_depth': 8, 'criterion': 'gini', 'bootstrap': False}\n",
      "mean: 0.824359 (stdev: 0.259227) with: {'n_estimators': 4, 'min_samples_split': 2, 'min_samples_leaf': 2, 'max_depth': 6, 'criterion': 'gini', 'bootstrap': False}\n",
      "mean: 0.849628 (stdev: 0.234327) with: {'n_estimators': 8, 'min_samples_split': 2, 'min_samples_leaf': 4, 'max_depth': 5, 'criterion': 'gini', 'bootstrap': False}\n",
      "mean: 0.888033 (stdev: 0.151158) with: {'n_estimators': 200, 'min_samples_split': 5, 'min_samples_leaf': 4, 'max_depth': 8, 'criterion': 'entropy', 'bootstrap': False}\n",
      "mean: 0.866717 (stdev: 0.196782) with: {'n_estimators': 500, 'min_samples_split': 5, 'min_samples_leaf': 2, 'max_depth': 5, 'criterion': 'gini', 'bootstrap': False}\n",
      "mean: 0.814366 (stdev: 0.256763) with: {'n_estimators': 4, 'min_samples_split': 2, 'min_samples_leaf': 4, 'max_depth': 5, 'criterion': 'gini', 'bootstrap': False}\n",
      "mean: 0.888466 (stdev: 0.157545) with: {'n_estimators': 1000, 'min_samples_split': 5, 'min_samples_leaf': 2, 'max_depth': 9, 'criterion': 'entropy', 'bootstrap': True}\n",
      "mean: 0.800563 (stdev: 0.269653) with: {'n_estimators': 4, 'min_samples_split': 5, 'min_samples_leaf': 2, 'max_depth': 8, 'criterion': 'entropy', 'bootstrap': False}\n",
      "mean: 0.875587 (stdev: 0.193911) with: {'n_estimators': 4, 'min_samples_split': 3, 'min_samples_leaf': 1, 'max_depth': 6, 'criterion': 'entropy', 'bootstrap': False}\n",
      "mean: 0.881107 (stdev: 0.161992) with: {'n_estimators': 32, 'min_samples_split': 2, 'min_samples_leaf': 1, 'max_depth': 5, 'criterion': 'gini', 'bootstrap': False}\n",
      "mean: 0.862927 (stdev: 0.198372) with: {'n_estimators': 2, 'min_samples_split': 2, 'min_samples_leaf': 4, 'max_depth': 8, 'criterion': 'gini', 'bootstrap': True}\n",
      "mean: 0.891525 (stdev: 0.149814) with: {'n_estimators': 1000, 'min_samples_split': 10, 'min_samples_leaf': 4, 'max_depth': 5, 'criterion': 'gini', 'bootstrap': False}\n",
      "mean: 0.783394 (stdev: 0.278020) with: {'n_estimators': 1, 'min_samples_split': 2, 'min_samples_leaf': 1, 'max_depth': 8, 'criterion': 'entropy', 'bootstrap': True}\n",
      "mean: 0.817484 (stdev: 0.277318) with: {'n_estimators': 8, 'min_samples_split': 3, 'min_samples_leaf': 1, 'max_depth': 8, 'criterion': 'gini', 'bootstrap': True}\n",
      "mean: 0.868890 (stdev: 0.219843) with: {'n_estimators': 8, 'min_samples_split': 5, 'min_samples_leaf': 1, 'max_depth': 9, 'criterion': 'entropy', 'bootstrap': True}\n",
      "mean: 0.869832 (stdev: 0.197833) with: {'n_estimators': 200, 'min_samples_split': 2, 'min_samples_leaf': 2, 'max_depth': 9, 'criterion': 'entropy', 'bootstrap': False}\n",
      "mean: 0.842068 (stdev: 0.236987) with: {'n_estimators': 4, 'min_samples_split': 5, 'min_samples_leaf': 1, 'max_depth': 8, 'criterion': 'gini', 'bootstrap': False}\n",
      "mean: 0.888466 (stdev: 0.157545) with: {'n_estimators': 64, 'min_samples_split': 10, 'min_samples_leaf': 2, 'max_depth': 8, 'criterion': 'entropy', 'bootstrap': False}\n",
      "mean: 0.821103 (stdev: 0.258406) with: {'n_estimators': 4, 'min_samples_split': 5, 'min_samples_leaf': 2, 'max_depth': 8, 'criterion': 'gini', 'bootstrap': True}\n",
      "mean: 0.850697 (stdev: 0.204939) with: {'n_estimators': 64, 'min_samples_split': 2, 'min_samples_leaf': 2, 'max_depth': 8, 'criterion': 'gini', 'bootstrap': False}\n",
      "mean: 0.891582 (stdev: 0.158429) with: {'n_estimators': 1000, 'min_samples_split': 2, 'min_samples_leaf': 2, 'max_depth': 9, 'criterion': 'gini', 'bootstrap': True}\n",
      "mean: 0.884845 (stdev: 0.158755) with: {'n_estimators': 200, 'min_samples_split': 2, 'min_samples_leaf': 1, 'max_depth': 6, 'criterion': 'entropy', 'bootstrap': False}\n",
      "mean: 0.856566 (stdev: 0.195981) with: {'n_estimators': 2, 'min_samples_split': 10, 'min_samples_leaf': 1, 'max_depth': 8, 'criterion': 'gini', 'bootstrap': True}\n",
      "mean: 0.866717 (stdev: 0.196782) with: {'n_estimators': 1000, 'min_samples_split': 3, 'min_samples_leaf': 2, 'max_depth': 6, 'criterion': 'entropy', 'bootstrap': False}\n",
      "mean: 0.790515 (stdev: 0.270864) with: {'n_estimators': 1, 'min_samples_split': 3, 'min_samples_leaf': 2, 'max_depth': 5, 'criterion': 'gini', 'bootstrap': False}\n",
      "mean: 0.888466 (stdev: 0.157545) with: {'n_estimators': 64, 'min_samples_split': 10, 'min_samples_leaf': 1, 'max_depth': 5, 'criterion': 'entropy', 'bootstrap': False}\n",
      "mean: 0.837417 (stdev: 0.245563) with: {'n_estimators': 32, 'min_samples_split': 2, 'min_samples_leaf': 2, 'max_depth': 6, 'criterion': 'entropy', 'bootstrap': False}\n",
      "mean: 0.858414 (stdev: 0.202129) with: {'n_estimators': 2, 'min_samples_split': 3, 'min_samples_leaf': 2, 'max_depth': 5, 'criterion': 'gini', 'bootstrap': True}\n",
      "mean: 0.891525 (stdev: 0.149814) with: {'n_estimators': 100, 'min_samples_split': 5, 'min_samples_leaf': 4, 'max_depth': 9, 'criterion': 'gini', 'bootstrap': False}\n",
      "mean: 0.805041 (stdev: 0.270431) with: {'n_estimators': 4, 'min_samples_split': 3, 'min_samples_leaf': 2, 'max_depth': 8, 'criterion': 'entropy', 'bootstrap': True}\n",
      "mean: 0.859435 (stdev: 0.198888) with: {'n_estimators': 2, 'min_samples_split': 2, 'min_samples_leaf': 2, 'max_depth': 5, 'criterion': 'entropy', 'bootstrap': True}\n",
      "mean: 0.863396 (stdev: 0.218711) with: {'n_estimators': 2, 'min_samples_split': 2, 'min_samples_leaf': 2, 'max_depth': 5, 'criterion': 'entropy', 'bootstrap': False}\n",
      "mean: 0.875163 (stdev: 0.183653) with: {'n_estimators': 2, 'min_samples_split': 2, 'min_samples_leaf': 4, 'max_depth': 8, 'criterion': 'gini', 'bootstrap': False}\n",
      "mean: 0.856119 (stdev: 0.236534) with: {'n_estimators': 500, 'min_samples_split': 3, 'min_samples_leaf': 4, 'max_depth': 7, 'criterion': 'entropy', 'bootstrap': True}\n",
      "mean: 0.850697 (stdev: 0.204939) with: {'n_estimators': 64, 'min_samples_split': 5, 'min_samples_leaf': 2, 'max_depth': 9, 'criterion': 'gini', 'bootstrap': False}\n",
      "mean: 0.836821 (stdev: 0.241414) with: {'n_estimators': 32, 'min_samples_split': 3, 'min_samples_leaf': 4, 'max_depth': 9, 'criterion': 'gini', 'bootstrap': True}\n",
      "mean: 0.850813 (stdev: 0.203286) with: {'n_estimators': 16, 'min_samples_split': 5, 'min_samples_leaf': 1, 'max_depth': 8, 'criterion': 'entropy', 'bootstrap': False}\n",
      "mean: 0.866210 (stdev: 0.198459) with: {'n_estimators': 500, 'min_samples_split': 3, 'min_samples_leaf': 1, 'max_depth': 7, 'criterion': 'entropy', 'bootstrap': True}\n",
      "mean: 0.814630 (stdev: 0.256214) with: {'n_estimators': 1, 'min_samples_split': 2, 'min_samples_leaf': 1, 'max_depth': 7, 'criterion': 'entropy', 'bootstrap': False}\n",
      "mean: 0.845313 (stdev: 0.238206) with: {'n_estimators': 4, 'min_samples_split': 5, 'min_samples_leaf': 1, 'max_depth': 6, 'criterion': 'gini', 'bootstrap': False}\n",
      "mean: 0.869832 (stdev: 0.197833) with: {'n_estimators': 500, 'min_samples_split': 2, 'min_samples_leaf': 2, 'max_depth': 9, 'criterion': 'entropy', 'bootstrap': False}\n",
      "mean: 0.780359 (stdev: 0.292720) with: {'n_estimators': 4, 'min_samples_split': 3, 'min_samples_leaf': 4, 'max_depth': 9, 'criterion': 'entropy', 'bootstrap': False}\n",
      "mean: 0.746084 (stdev: 0.275150) with: {'n_estimators': 1, 'min_samples_split': 2, 'min_samples_leaf': 4, 'max_depth': 7, 'criterion': 'entropy', 'bootstrap': False}\n",
      "mean: 0.716998 (stdev: 0.317641) with: {'n_estimators': 1, 'min_samples_split': 3, 'min_samples_leaf': 1, 'max_depth': 8, 'criterion': 'gini', 'bootstrap': True}\n",
      "mean: 0.875562 (stdev: 0.170802) with: {'n_estimators': 32, 'min_samples_split': 10, 'min_samples_leaf': 2, 'max_depth': 6, 'criterion': 'entropy', 'bootstrap': False}\n",
      "mean: 0.723593 (stdev: 0.309249) with: {'n_estimators': 1, 'min_samples_split': 2, 'min_samples_leaf': 2, 'max_depth': 5, 'criterion': 'gini', 'bootstrap': True}\n",
      "mean: 0.884975 (stdev: 0.158756) with: {'n_estimators': 100, 'min_samples_split': 5, 'min_samples_leaf': 2, 'max_depth': 5, 'criterion': 'gini', 'bootstrap': True}\n",
      "mean: 0.838177 (stdev: 0.253604) with: {'n_estimators': 16, 'min_samples_split': 2, 'min_samples_leaf': 2, 'max_depth': 6, 'criterion': 'entropy', 'bootstrap': True}\n",
      "mean: 0.866717 (stdev: 0.196782) with: {'n_estimators': 1000, 'min_samples_split': 5, 'min_samples_leaf': 2, 'max_depth': 8, 'criterion': 'entropy', 'bootstrap': False}\n",
      "mean: 0.894197 (stdev: 0.121005) with: {'n_estimators': 16, 'min_samples_split': 5, 'min_samples_leaf': 1, 'max_depth': 9, 'criterion': 'gini', 'bootstrap': True}\n",
      "mean: 0.844539 (stdev: 0.255914) with: {'n_estimators': 16, 'min_samples_split': 5, 'min_samples_leaf': 2, 'max_depth': 6, 'criterion': 'entropy', 'bootstrap': True}\n",
      "mean: 0.891525 (stdev: 0.149814) with: {'n_estimators': 100, 'min_samples_split': 3, 'min_samples_leaf': 4, 'max_depth': 8, 'criterion': 'entropy', 'bootstrap': False}\n",
      "mean: 0.850697 (stdev: 0.204939) with: {'n_estimators': 64, 'min_samples_split': 3, 'min_samples_leaf': 2, 'max_depth': 9, 'criterion': 'gini', 'bootstrap': False}\n",
      "mean: 0.697949 (stdev: 0.309020) with: {'n_estimators': 1, 'min_samples_split': 3, 'min_samples_leaf': 4, 'max_depth': 5, 'criterion': 'entropy', 'bootstrap': True}\n",
      "mean: 0.878408 (stdev: 0.184643) with: {'n_estimators': 2, 'min_samples_split': 10, 'min_samples_leaf': 2, 'max_depth': 6, 'criterion': 'gini', 'bootstrap': False}\n",
      "mean: 0.872948 (stdev: 0.198831) with: {'n_estimators': 100, 'min_samples_split': 3, 'min_samples_leaf': 1, 'max_depth': 6, 'criterion': 'entropy', 'bootstrap': True}\n",
      "mean: 0.887467 (stdev: 0.177180) with: {'n_estimators': 8, 'min_samples_split': 10, 'min_samples_leaf': 4, 'max_depth': 5, 'criterion': 'gini', 'bootstrap': True}\n",
      "mean: 0.874754 (stdev: 0.205285) with: {'n_estimators': 100, 'min_samples_split': 10, 'min_samples_leaf': 4, 'max_depth': 6, 'criterion': 'gini', 'bootstrap': False}\n",
      "mean: 0.866717 (stdev: 0.196782) with: {'n_estimators': 100, 'min_samples_split': 3, 'min_samples_leaf': 2, 'max_depth': 7, 'criterion': 'entropy', 'bootstrap': False}\n",
      "mean: 0.888466 (stdev: 0.157545) with: {'n_estimators': 1000, 'min_samples_split': 2, 'min_samples_leaf': 2, 'max_depth': 9, 'criterion': 'entropy', 'bootstrap': True}\n",
      "mean: 0.838587 (stdev: 0.252310) with: {'n_estimators': 16, 'min_samples_split': 10, 'min_samples_leaf': 1, 'max_depth': 7, 'criterion': 'entropy', 'bootstrap': True}\n",
      "mean: 0.883436 (stdev: 0.180167) with: {'n_estimators': 16, 'min_samples_split': 5, 'min_samples_leaf': 2, 'max_depth': 5, 'criterion': 'gini', 'bootstrap': True}\n",
      "mean: 0.805316 (stdev: 0.295776) with: {'n_estimators': 8, 'min_samples_split': 5, 'min_samples_leaf': 4, 'max_depth': 7, 'criterion': 'entropy', 'bootstrap': True}\n",
      "mean: 0.837100 (stdev: 0.240029) with: {'n_estimators': 16, 'min_samples_split': 2, 'min_samples_leaf': 4, 'max_depth': 9, 'criterion': 'gini', 'bootstrap': True}\n",
      "mean: 0.857304 (stdev: 0.205789) with: {'n_estimators': 32, 'min_samples_split': 10, 'min_samples_leaf': 2, 'max_depth': 6, 'criterion': 'entropy', 'bootstrap': True}\n",
      "mean: 0.872095 (stdev: 0.194665) with: {'n_estimators': 8, 'min_samples_split': 3, 'min_samples_leaf': 1, 'max_depth': 8, 'criterion': 'entropy', 'bootstrap': False}\n",
      "mean: 0.850697 (stdev: 0.204939) with: {'n_estimators': 64, 'min_samples_split': 5, 'min_samples_leaf': 1, 'max_depth': 9, 'criterion': 'gini', 'bootstrap': False}\n",
      "\n",
      "Best: 0.894197 using {'n_estimators': 16, 'min_samples_split': 5, 'min_samples_leaf': 1, 'max_depth': 9, 'criterion': 'gini', 'bootstrap': True}\n",
      "\n",
      "starting to train best model...\n",
      "... best model trained\n",
      "accuracy:  1.0\n",
      "precision:  1.0\n",
      "recall:  1.0\n",
      "s_score:  0.9816036781135836\n",
      "l_score:  1.0\n",
      "\n",
      "classification report: \n",
      "              precision    recall  f1-score   support\n",
      "\n",
      "           0       1.00      1.00      1.00        10\n",
      "           1       1.00      1.00      1.00         9\n",
      "           2       1.00      1.00      1.00        11\n",
      "\n",
      "    accuracy                           1.00        30\n",
      "   macro avg       1.00      1.00      1.00        30\n",
      "weighted avg       1.00      1.00      1.00        30\n",
      "\n"
     ]
    },
    {
     "data": {
      "text/plain": [
       "{'accuracy': 1.0,\n",
       " 'precision': 1.0,\n",
       " 'recall': 1.0,\n",
       " 's_score': 0.9816036781135836,\n",
       " 'l_score': 1.0}"
      ]
     },
     "execution_count": 19,
     "metadata": {},
     "output_type": "execute_result"
    }
   ],
   "source": [
    "model.gridsearch(x_train, y_train, scoring=\"s_score\", train_afterwards=True, secondary_scoring=\"recall\", pos_label=-1, strength=4)\n",
    "model.evaluate(x_test, y_test, avg=\"macro\", secondary_scoring=\"recall\", pos_label=-1, strength=4)"
   ]
  },
  {
   "cell_type": "markdown",
   "metadata": {},
   "source": [
    "### 3.3. crossvalidation"
   ]
  },
  {
   "cell_type": "markdown",
   "metadata": {},
   "source": [
    "#### 3.3.1. all-vs-one cross validation"
   ]
  },
  {
   "cell_type": "markdown",
   "metadata": {},
   "source": [
    "**Concept:**\n",
    "\n",
    "The model will be trained on all datapoints except one and then tested on this last one. This will be repeated for all datapoints so that we have our predictions for all datapoints.\n",
    "\n",
    "**Advantage:** optimal use of information for training\n",
    "\n",
    "**Disadvantage:** long train time\n",
    "\n",
    "This concept is very useful for small datasets (datapoints < 150) because the long train time is still not too long and especially with a small amount of information for the model, it is important to use all the information one has for the training."
   ]
  },
  {
   "cell_type": "code",
   "execution_count": 20,
   "metadata": {},
   "outputs": [
    {
     "name": "stdout",
     "output_type": "stream",
     "text": [
      "starting to cross validate...\n"
     ]
    },
    {
     "name": "stderr",
     "output_type": "stream",
     "text": [
      "RandomForestClassifier: 100%|██████████| 150/150 [00:03<00:00, 40.16it/s]\n"
     ]
    },
    {
     "name": "stdout",
     "output_type": "stream",
     "text": [
      "... cross validation completed\n",
      "\n",
      "classification report:\n",
      "              precision    recall  f1-score   support\n",
      "\n",
      "           0       1.00      1.00      1.00        50\n",
      "           1       0.94      0.94      0.94        50\n",
      "           2       0.94      0.94      0.94        50\n",
      "\n",
      "    accuracy                           0.96       150\n",
      "   macro avg       0.96      0.96      0.96       150\n",
      "weighted avg       0.96      0.96      0.96       150\n",
      "\n"
     ]
    },
    {
     "data": {
      "text/plain": [
       "{'accuracy': 0.96,\n",
       " 'precision': 0.96,\n",
       " 'recall': 0.96,\n",
       " 's_score': 0.9874447811652194,\n",
       " 'l_score': 0.9999999753915703,\n",
       " 'avg train score': 0.9775391498881432,\n",
       " 'avg train time': '0:00:00'}"
      ]
     },
     "execution_count": 20,
     "metadata": {},
     "output_type": "execute_result"
    }
   ],
   "source": [
    "model.cross_validation_small_data(X, y, avg=\"macro\")"
   ]
  },
  {
   "cell_type": "markdown",
   "metadata": {},
   "source": [
    "#### 3.3.2. multiple split cross validation"
   ]
  },
  {
   "cell_type": "code",
   "execution_count": 21,
   "metadata": {},
   "outputs": [
    {
     "name": "stdout",
     "output_type": "stream",
     "text": [
      "starting to cross validate...\n",
      "... cross validation completed\n",
      "\n",
      "                                0         1         2         3         4  \\\n",
      "fit_time                 0.031097  0.027962  0.029784  0.024080  0.025127   \n",
      "score_time               0.011113  0.013728  0.013766  0.010923  0.013009   \n",
      "test_precision (macro)   1.000000  1.000000  0.500000  0.916667  0.500000   \n",
      "train_precision (macro)  0.987179  0.993464  1.000000  0.991870  0.993464   \n",
      "test_recall (macro)      1.000000  1.000000  0.450000  0.950000  0.400000   \n",
      "train_recall (macro)     0.986667  0.991667  1.000000  0.988889  0.983333   \n",
      "test_accuracy            1.000000  1.000000  0.900000  0.933333  0.800000   \n",
      "train_accuracy           0.983333  0.991667  1.000000  0.991667  0.991667   \n",
      "test_s_score             0.997527  0.995061  0.002459  0.984473  0.002437   \n",
      "train_s_score            0.991127  0.991846  0.992600  0.991581  0.991268   \n",
      "test_l_score             1.000000  1.000000  0.000000  0.999980  0.000000   \n",
      "train_l_score            1.000000  1.000000  1.000000  1.000000  1.000000   \n",
      "\n",
      "                          average  \n",
      "fit_time                 0.027610  \n",
      "score_time               0.012508  \n",
      "test_precision (macro)   0.783333  \n",
      "train_precision (macro)  0.993196  \n",
      "test_recall (macro)      0.760000  \n",
      "train_recall (macro)     0.990111  \n",
      "test_accuracy            0.926667  \n",
      "train_accuracy           0.991667  \n",
      "test_s_score             0.596391  \n",
      "train_s_score            0.991684  \n",
      "test_l_score             0.599996  \n",
      "train_l_score            1.000000  \n"
     ]
    },
    {
     "data": {
      "text/plain": [
       "{'accuracy': 0.9266666666666665,\n",
       " 'precision': 0.7833333333333334,\n",
       " 'recall': 0.76,\n",
       " 's_score': 0.5963914664550525,\n",
       " 'l_score': 0.5999959011044498,\n",
       " 'avg train score': 0.9916666666666668,\n",
       " 'avg train time': '0:00:00'}"
      ]
     },
     "execution_count": 21,
     "metadata": {},
     "output_type": "execute_result"
    }
   ],
   "source": [
    "model.cross_validation(X, y, cv_num=5, avg=\"macro\")"
   ]
  },
  {
   "cell_type": "markdown",
   "metadata": {},
   "source": [
    "### 3.4. save and load models"
   ]
  },
  {
   "cell_type": "markdown",
   "metadata": {},
   "source": [
    "save your classifier class object with **only_estimator**=False or you can only save the sklearn model with **only_estimator**=True"
   ]
  },
  {
   "cell_type": "code",
   "execution_count": 22,
   "metadata": {},
   "outputs": [
    {
     "name": "stdout",
     "output_type": "stream",
     "text": [
      "saving started...\n",
      "... model saved\n"
     ]
    }
   ],
   "source": [
    "model.save_model(path=\"rfc.pkl\", only_estimator=False)"
   ]
  },
  {
   "cell_type": "markdown",
   "metadata": {},
   "source": [
    "every *Model* subclass (*Classifier*, *Pipeline*, *RFC*, ...) has the *load_model* function that returns the model"
   ]
  },
  {
   "cell_type": "code",
   "execution_count": 23,
   "metadata": {},
   "outputs": [
    {
     "name": "stdout",
     "output_type": "stream",
     "text": [
      "loading model...\n",
      "... model loaded\n"
     ]
    }
   ],
   "source": [
    "loaded_model = RFC.load_model(path=\"rfc.pkl\")"
   ]
  },
  {
   "cell_type": "code",
   "execution_count": null,
   "metadata": {},
   "outputs": [],
   "source": []
  }
 ],
 "metadata": {
  "kernelspec": {
   "display_name": "Python 3.9.7 ('sam_ml')",
   "language": "python",
   "name": "python3"
  },
  "language_info": {
   "codemirror_mode": {
    "name": "ipython",
    "version": 3
   },
   "file_extension": ".py",
   "mimetype": "text/x-python",
   "name": "python",
   "nbconvert_exporter": "python",
   "pygments_lexer": "ipython3",
   "version": "3.9.7"
  },
  "orig_nbformat": 4,
  "vscode": {
   "interpreter": {
    "hash": "5b738b73aff05be6a815c168ec02e2f25923ef65f9da64e59e0db381ef6ddb14"
   }
  }
 },
 "nbformat": 4,
 "nbformat_minor": 2
}
