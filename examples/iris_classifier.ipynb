{
 "cells": [
  {
   "cell_type": "markdown",
   "metadata": {},
   "source": [
    "# Example Notebook for one classifier"
   ]
  },
  {
   "cell_type": "markdown",
   "metadata": {},
   "source": [
    "## 1. libraries"
   ]
  },
  {
   "cell_type": "code",
   "execution_count": 1,
   "metadata": {},
   "outputs": [],
   "source": [
    "import pandas as pd\n",
    "from sklearn.datasets import load_iris\n",
    "from sklearn.metrics import make_scorer\n",
    "from sklearn.model_selection import train_test_split\n",
    "\n",
    "from sam_ml.models import RFC\n",
    "from sam_ml.data import Embeddings_builder, Sampler, Scaler, Selector\n",
    "from sam_ml.models.scorer import s_scoring"
   ]
  },
  {
   "cell_type": "markdown",
   "metadata": {},
   "source": [
    "## 2. data"
   ]
  },
  {
   "cell_type": "markdown",
   "metadata": {},
   "source": [
    "### 2.1. load dataset"
   ]
  },
  {
   "cell_type": "code",
   "execution_count": 2,
   "metadata": {},
   "outputs": [],
   "source": [
    "df = load_iris()\n",
    "y = pd.Series(df.target)\n",
    "X = pd.DataFrame(df.data, columns=df.feature_names)\n",
    "x_train, x_test, y_train, y_test = train_test_split(X,y, train_size=0.80, random_state=42)"
   ]
  },
  {
   "cell_type": "markdown",
   "metadata": {},
   "source": [
    "### 2.2. build embeddings [not needed for iris dataset]"
   ]
  },
  {
   "cell_type": "code",
   "execution_count": null,
   "metadata": {},
   "outputs": [],
   "source": [
    "'''\n",
    "eb = Embeddings_builder(vec=\"tfidf\")\n",
    "x_train_pre = eb.vectorize(x_train[\"string_columns\"], train_on=True)\n",
    "x_test_pre = eb.vectorize(x_test[\"string_columns\"], train_on=False)\n",
    "'''"
   ]
  },
  {
   "cell_type": "markdown",
   "metadata": {},
   "source": [
    "### 2.3. scaling"
   ]
  },
  {
   "cell_type": "code",
   "execution_count": 3,
   "metadata": {},
   "outputs": [
    {
     "name": "stdout",
     "output_type": "stream",
     "text": [
      "using MinMaxScaler as scaler\n",
      "starting to scale...\n",
      "... data scaled\n",
      "starting to scale...\n",
      "... data scaled\n"
     ]
    }
   ],
   "source": [
    "scaler = Scaler(scaler=\"minmax\")\n",
    "x_train =scaler.scale(x_train, train_on=True)\n",
    "x_test =scaler.scale(x_test, train_on=False)"
   ]
  },
  {
   "cell_type": "markdown",
   "metadata": {},
   "source": [
    "### 2.4. feature selection"
   ]
  },
  {
   "cell_type": "code",
   "execution_count": 4,
   "metadata": {},
   "outputs": [
    {
     "name": "stdout",
     "output_type": "stream",
     "text": [
      "all features:  ['sepal length (cm)', 'sepal width (cm)', 'petal length (cm)', 'petal width (cm)']\n",
      "starting to select features...\n",
      "... features selected\n",
      "starting to select features...\n",
      "... features selected\n",
      "selected features:  ['sepal length (cm)' 'petal length (cm)' 'petal width (cm)']\n"
     ]
    }
   ],
   "source": [
    "print(\"all features: \", list(x_train.columns))\n",
    "selector = Selector(algorithm=\"kbest\", num_features=3)\n",
    "x_train = selector.select(x_train, y_train, train_on = True)\n",
    "x_test = selector.select(x_test, train_on = False)\n",
    "print(\"selected features: \", selector.selected_features)"
   ]
  },
  {
   "cell_type": "markdown",
   "metadata": {},
   "source": [
    "### 2.5. upsample data"
   ]
  },
  {
   "cell_type": "code",
   "execution_count": 5,
   "metadata": {},
   "outputs": [
    {
     "name": "stdout",
     "output_type": "stream",
     "text": [
      "Value counts before upsampling:\n"
     ]
    },
    {
     "data": {
      "text/plain": [
       "1    41\n",
       "0    40\n",
       "2    39\n",
       "dtype: int64"
      ]
     },
     "execution_count": 5,
     "metadata": {},
     "output_type": "execute_result"
    }
   ],
   "source": [
    "print(\"Value counts before upsampling:\")\n",
    "y_train.value_counts()"
   ]
  },
  {
   "cell_type": "code",
   "execution_count": 6,
   "metadata": {},
   "outputs": [],
   "source": [
    "sampler = Sampler(algorithm=\"ros\")\n",
    "x_train, y_train = sampler.sample(x_train, y_train)"
   ]
  },
  {
   "cell_type": "code",
   "execution_count": 7,
   "metadata": {},
   "outputs": [
    {
     "name": "stdout",
     "output_type": "stream",
     "text": [
      "Value counts after upsampling:\n"
     ]
    },
    {
     "data": {
      "text/plain": [
       "0    41\n",
       "1    41\n",
       "2    41\n",
       "dtype: int64"
      ]
     },
     "execution_count": 7,
     "metadata": {},
     "output_type": "execute_result"
    }
   ],
   "source": [
    "print(\"Value counts after upsampling:\")\n",
    "y_train.value_counts()"
   ]
  },
  {
   "cell_type": "markdown",
   "metadata": {},
   "source": [
    "## 3. model"
   ]
  },
  {
   "cell_type": "markdown",
   "metadata": {},
   "source": [
    "The following class methods apply to all models in sam_ml.models. Here as an example the RandomForestClassifier."
   ]
  },
  {
   "cell_type": "markdown",
   "metadata": {},
   "source": [
    "### 3.1. simple training"
   ]
  },
  {
   "cell_type": "code",
   "execution_count": 8,
   "metadata": {},
   "outputs": [
    {
     "name": "stdout",
     "output_type": "stream",
     "text": [
      "Train score:  1.0  - Train time:  0:00:00\n",
      "accuracy:  1.0\n",
      "precision:  [1. 1. 1.]\n",
      "recall:  [1. 1. 1.]\n",
      "classification report: \n",
      "              precision    recall  f1-score   support\n",
      "\n",
      "           0       1.00      1.00      1.00        10\n",
      "           1       1.00      1.00      1.00         9\n",
      "           2       1.00      1.00      1.00        11\n",
      "\n",
      "    accuracy                           1.00        30\n",
      "   macro avg       1.00      1.00      1.00        30\n",
      "weighted avg       1.00      1.00      1.00        30\n",
      "\n"
     ]
    },
    {
     "data": {
      "text/plain": [
       "{'accuracy': 1.0,\n",
       " 'precision': array([1., 1., 1.]),\n",
       " 'recall': array([1., 1., 1.]),\n",
       " 's_score': 0.9926004570086354,\n",
       " 'l_score': 1.0}"
      ]
     },
     "execution_count": 8,
     "metadata": {},
     "output_type": "execute_result"
    }
   ],
   "source": [
    "model = RFC()\n",
    "model.train(x_train, y_train)\n",
    "model.evaluate(x_test, y_test)"
   ]
  },
  {
   "cell_type": "code",
   "execution_count": 9,
   "metadata": {},
   "outputs": [
    {
     "data": {
      "image/png": "[encoded data removed]",
      "text/plain": [
       "<Figure size 432x288 with 1 Axes>"
      ]
     },
     "metadata": {
      "needs_background": "light"
     },
     "output_type": "display_data"
    }
   ],
   "source": [
    "model.feature_importance()"
   ]
  },
  {
   "cell_type": "markdown",
   "metadata": {},
   "source": [
    "### 3.2. hyperparameter tuning"
   ]
  },
  {
   "cell_type": "markdown",
   "metadata": {},
   "source": [
    "#### 3.2.1. recall optimization (with recall_score function)"
   ]
  },
  {
   "cell_type": "code",
   "execution_count": 10,
   "metadata": {},
   "outputs": [
    {
     "name": "stdout",
     "output_type": "stream",
     "text": [
      "grid:  {'n_estimators': [1, 2, 4, 8, 16, 32, 64, 100, 200, 500, 1000], 'max_depth': [2, 3, 4, 5, 6, 7, 8, 10, 15], 'min_samples_split': [2, 3, 5, 10], 'min_samples_leaf': [1, 2, 4], 'bootstrap': [True, False], 'criterion': ['gini', 'entropy']}\n",
      "\n",
      "\n",
      "mean: 0.939444 (stdev: 0.062135) with: {'n_estimators': 16, 'min_samples_split': 5, 'min_samples_leaf': 4, 'max_depth': 7, 'criterion': 'entropy', 'bootstrap': True}\n",
      "mean: 0.940556 (stdev: 0.061114) with: {'n_estimators': 100, 'min_samples_split': 10, 'min_samples_leaf': 2, 'max_depth': 4, 'criterion': 'entropy', 'bootstrap': True}\n",
      "mean: 0.921111 (stdev: 0.085411) with: {'n_estimators': 1, 'min_samples_split': 10, 'min_samples_leaf': 1, 'max_depth': 4, 'criterion': 'gini', 'bootstrap': True}\n",
      "mean: 0.932778 (stdev: 0.056680) with: {'n_estimators': 4, 'min_samples_split': 5, 'min_samples_leaf': 4, 'max_depth': 2, 'criterion': 'gini', 'bootstrap': False}\n",
      "mean: 0.943333 (stdev: 0.055544) with: {'n_estimators': 200, 'min_samples_split': 2, 'min_samples_leaf': 4, 'max_depth': 7, 'criterion': 'entropy', 'bootstrap': False}\n",
      "mean: 0.943333 (stdev: 0.061854) with: {'n_estimators': 200, 'min_samples_split': 3, 'min_samples_leaf': 1, 'max_depth': 5, 'criterion': 'gini', 'bootstrap': True}\n",
      "mean: 0.943889 (stdev: 0.056517) with: {'n_estimators': 100, 'min_samples_split': 10, 'min_samples_leaf': 4, 'max_depth': 7, 'criterion': 'gini', 'bootstrap': False}\n",
      "mean: 0.922222 (stdev: 0.062559) with: {'n_estimators': 4, 'min_samples_split': 2, 'min_samples_leaf': 2, 'max_depth': 8, 'criterion': 'gini', 'bootstrap': True}\n",
      "mean: 0.908889 (stdev: 0.078497) with: {'n_estimators': 1, 'min_samples_split': 2, 'min_samples_leaf': 1, 'max_depth': 15, 'criterion': 'entropy', 'bootstrap': True}\n",
      "mean: 0.937778 (stdev: 0.063964) with: {'n_estimators': 8, 'min_samples_split': 10, 'min_samples_leaf': 2, 'max_depth': 10, 'criterion': 'gini', 'bootstrap': False}\n",
      "mean: 0.940556 (stdev: 0.061114) with: {'n_estimators': 1000, 'min_samples_split': 5, 'min_samples_leaf': 2, 'max_depth': 7, 'criterion': 'entropy', 'bootstrap': False}\n",
      "mean: 0.940556 (stdev: 0.057201) with: {'n_estimators': 1000, 'min_samples_split': 2, 'min_samples_leaf': 2, 'max_depth': 3, 'criterion': 'gini', 'bootstrap': False}\n",
      "mean: 0.936111 (stdev: 0.060259) with: {'n_estimators': 16, 'min_samples_split': 5, 'min_samples_leaf': 4, 'max_depth': 6, 'criterion': 'gini', 'bootstrap': True}\n",
      "mean: 0.949444 (stdev: 0.053486) with: {'n_estimators': 8, 'min_samples_split': 2, 'min_samples_leaf': 2, 'max_depth': 3, 'criterion': 'gini', 'bootstrap': True}\n",
      "mean: 0.936667 (stdev: 0.072954) with: {'n_estimators': 16, 'min_samples_split': 5, 'min_samples_leaf': 2, 'max_depth': 6, 'criterion': 'entropy', 'bootstrap': True}\n",
      "mean: 0.943333 (stdev: 0.057991) with: {'n_estimators': 1000, 'min_samples_split': 5, 'min_samples_leaf': 2, 'max_depth': 5, 'criterion': 'gini', 'bootstrap': True}\n",
      "mean: 0.941111 (stdev: 0.059742) with: {'n_estimators': 100, 'min_samples_split': 10, 'min_samples_leaf': 4, 'max_depth': 15, 'criterion': 'entropy', 'bootstrap': False}\n",
      "mean: 0.938333 (stdev: 0.062531) with: {'n_estimators': 32, 'min_samples_split': 2, 'min_samples_leaf': 2, 'max_depth': 5, 'criterion': 'entropy', 'bootstrap': False}\n",
      "mean: 0.940000 (stdev: 0.063333) with: {'n_estimators': 2, 'min_samples_split': 5, 'min_samples_leaf': 4, 'max_depth': 8, 'criterion': 'gini', 'bootstrap': False}\n",
      "mean: 0.894444 (stdev: 0.097214) with: {'n_estimators': 1, 'min_samples_split': 5, 'min_samples_leaf': 1, 'max_depth': 2, 'criterion': 'entropy', 'bootstrap': True}\n",
      "mean: 0.917222 (stdev: 0.080102) with: {'n_estimators': 4, 'min_samples_split': 2, 'min_samples_leaf': 1, 'max_depth': 8, 'criterion': 'gini', 'bootstrap': True}\n",
      "mean: 0.943333 (stdev: 0.057991) with: {'n_estimators': 100, 'min_samples_split': 2, 'min_samples_leaf': 2, 'max_depth': 15, 'criterion': 'entropy', 'bootstrap': True}\n",
      "mean: 0.925000 (stdev: 0.070284) with: {'n_estimators': 1, 'min_samples_split': 3, 'min_samples_leaf': 1, 'max_depth': 6, 'criterion': 'gini', 'bootstrap': False}\n",
      "mean: 0.943889 (stdev: 0.056517) with: {'n_estimators': 64, 'min_samples_split': 10, 'min_samples_leaf': 4, 'max_depth': 8, 'criterion': 'entropy', 'bootstrap': True}\n",
      "mean: 0.940556 (stdev: 0.057201) with: {'n_estimators': 32, 'min_samples_split': 3, 'min_samples_leaf': 2, 'max_depth': 7, 'criterion': 'gini', 'bootstrap': True}\n",
      "mean: 0.946111 (stdev: 0.051941) with: {'n_estimators': 100, 'min_samples_split': 2, 'min_samples_leaf': 4, 'max_depth': 10, 'criterion': 'entropy', 'bootstrap': False}\n",
      "mean: 0.935000 (stdev: 0.066576) with: {'n_estimators': 2, 'min_samples_split': 5, 'min_samples_leaf': 1, 'max_depth': 4, 'criterion': 'gini', 'bootstrap': True}\n",
      "mean: 0.940556 (stdev: 0.061114) with: {'n_estimators': 100, 'min_samples_split': 2, 'min_samples_leaf': 1, 'max_depth': 4, 'criterion': 'gini', 'bootstrap': False}\n",
      "mean: 0.943333 (stdev: 0.055544) with: {'n_estimators': 200, 'min_samples_split': 5, 'min_samples_leaf': 4, 'max_depth': 7, 'criterion': 'entropy', 'bootstrap': False}\n",
      "mean: 0.941111 (stdev: 0.051412) with: {'n_estimators': 16, 'min_samples_split': 2, 'min_samples_leaf': 1, 'max_depth': 2, 'criterion': 'gini', 'bootstrap': False}\n",
      "mean: 0.941111 (stdev: 0.059742) with: {'n_estimators': 100, 'min_samples_split': 10, 'min_samples_leaf': 4, 'max_depth': 10, 'criterion': 'entropy', 'bootstrap': False}\n",
      "mean: 0.942778 (stdev: 0.060351) with: {'n_estimators': 4, 'min_samples_split': 3, 'min_samples_leaf': 2, 'max_depth': 5, 'criterion': 'gini', 'bootstrap': False}\n",
      "mean: 0.897222 (stdev: 0.096617) with: {'n_estimators': 1, 'min_samples_split': 10, 'min_samples_leaf': 1, 'max_depth': 2, 'criterion': 'gini', 'bootstrap': True}\n",
      "mean: 0.936111 (stdev: 0.066120) with: {'n_estimators': 16, 'min_samples_split': 5, 'min_samples_leaf': 2, 'max_depth': 6, 'criterion': 'gini', 'bootstrap': False}\n",
      "mean: 0.937222 (stdev: 0.067998) with: {'n_estimators': 16, 'min_samples_split': 10, 'min_samples_leaf': 1, 'max_depth': 8, 'criterion': 'entropy', 'bootstrap': False}\n",
      "mean: 0.932222 (stdev: 0.068978) with: {'n_estimators': 32, 'min_samples_split': 2, 'min_samples_leaf': 1, 'max_depth': 15, 'criterion': 'gini', 'bootstrap': False}\n",
      "mean: 0.928889 (stdev: 0.081869) with: {'n_estimators': 4, 'min_samples_split': 5, 'min_samples_leaf': 1, 'max_depth': 10, 'criterion': 'entropy', 'bootstrap': False}\n",
      "mean: 0.941111 (stdev: 0.051412) with: {'n_estimators': 64, 'min_samples_split': 3, 'min_samples_leaf': 2, 'max_depth': 2, 'criterion': 'gini', 'bootstrap': False}\n",
      "mean: 0.943889 (stdev: 0.056517) with: {'n_estimators': 64, 'min_samples_split': 2, 'min_samples_leaf': 4, 'max_depth': 6, 'criterion': 'gini', 'bootstrap': False}\n",
      "mean: 0.933889 (stdev: 0.065047) with: {'n_estimators': 4, 'min_samples_split': 5, 'min_samples_leaf': 1, 'max_depth': 7, 'criterion': 'entropy', 'bootstrap': True}\n",
      "mean: 0.943333 (stdev: 0.061854) with: {'n_estimators': 500, 'min_samples_split': 5, 'min_samples_leaf': 1, 'max_depth': 7, 'criterion': 'gini', 'bootstrap': True}\n",
      "mean: 0.943889 (stdev: 0.060321) with: {'n_estimators': 8, 'min_samples_split': 10, 'min_samples_leaf': 1, 'max_depth': 4, 'criterion': 'entropy', 'bootstrap': False}\n",
      "mean: 0.889444 (stdev: 0.080793) with: {'n_estimators': 1, 'min_samples_split': 2, 'min_samples_leaf': 4, 'max_depth': 8, 'criterion': 'entropy', 'bootstrap': False}\n",
      "mean: 0.940556 (stdev: 0.068270) with: {'n_estimators': 2, 'min_samples_split': 5, 'min_samples_leaf': 2, 'max_depth': 3, 'criterion': 'gini', 'bootstrap': True}\n",
      "mean: 0.940000 (stdev: 0.063333) with: {'n_estimators': 2, 'min_samples_split': 10, 'min_samples_leaf': 4, 'max_depth': 7, 'criterion': 'gini', 'bootstrap': False}\n",
      "mean: 0.943333 (stdev: 0.055544) with: {'n_estimators': 200, 'min_samples_split': 5, 'min_samples_leaf': 4, 'max_depth': 6, 'criterion': 'entropy', 'bootstrap': False}\n",
      "mean: 0.948889 (stdev: 0.055098) with: {'n_estimators': 64, 'min_samples_split': 10, 'min_samples_leaf': 1, 'max_depth': 8, 'criterion': 'gini', 'bootstrap': True}\n",
      "mean: 0.948889 (stdev: 0.059150) with: {'n_estimators': 200, 'min_samples_split': 5, 'min_samples_leaf': 1, 'max_depth': 6, 'criterion': 'entropy', 'bootstrap': True}\n",
      "mean: 0.942778 (stdev: 0.064072) with: {'n_estimators': 2, 'min_samples_split': 10, 'min_samples_leaf': 2, 'max_depth': 4, 'criterion': 'gini', 'bootstrap': False}\n",
      "mean: 0.938333 (stdev: 0.062531) with: {'n_estimators': 32, 'min_samples_split': 2, 'min_samples_leaf': 4, 'max_depth': 4, 'criterion': 'entropy', 'bootstrap': True}\n",
      "mean: 0.928889 (stdev: 0.068304) with: {'n_estimators': 16, 'min_samples_split': 10, 'min_samples_leaf': 4, 'max_depth': 4, 'criterion': 'gini', 'bootstrap': False}\n",
      "mean: 0.932222 (stdev: 0.072256) with: {'n_estimators': 2, 'min_samples_split': 2, 'min_samples_leaf': 2, 'max_depth': 4, 'criterion': 'entropy', 'bootstrap': True}\n",
      "mean: 0.922778 (stdev: 0.079871) with: {'n_estimators': 4, 'min_samples_split': 2, 'min_samples_leaf': 1, 'max_depth': 6, 'criterion': 'gini', 'bootstrap': True}\n",
      "mean: 0.949444 (stdev: 0.053486) with: {'n_estimators': 8, 'min_samples_split': 5, 'min_samples_leaf': 1, 'max_depth': 3, 'criterion': 'gini', 'bootstrap': True}\n",
      "mean: 0.946111 (stdev: 0.054549) with: {'n_estimators': 500, 'min_samples_split': 10, 'min_samples_leaf': 2, 'max_depth': 4, 'criterion': 'gini', 'bootstrap': True}\n",
      "mean: 0.946667 (stdev: 0.052950) with: {'n_estimators': 200, 'min_samples_split': 5, 'min_samples_leaf': 4, 'max_depth': 10, 'criterion': 'gini', 'bootstrap': True}\n",
      "mean: 0.942778 (stdev: 0.064072) with: {'n_estimators': 2, 'min_samples_split': 2, 'min_samples_leaf': 2, 'max_depth': 5, 'criterion': 'gini', 'bootstrap': False}\n",
      "mean: 0.937778 (stdev: 0.056262) with: {'n_estimators': 64, 'min_samples_split': 3, 'min_samples_leaf': 2, 'max_depth': 3, 'criterion': 'gini', 'bootstrap': False}\n",
      "mean: 0.932778 (stdev: 0.074097) with: {'n_estimators': 2, 'min_samples_split': 2, 'min_samples_leaf': 2, 'max_depth': 10, 'criterion': 'gini', 'bootstrap': True}\n",
      "mean: 0.941111 (stdev: 0.055733) with: {'n_estimators': 64, 'min_samples_split': 3, 'min_samples_leaf': 4, 'max_depth': 6, 'criterion': 'gini', 'bootstrap': True}\n",
      "mean: 0.940556 (stdev: 0.064791) with: {'n_estimators': 4, 'min_samples_split': 10, 'min_samples_leaf': 1, 'max_depth': 15, 'criterion': 'gini', 'bootstrap': False}\n",
      "mean: 0.946667 (stdev: 0.058752) with: {'n_estimators': 8, 'min_samples_split': 3, 'min_samples_leaf': 2, 'max_depth': 7, 'criterion': 'gini', 'bootstrap': True}\n",
      "mean: 0.928889 (stdev: 0.069779) with: {'n_estimators': 2, 'min_samples_split': 2, 'min_samples_leaf': 1, 'max_depth': 15, 'criterion': 'gini', 'bootstrap': True}\n",
      "mean: 0.934444 (stdev: 0.068575) with: {'n_estimators': 2, 'min_samples_split': 2, 'min_samples_leaf': 2, 'max_depth': 7, 'criterion': 'gini', 'bootstrap': False}\n",
      "mean: 0.925000 (stdev: 0.069755) with: {'n_estimators': 4, 'min_samples_split': 2, 'min_samples_leaf': 4, 'max_depth': 5, 'criterion': 'gini', 'bootstrap': True}\n",
      "mean: 0.938889 (stdev: 0.070361) with: {'n_estimators': 8, 'min_samples_split': 5, 'min_samples_leaf': 1, 'max_depth': 6, 'criterion': 'gini', 'bootstrap': False}\n",
      "mean: 0.946667 (stdev: 0.052950) with: {'n_estimators': 200, 'min_samples_split': 2, 'min_samples_leaf': 4, 'max_depth': 7, 'criterion': 'gini', 'bootstrap': True}\n",
      "mean: 0.943889 (stdev: 0.056517) with: {'n_estimators': 200, 'min_samples_split': 10, 'min_samples_leaf': 4, 'max_depth': 7, 'criterion': 'gini', 'bootstrap': False}\n",
      "mean: 0.940556 (stdev: 0.061114) with: {'n_estimators': 100, 'min_samples_split': 5, 'min_samples_leaf': 2, 'max_depth': 7, 'criterion': 'gini', 'bootstrap': True}\n",
      "mean: 0.898889 (stdev: 0.071483) with: {'n_estimators': 1, 'min_samples_split': 3, 'min_samples_leaf': 2, 'max_depth': 15, 'criterion': 'entropy', 'bootstrap': True}\n",
      "mean: 0.943889 (stdev: 0.056517) with: {'n_estimators': 100, 'min_samples_split': 10, 'min_samples_leaf': 4, 'max_depth': 8, 'criterion': 'gini', 'bootstrap': False}\n",
      "mean: 0.940556 (stdev: 0.064791) with: {'n_estimators': 200, 'min_samples_split': 2, 'min_samples_leaf': 1, 'max_depth': 5, 'criterion': 'entropy', 'bootstrap': True}\n",
      "mean: 0.941111 (stdev: 0.051412) with: {'n_estimators': 500, 'min_samples_split': 5, 'min_samples_leaf': 4, 'max_depth': 2, 'criterion': 'gini', 'bootstrap': False}\n",
      "mean: 0.940556 (stdev: 0.061114) with: {'n_estimators': 200, 'min_samples_split': 5, 'min_samples_leaf': 1, 'max_depth': 10, 'criterion': 'entropy', 'bootstrap': False}\n",
      "mean: 0.933333 (stdev: 0.067905) with: {'n_estimators': 32, 'min_samples_split': 2, 'min_samples_leaf': 4, 'max_depth': 15, 'criterion': 'gini', 'bootstrap': True}\n",
      "\n",
      "Best: 0.949444 using {'n_estimators': 8, 'min_samples_split': 2, 'min_samples_leaf': 2, 'max_depth': 3, 'criterion': 'gini', 'bootstrap': True}\n",
      "\n",
      "Train score:  0.959349593495935  - Train time:  0:00:00\n",
      "accuracy:  1.0\n",
      "precision:  1.0\n",
      "recall:  1.0\n",
      "classification report: \n",
      "              precision    recall  f1-score   support\n",
      "\n",
      "           0       1.00      1.00      1.00        10\n",
      "           1       1.00      1.00      1.00         9\n",
      "           2       1.00      1.00      1.00        11\n",
      "\n",
      "    accuracy                           1.00        30\n",
      "   macro avg       1.00      1.00      1.00        30\n",
      "weighted avg       1.00      1.00      1.00        30\n",
      "\n"
     ]
    },
    {
     "data": {
      "text/plain": [
       "{'accuracy': 1.0,\n",
       " 'precision': 1.0,\n",
       " 'recall': 1.0,\n",
       " 's_score': 0.9926004570086354,\n",
       " 'l_score': 1.0}"
      ]
     },
     "execution_count": 10,
     "metadata": {},
     "output_type": "execute_result"
    }
   ],
   "source": [
    "model.gridsearch(x_train, y_train, scoring=\"recall\", avg=\"macro\", train_afterwards=True)\n",
    "model.evaluate(x_test, y_test, avg=\"macro\")"
   ]
  },
  {
   "cell_type": "markdown",
   "metadata": {},
   "source": [
    "#### 3.2.2. recall optimization (with s_scoring function)"
   ]
  },
  {
   "cell_type": "code",
   "execution_count": 11,
   "metadata": {},
   "outputs": [
    {
     "name": "stdout",
     "output_type": "stream",
     "text": [
      "grid:  {'n_estimators': [1, 2, 4, 8, 16, 32, 64, 100, 200, 500, 1000], 'max_depth': [2, 3, 4, 5, 6, 7, 8, 10, 15], 'min_samples_split': [2, 3, 5, 10], 'min_samples_leaf': [1, 2, 4], 'bootstrap': [True, False], 'criterion': ['gini', 'entropy']}\n",
      "\n",
      "\n",
      "mean: 0.845324 (stdev: 0.253338) with: {'n_estimators': 16, 'min_samples_split': 5, 'min_samples_leaf': 4, 'max_depth': 7, 'criterion': 'entropy', 'bootstrap': True}\n",
      "mean: 0.866586 (stdev: 0.196769) with: {'n_estimators': 100, 'min_samples_split': 10, 'min_samples_leaf': 2, 'max_depth': 4, 'criterion': 'entropy', 'bootstrap': True}\n",
      "mean: 0.803142 (stdev: 0.276230) with: {'n_estimators': 1, 'min_samples_split': 10, 'min_samples_leaf': 1, 'max_depth': 4, 'criterion': 'gini', 'bootstrap': True}\n",
      "mean: 0.825087 (stdev: 0.255991) with: {'n_estimators': 4, 'min_samples_split': 5, 'min_samples_leaf': 4, 'max_depth': 2, 'criterion': 'gini', 'bootstrap': False}\n",
      "mean: 0.888033 (stdev: 0.151158) with: {'n_estimators': 200, 'min_samples_split': 2, 'min_samples_leaf': 4, 'max_depth': 7, 'criterion': 'entropy', 'bootstrap': False}\n",
      "mean: 0.888090 (stdev: 0.159702) with: {'n_estimators': 200, 'min_samples_split': 3, 'min_samples_leaf': 1, 'max_depth': 5, 'criterion': 'gini', 'bootstrap': True}\n",
      "mean: 0.874754 (stdev: 0.205285) with: {'n_estimators': 100, 'min_samples_split': 10, 'min_samples_leaf': 4, 'max_depth': 7, 'criterion': 'gini', 'bootstrap': False}\n",
      "mean: 0.812669 (stdev: 0.254441) with: {'n_estimators': 4, 'min_samples_split': 2, 'min_samples_leaf': 2, 'max_depth': 8, 'criterion': 'gini', 'bootstrap': True}\n",
      "mean: 0.783394 (stdev: 0.278020) with: {'n_estimators': 1, 'min_samples_split': 2, 'min_samples_leaf': 1, 'max_depth': 15, 'criterion': 'entropy', 'bootstrap': True}\n",
      "mean: 0.881353 (stdev: 0.159878) with: {'n_estimators': 8, 'min_samples_split': 10, 'min_samples_leaf': 2, 'max_depth': 10, 'criterion': 'gini', 'bootstrap': False}\n",
      "mean: 0.866717 (stdev: 0.196782) with: {'n_estimators': 1000, 'min_samples_split': 5, 'min_samples_leaf': 2, 'max_depth': 7, 'criterion': 'entropy', 'bootstrap': False}\n",
      "mean: 0.885221 (stdev: 0.156593) with: {'n_estimators': 1000, 'min_samples_split': 2, 'min_samples_leaf': 2, 'max_depth': 3, 'criterion': 'gini', 'bootstrap': False}\n",
      "mean: 0.837100 (stdev: 0.240029) with: {'n_estimators': 16, 'min_samples_split': 5, 'min_samples_leaf': 4, 'max_depth': 6, 'criterion': 'gini', 'bootstrap': True}\n",
      "mean: 0.899619 (stdev: 0.167687) with: {'n_estimators': 8, 'min_samples_split': 2, 'min_samples_leaf': 2, 'max_depth': 3, 'criterion': 'gini', 'bootstrap': True}\n",
      "mean: 0.844539 (stdev: 0.255914) with: {'n_estimators': 16, 'min_samples_split': 5, 'min_samples_leaf': 2, 'max_depth': 6, 'criterion': 'entropy', 'bootstrap': True}\n",
      "mean: 0.888466 (stdev: 0.157545) with: {'n_estimators': 1000, 'min_samples_split': 5, 'min_samples_leaf': 2, 'max_depth': 5, 'criterion': 'gini', 'bootstrap': True}\n",
      "mean: 0.871262 (stdev: 0.205983) with: {'n_estimators': 100, 'min_samples_split': 10, 'min_samples_leaf': 4, 'max_depth': 15, 'criterion': 'entropy', 'bootstrap': False}\n",
      "mean: 0.854189 (stdev: 0.204588) with: {'n_estimators': 32, 'min_samples_split': 2, 'min_samples_leaf': 2, 'max_depth': 5, 'criterion': 'entropy', 'bootstrap': False}\n",
      "mean: 0.875163 (stdev: 0.183653) with: {'n_estimators': 2, 'min_samples_split': 5, 'min_samples_leaf': 4, 'max_depth': 8, 'criterion': 'gini', 'bootstrap': False}\n",
      "mean: 0.703324 (stdev: 0.346867) with: {'n_estimators': 1, 'min_samples_split': 5, 'min_samples_leaf': 1, 'max_depth': 2, 'criterion': 'entropy', 'bootstrap': True}\n",
      "mean: 0.766023 (stdev: 0.309026) with: {'n_estimators': 4, 'min_samples_split': 2, 'min_samples_leaf': 1, 'max_depth': 8, 'criterion': 'gini', 'bootstrap': True}\n",
      "mean: 0.888336 (stdev: 0.157547) with: {'n_estimators': 100, 'min_samples_split': 2, 'min_samples_leaf': 2, 'max_depth': 15, 'criterion': 'entropy', 'bootstrap': True}\n",
      "mean: 0.815563 (stdev: 0.257944) with: {'n_estimators': 1, 'min_samples_split': 3, 'min_samples_leaf': 1, 'max_depth': 6, 'criterion': 'gini', 'bootstrap': False}\n",
      "mean: 0.856366 (stdev: 0.235118) with: {'n_estimators': 64, 'min_samples_split': 10, 'min_samples_leaf': 4, 'max_depth': 8, 'criterion': 'entropy', 'bootstrap': True}\n",
      "mean: 0.903479 (stdev: 0.101617) with: {'n_estimators': 32, 'min_samples_split': 3, 'min_samples_leaf': 2, 'max_depth': 7, 'criterion': 'gini', 'bootstrap': True}\n",
      "mean: 0.891525 (stdev: 0.149814) with: {'n_estimators': 100, 'min_samples_split': 2, 'min_samples_leaf': 4, 'max_depth': 10, 'criterion': 'entropy', 'bootstrap': False}\n",
      "mean: 0.859681 (stdev: 0.197197) with: {'n_estimators': 2, 'min_samples_split': 5, 'min_samples_leaf': 1, 'max_depth': 4, 'criterion': 'gini', 'bootstrap': True}\n",
      "mean: 0.884975 (stdev: 0.158756) with: {'n_estimators': 100, 'min_samples_split': 2, 'min_samples_leaf': 1, 'max_depth': 4, 'criterion': 'gini', 'bootstrap': False}\n",
      "mean: 0.888033 (stdev: 0.151158) with: {'n_estimators': 200, 'min_samples_split': 5, 'min_samples_leaf': 4, 'max_depth': 7, 'criterion': 'entropy', 'bootstrap': False}\n",
      "mean: 0.871754 (stdev: 0.202677) with: {'n_estimators': 16, 'min_samples_split': 2, 'min_samples_leaf': 1, 'max_depth': 2, 'criterion': 'gini', 'bootstrap': False}\n",
      "mean: 0.871262 (stdev: 0.205983) with: {'n_estimators': 100, 'min_samples_split': 10, 'min_samples_leaf': 4, 'max_depth': 10, 'criterion': 'entropy', 'bootstrap': False}\n",
      "mean: 0.878576 (stdev: 0.183533) with: {'n_estimators': 4, 'min_samples_split': 3, 'min_samples_leaf': 2, 'max_depth': 5, 'criterion': 'gini', 'bootstrap': False}\n",
      "mean: 0.717454 (stdev: 0.322499) with: {'n_estimators': 1, 'min_samples_split': 10, 'min_samples_leaf': 1, 'max_depth': 2, 'criterion': 'gini', 'bootstrap': True}\n",
      "mean: 0.837417 (stdev: 0.245563) with: {'n_estimators': 16, 'min_samples_split': 5, 'min_samples_leaf': 2, 'max_depth': 6, 'criterion': 'gini', 'bootstrap': False}\n",
      "mean: 0.843993 (stdev: 0.258059) with: {'n_estimators': 16, 'min_samples_split': 10, 'min_samples_leaf': 1, 'max_depth': 8, 'criterion': 'entropy', 'bootstrap': False}\n",
      "mean: 0.856190 (stdev: 0.197658) with: {'n_estimators': 32, 'min_samples_split': 2, 'min_samples_leaf': 1, 'max_depth': 15, 'criterion': 'gini', 'bootstrap': False}\n",
      "mean: 0.818044 (stdev: 0.281944) with: {'n_estimators': 4, 'min_samples_split': 5, 'min_samples_leaf': 1, 'max_depth': 10, 'criterion': 'entropy', 'bootstrap': False}\n",
      "mean: 0.871754 (stdev: 0.202677) with: {'n_estimators': 64, 'min_samples_split': 3, 'min_samples_leaf': 2, 'max_depth': 2, 'criterion': 'gini', 'bootstrap': False}\n",
      "mean: 0.874754 (stdev: 0.205285) with: {'n_estimators': 64, 'min_samples_split': 2, 'min_samples_leaf': 4, 'max_depth': 6, 'criterion': 'gini', 'bootstrap': False}\n",
      "mean: 0.853602 (stdev: 0.217860) with: {'n_estimators': 4, 'min_samples_split': 5, 'min_samples_leaf': 1, 'max_depth': 7, 'criterion': 'entropy', 'bootstrap': True}\n",
      "mean: 0.869832 (stdev: 0.197833) with: {'n_estimators': 500, 'min_samples_split': 5, 'min_samples_leaf': 1, 'max_depth': 7, 'criterion': 'gini', 'bootstrap': True}\n",
      "mean: 0.879054 (stdev: 0.169870) with: {'n_estimators': 8, 'min_samples_split': 10, 'min_samples_leaf': 1, 'max_depth': 4, 'criterion': 'entropy', 'bootstrap': False}\n",
      "mean: 0.746084 (stdev: 0.275150) with: {'n_estimators': 1, 'min_samples_split': 2, 'min_samples_leaf': 4, 'max_depth': 8, 'criterion': 'entropy', 'bootstrap': False}\n",
      "mean: 0.866173 (stdev: 0.199488) with: {'n_estimators': 2, 'min_samples_split': 5, 'min_samples_leaf': 2, 'max_depth': 3, 'criterion': 'gini', 'bootstrap': True}\n",
      "mean: 0.875163 (stdev: 0.183653) with: {'n_estimators': 2, 'min_samples_split': 10, 'min_samples_leaf': 4, 'max_depth': 7, 'criterion': 'gini', 'bootstrap': False}\n",
      "mean: 0.888033 (stdev: 0.151158) with: {'n_estimators': 200, 'min_samples_split': 5, 'min_samples_leaf': 4, 'max_depth': 6, 'criterion': 'entropy', 'bootstrap': False}\n",
      "mean: 0.895074 (stdev: 0.157069) with: {'n_estimators': 64, 'min_samples_split': 10, 'min_samples_leaf': 1, 'max_depth': 8, 'criterion': 'gini', 'bootstrap': True}\n",
      "mean: 0.894697 (stdev: 0.159248) with: {'n_estimators': 200, 'min_samples_split': 5, 'min_samples_leaf': 1, 'max_depth': 6, 'criterion': 'entropy', 'bootstrap': True}\n",
      "mean: 0.878408 (stdev: 0.184643) with: {'n_estimators': 2, 'min_samples_split': 10, 'min_samples_leaf': 2, 'max_depth': 4, 'criterion': 'gini', 'bootstrap': False}\n",
      "mean: 0.854189 (stdev: 0.204588) with: {'n_estimators': 32, 'min_samples_split': 2, 'min_samples_leaf': 4, 'max_depth': 4, 'criterion': 'entropy', 'bootstrap': True}\n",
      "mean: 0.815751 (stdev: 0.277639) with: {'n_estimators': 16, 'min_samples_split': 10, 'min_samples_leaf': 4, 'max_depth': 4, 'criterion': 'gini', 'bootstrap': False}\n",
      "mean: 0.855943 (stdev: 0.199341) with: {'n_estimators': 2, 'min_samples_split': 2, 'min_samples_leaf': 2, 'max_depth': 4, 'criterion': 'entropy', 'bootstrap': True}\n",
      "mean: 0.790940 (stdev: 0.295234) with: {'n_estimators': 4, 'min_samples_split': 2, 'min_samples_leaf': 1, 'max_depth': 6, 'criterion': 'gini', 'bootstrap': True}\n",
      "mean: 0.899619 (stdev: 0.167687) with: {'n_estimators': 8, 'min_samples_split': 5, 'min_samples_leaf': 1, 'max_depth': 3, 'criterion': 'gini', 'bootstrap': True}\n",
      "mean: 0.891958 (stdev: 0.156246) with: {'n_estimators': 500, 'min_samples_split': 10, 'min_samples_leaf': 2, 'max_depth': 4, 'criterion': 'gini', 'bootstrap': True}\n",
      "mean: 0.878245 (stdev: 0.204524) with: {'n_estimators': 200, 'min_samples_split': 5, 'min_samples_leaf': 4, 'max_depth': 10, 'criterion': 'gini', 'bootstrap': True}\n",
      "mean: 0.860150 (stdev: 0.217653) with: {'n_estimators': 2, 'min_samples_split': 2, 'min_samples_leaf': 2, 'max_depth': 5, 'criterion': 'gini', 'bootstrap': False}\n",
      "mean: 0.881975 (stdev: 0.155567) with: {'n_estimators': 64, 'min_samples_split': 3, 'min_samples_leaf': 2, 'max_depth': 3, 'criterion': 'gini', 'bootstrap': False}\n",
      "mean: 0.858414 (stdev: 0.202129) with: {'n_estimators': 2, 'min_samples_split': 2, 'min_samples_leaf': 2, 'max_depth': 10, 'criterion': 'gini', 'bootstrap': True}\n",
      "mean: 0.853120 (stdev: 0.234036) with: {'n_estimators': 64, 'min_samples_split': 3, 'min_samples_leaf': 4, 'max_depth': 6, 'criterion': 'gini', 'bootstrap': True}\n",
      "mean: 0.884598 (stdev: 0.160889) with: {'n_estimators': 4, 'min_samples_split': 10, 'min_samples_leaf': 1, 'max_depth': 15, 'criterion': 'gini', 'bootstrap': False}\n",
      "mean: 0.899586 (stdev: 0.167723) with: {'n_estimators': 8, 'min_samples_split': 3, 'min_samples_leaf': 2, 'max_depth': 7, 'criterion': 'gini', 'bootstrap': True}\n",
      "mean: 0.824925 (stdev: 0.242335) with: {'n_estimators': 2, 'min_samples_split': 2, 'min_samples_leaf': 1, 'max_depth': 15, 'criterion': 'gini', 'bootstrap': True}\n",
      "mean: 0.849921 (stdev: 0.217234) with: {'n_estimators': 2, 'min_samples_split': 2, 'min_samples_leaf': 2, 'max_depth': 7, 'criterion': 'gini', 'bootstrap': False}\n",
      "mean: 0.805084 (stdev: 0.261895) with: {'n_estimators': 4, 'min_samples_split': 2, 'min_samples_leaf': 4, 'max_depth': 5, 'criterion': 'gini', 'bootstrap': True}\n",
      "mean: 0.858544 (stdev: 0.221369) with: {'n_estimators': 8, 'min_samples_split': 5, 'min_samples_leaf': 1, 'max_depth': 6, 'criterion': 'gini', 'bootstrap': False}\n",
      "mean: 0.878245 (stdev: 0.204524) with: {'n_estimators': 200, 'min_samples_split': 2, 'min_samples_leaf': 4, 'max_depth': 7, 'criterion': 'gini', 'bootstrap': True}\n",
      "mean: 0.874754 (stdev: 0.205285) with: {'n_estimators': 200, 'min_samples_split': 10, 'min_samples_leaf': 4, 'max_depth': 7, 'criterion': 'gini', 'bootstrap': False}\n",
      "mean: 0.884975 (stdev: 0.158756) with: {'n_estimators': 100, 'min_samples_split': 5, 'min_samples_leaf': 2, 'max_depth': 7, 'criterion': 'gini', 'bootstrap': True}\n",
      "mean: 0.742912 (stdev: 0.292472) with: {'n_estimators': 1, 'min_samples_split': 3, 'min_samples_leaf': 2, 'max_depth': 15, 'criterion': 'entropy', 'bootstrap': True}\n",
      "mean: 0.874754 (stdev: 0.205285) with: {'n_estimators': 100, 'min_samples_split': 10, 'min_samples_leaf': 4, 'max_depth': 8, 'criterion': 'gini', 'bootstrap': False}\n",
      "mean: 0.866210 (stdev: 0.198459) with: {'n_estimators': 200, 'min_samples_split': 2, 'min_samples_leaf': 1, 'max_depth': 5, 'criterion': 'entropy', 'bootstrap': True}\n",
      "mean: 0.871754 (stdev: 0.202677) with: {'n_estimators': 500, 'min_samples_split': 5, 'min_samples_leaf': 4, 'max_depth': 2, 'criterion': 'gini', 'bootstrap': False}\n",
      "mean: 0.866717 (stdev: 0.196782) with: {'n_estimators': 200, 'min_samples_split': 5, 'min_samples_leaf': 1, 'max_depth': 10, 'criterion': 'entropy', 'bootstrap': False}\n",
      "mean: 0.836821 (stdev: 0.241414) with: {'n_estimators': 32, 'min_samples_split': 2, 'min_samples_leaf': 4, 'max_depth': 15, 'criterion': 'gini', 'bootstrap': True}\n",
      "\n",
      "Best: 0.903479 using {'n_estimators': 32, 'min_samples_split': 3, 'min_samples_leaf': 2, 'max_depth': 7, 'criterion': 'gini', 'bootstrap': True}\n",
      "\n",
      "Train score:  0.967479674796748  - Train time:  0:00:00\n",
      "accuracy:  1.0\n",
      "precision:  1.0\n",
      "recall:  1.0\n",
      "classification report: \n",
      "              precision    recall  f1-score   support\n",
      "\n",
      "           0       1.00      1.00      1.00        10\n",
      "           1       1.00      1.00      1.00         9\n",
      "           2       1.00      1.00      1.00        11\n",
      "\n",
      "    accuracy                           1.00        30\n",
      "   macro avg       1.00      1.00      1.00        30\n",
      "weighted avg       1.00      1.00      1.00        30\n",
      "\n"
     ]
    },
    {
     "data": {
      "text/plain": [
       "{'accuracy': 1.0,\n",
       " 'precision': 1.0,\n",
       " 'recall': 1.0,\n",
       " 's_score': 0.9816036781135836,\n",
       " 'l_score': 1.0}"
      ]
     },
     "execution_count": 11,
     "metadata": {},
     "output_type": "execute_result"
    }
   ],
   "source": [
    "model.gridsearch(x_train, y_train, scoring=\"s_score\", train_afterwards=True, secondary_scoring=\"recall\", pos_label=-1, strength=4)\n",
    "model.evaluate(x_test, y_test, avg=\"macro\", secondary_scoring=\"recall\", pos_label=-1, strength=4)"
   ]
  },
  {
   "cell_type": "markdown",
   "metadata": {},
   "source": [
    "### 3.3. crossvalidation"
   ]
  },
  {
   "cell_type": "markdown",
   "metadata": {},
   "source": [
    "#### 3.3.1. small dataset crossvalidation"
   ]
  },
  {
   "cell_type": "markdown",
   "metadata": {},
   "source": [
    "**Concept:**\n",
    "\n",
    "The model will be trained on all datapoints except one and then tested on this last one. This will be repeated for all datapoints so that we have our predictions for all datapoints.\n",
    "\n",
    "**Advantage:** optimal use of information for training\n",
    "\n",
    "**Disadvantage:** long train time\n",
    "\n",
    "This concept is very useful for small datasets (datapoints < 150) because the long train time is still not too long and especially with a small amount of information for the model, it is importatnt to use all the information one has for the training.\n",
    "\n",
    "**method includes:**\n",
    "- auto string column detection and vectorizing (*vectorizer parameter*)\n",
    "- upsampling (*sampling parameter*)\n",
    "- scaling (*scaler parameter*)"
   ]
  },
  {
   "cell_type": "code",
   "execution_count": 12,
   "metadata": {},
   "outputs": [
    {
     "name": "stderr",
     "output_type": "stream",
     "text": [
      "RandomForestClassifier: 100%|██████████| 150/150 [00:06<00:00, 23.04it/s]"
     ]
    },
    {
     "name": "stdout",
     "output_type": "stream",
     "text": [
      "classification report:\n",
      "              precision    recall  f1-score   support\n",
      "\n",
      "           0       1.00      1.00      1.00        50\n",
      "           1       0.96      0.94      0.95        50\n",
      "           2       0.94      0.96      0.95        50\n",
      "\n",
      "    accuracy                           0.97       150\n",
      "   macro avg       0.97      0.97      0.97       150\n",
      "weighted avg       0.97      0.97      0.97       150\n",
      "\n"
     ]
    },
    {
     "name": "stderr",
     "output_type": "stream",
     "text": [
      "\n"
     ]
    },
    {
     "data": {
      "text/plain": [
       "{'accuracy': 0.9666666666666667,\n",
       " 'precision': 0.9667867146858743,\n",
       " 'recall': 0.9666666666666667,\n",
       " 's_score': 0.9885291351907307,\n",
       " 'l_score': 0.9999999880691252,\n",
       " 'avg train score': 0.9778666666666667,\n",
       " 'avg train time': '0:00:00'}"
      ]
     },
     "execution_count": 12,
     "metadata": {},
     "output_type": "execute_result"
    }
   ],
   "source": [
    "model.cross_validation_small_data(X, y, sampling=\"SMOTE\", scaler=\"standard\", avg=\"macro\")"
   ]
  },
  {
   "cell_type": "markdown",
   "metadata": {},
   "source": [
    "#### 3.3.2. multiple split crossvalidation"
   ]
  },
  {
   "cell_type": "code",
   "execution_count": 13,
   "metadata": {},
   "outputs": [
    {
     "data": {
      "text/html": [
       "<div>\n",
       "<style scoped>\n",
       "    .dataframe tbody tr th:only-of-type {\n",
       "        vertical-align: middle;\n",
       "    }\n",
       "\n",
       "    .dataframe tbody tr th {\n",
       "        vertical-align: top;\n",
       "    }\n",
       "\n",
       "    .dataframe thead th {\n",
       "        text-align: right;\n",
       "    }\n",
       "</style>\n",
       "<table border=\"1\" class=\"dataframe\">\n",
       "  <thead>\n",
       "    <tr style=\"text-align: right;\">\n",
       "      <th></th>\n",
       "      <th>0</th>\n",
       "      <th>1</th>\n",
       "      <th>2</th>\n",
       "      <th>3</th>\n",
       "      <th>4</th>\n",
       "      <th>average</th>\n",
       "    </tr>\n",
       "  </thead>\n",
       "  <tbody>\n",
       "    <tr>\n",
       "      <th>fit_time</th>\n",
       "      <td>0.041097</td>\n",
       "      <td>0.040601</td>\n",
       "      <td>0.041358</td>\n",
       "      <td>0.040870</td>\n",
       "      <td>0.044655</td>\n",
       "      <td>0.041716</td>\n",
       "    </tr>\n",
       "    <tr>\n",
       "      <th>score_time</th>\n",
       "      <td>0.012171</td>\n",
       "      <td>0.010377</td>\n",
       "      <td>0.012072</td>\n",
       "      <td>0.011044</td>\n",
       "      <td>0.007252</td>\n",
       "      <td>0.010583</td>\n",
       "    </tr>\n",
       "    <tr>\n",
       "      <th>test_precision (macro)</th>\n",
       "      <td>0.969697</td>\n",
       "      <td>0.969697</td>\n",
       "      <td>0.944444</td>\n",
       "      <td>0.969697</td>\n",
       "      <td>1.000000</td>\n",
       "      <td>0.970707</td>\n",
       "    </tr>\n",
       "    <tr>\n",
       "      <th>train_precision (macro)</th>\n",
       "      <td>0.967419</td>\n",
       "      <td>0.976744</td>\n",
       "      <td>0.991870</td>\n",
       "      <td>0.984127</td>\n",
       "      <td>0.967419</td>\n",
       "      <td>0.977516</td>\n",
       "    </tr>\n",
       "    <tr>\n",
       "      <th>test_recall (macro)</th>\n",
       "      <td>0.966667</td>\n",
       "      <td>0.966667</td>\n",
       "      <td>0.933333</td>\n",
       "      <td>0.966667</td>\n",
       "      <td>1.000000</td>\n",
       "      <td>0.966667</td>\n",
       "    </tr>\n",
       "    <tr>\n",
       "      <th>train_recall (macro)</th>\n",
       "      <td>0.966667</td>\n",
       "      <td>0.975000</td>\n",
       "      <td>0.991667</td>\n",
       "      <td>0.983333</td>\n",
       "      <td>0.966667</td>\n",
       "      <td>0.976667</td>\n",
       "    </tr>\n",
       "    <tr>\n",
       "      <th>test_accuracy</th>\n",
       "      <td>0.966667</td>\n",
       "      <td>0.966667</td>\n",
       "      <td>0.933333</td>\n",
       "      <td>0.966667</td>\n",
       "      <td>1.000000</td>\n",
       "      <td>0.966667</td>\n",
       "    </tr>\n",
       "    <tr>\n",
       "      <th>train_accuracy</th>\n",
       "      <td>0.966667</td>\n",
       "      <td>0.975000</td>\n",
       "      <td>0.991667</td>\n",
       "      <td>0.983333</td>\n",
       "      <td>0.966667</td>\n",
       "      <td>0.976667</td>\n",
       "    </tr>\n",
       "    <tr>\n",
       "      <th>test_s_score</th>\n",
       "      <td>0.987355</td>\n",
       "      <td>0.987355</td>\n",
       "      <td>0.972870</td>\n",
       "      <td>0.987355</td>\n",
       "      <td>0.992600</td>\n",
       "      <td>0.985507</td>\n",
       "    </tr>\n",
       "    <tr>\n",
       "      <th>train_s_score</th>\n",
       "      <td>0.988276</td>\n",
       "      <td>0.989213</td>\n",
       "      <td>0.991755</td>\n",
       "      <td>0.990650</td>\n",
       "      <td>0.988276</td>\n",
       "      <td>0.989634</td>\n",
       "    </tr>\n",
       "    <tr>\n",
       "      <th>test_l_score</th>\n",
       "      <td>0.999999</td>\n",
       "      <td>0.999999</td>\n",
       "      <td>0.999897</td>\n",
       "      <td>0.999999</td>\n",
       "      <td>1.000000</td>\n",
       "      <td>0.999979</td>\n",
       "    </tr>\n",
       "    <tr>\n",
       "      <th>train_l_score</th>\n",
       "      <td>1.000000</td>\n",
       "      <td>1.000000</td>\n",
       "      <td>1.000000</td>\n",
       "      <td>1.000000</td>\n",
       "      <td>1.000000</td>\n",
       "      <td>1.000000</td>\n",
       "    </tr>\n",
       "  </tbody>\n",
       "</table>\n",
       "</div>"
      ],
      "text/plain": [
       "                                0         1         2         3         4  \\\n",
       "fit_time                 0.041097  0.040601  0.041358  0.040870  0.044655   \n",
       "score_time               0.012171  0.010377  0.012072  0.011044  0.007252   \n",
       "test_precision (macro)   0.969697  0.969697  0.944444  0.969697  1.000000   \n",
       "train_precision (macro)  0.967419  0.976744  0.991870  0.984127  0.967419   \n",
       "test_recall (macro)      0.966667  0.966667  0.933333  0.966667  1.000000   \n",
       "train_recall (macro)     0.966667  0.975000  0.991667  0.983333  0.966667   \n",
       "test_accuracy            0.966667  0.966667  0.933333  0.966667  1.000000   \n",
       "train_accuracy           0.966667  0.975000  0.991667  0.983333  0.966667   \n",
       "test_s_score             0.987355  0.987355  0.972870  0.987355  0.992600   \n",
       "train_s_score            0.988276  0.989213  0.991755  0.990650  0.988276   \n",
       "test_l_score             0.999999  0.999999  0.999897  0.999999  1.000000   \n",
       "train_l_score            1.000000  1.000000  1.000000  1.000000  1.000000   \n",
       "\n",
       "                          average  \n",
       "fit_time                 0.041716  \n",
       "score_time               0.010583  \n",
       "test_precision (macro)   0.970707  \n",
       "train_precision (macro)  0.977516  \n",
       "test_recall (macro)      0.966667  \n",
       "train_recall (macro)     0.976667  \n",
       "test_accuracy            0.966667  \n",
       "train_accuracy           0.976667  \n",
       "test_s_score             0.985507  \n",
       "train_s_score            0.989634  \n",
       "test_l_score             0.999979  \n",
       "train_l_score            1.000000  "
      ]
     },
     "execution_count": 13,
     "metadata": {},
     "output_type": "execute_result"
    }
   ],
   "source": [
    "model.cross_validation(X, y, cv_num=5, avg=\"macro\", console_out=False)"
   ]
  },
  {
   "cell_type": "code",
   "execution_count": null,
   "metadata": {},
   "outputs": [],
   "source": []
  }
 ],
 "metadata": {
  "kernelspec": {
   "display_name": "Python 3.9.7 ('flightright')",
   "language": "python",
   "name": "python3"
  },
  "language_info": {
   "codemirror_mode": {
    "name": "ipython",
    "version": 3
   },
   "file_extension": ".py",
   "mimetype": "text/x-python",
   "name": "python",
   "nbconvert_exporter": "python",
   "pygments_lexer": "ipython3",
   "version": "3.9.7"
  },
  "orig_nbformat": 4,
  "vscode": {
   "interpreter": {
    "hash": "a61080c3a73095cd564e03b2683e0b7d5b62e374cf815935402acc3ed4f4c554"
   }
  }
 },
 "nbformat": 4,
 "nbformat_minor": 2
}
