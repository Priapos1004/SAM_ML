{
 "cells": [
  {
   "attachments": {},
   "cell_type": "markdown",
   "metadata": {},
   "source": [
    "# Example Notebook for classifier finder"
   ]
  },
  {
   "attachments": {},
   "cell_type": "markdown",
   "metadata": {},
   "source": [
    "## 0. set log-level of sam_ml library \n",
    "\n",
    "(e.g. debugging)\n",
    "\n",
    "NOTE: has to happen before importing the sam_ml library"
   ]
  },
  {
   "cell_type": "code",
   "execution_count": 1,
   "metadata": {},
   "outputs": [],
   "source": [
    "import os\n",
    "os.environ[\"SAM_ML_LOG_LEVEL\"] = \"info\""
   ]
  },
  {
   "attachments": {},
   "cell_type": "markdown",
   "metadata": {},
   "source": [
    "## 1. libraries"
   ]
  },
  {
   "cell_type": "code",
   "execution_count": 2,
   "metadata": {},
   "outputs": [],
   "source": [
    "import pandas as pd\n",
    "from sklearn.datasets import load_iris\n",
    "from sklearn.model_selection import train_test_split\n",
    "\n",
    "from sam_ml.models import CTest, LR"
   ]
  },
  {
   "attachments": {},
   "cell_type": "markdown",
   "metadata": {},
   "source": [
    "## 2. data"
   ]
  },
  {
   "cell_type": "code",
   "execution_count": 3,
   "metadata": {},
   "outputs": [],
   "source": [
    "df = load_iris()\n",
    "y = pd.Series(df.target)\n",
    "X = pd.DataFrame(df.data, columns=df.feature_names)\n",
    "x_train, x_test, y_train, y_test = train_test_split(X,y, train_size=0.80, random_state=42)"
   ]
  },
  {
   "attachments": {},
   "cell_type": "markdown",
   "metadata": {},
   "source": [
    "## 3. model"
   ]
  },
  {
   "attachments": {},
   "cell_type": "markdown",
   "metadata": {},
   "source": [
    "### 3.1. create tester class object"
   ]
  },
  {
   "attachments": {},
   "cell_type": "markdown",
   "metadata": {},
   "source": [
    "CTest is an auto-ml class. You can use it to compare different models and find the best one for your data.\n",
    "\n",
    "**models**: list of *Classifier* subclass objects or *'all'* (for all integrated wrapper class classifier) or *'basic'* (for a smaller selection of basic classifier)\n",
    "\n",
    "**vectorizer**, **scaler**, **selector**, **sampler**: CTest init creates *Pipeline* objects out of the given models with the data class parameters given\n",
    "(look into the *iris_pipeline.ipynb* notebook to see the possible parameters)"
   ]
  },
  {
   "cell_type": "code",
   "execution_count": 4,
   "metadata": {},
   "outputs": [],
   "source": [
    "tester = CTest(\"all\", scaler=\"minmax\")"
   ]
  },
  {
   "attachments": {},
   "cell_type": "markdown",
   "metadata": {},
   "source": [
    "get all models in the CTest class object"
   ]
  },
  {
   "cell_type": "code",
   "execution_count": 5,
   "metadata": {},
   "outputs": [
    {
     "data": {
      "text/plain": [
       "{'LogisticRegression': Pipeline(vectorizer=None, scaler=Scaler(scaler='minmax', clip=False, copy=True, feature_range=(0, 1), ), selector=None, sampler=None, model=LogisticRegression(random_state=42), model_name='LogisticRegression (pipeline)'),\n",
       " 'QuadraticDiscriminantAnalysis': Pipeline(vectorizer=None, scaler=Scaler(scaler='minmax', clip=False, copy=True, feature_range=(0, 1), ), selector=None, sampler=None, model=QuadraticDiscriminantAnalysis(), model_name='QuadraticDiscriminantAnalysis (pipeline)'),\n",
       " 'LinearDiscriminantAnalysis': Pipeline(vectorizer=None, scaler=Scaler(scaler='minmax', clip=False, copy=True, feature_range=(0, 1), ), selector=None, sampler=None, model=LinearDiscriminantAnalysis(), model_name='LinearDiscriminantAnalysis (pipeline)'),\n",
       " 'MLP Classifier': Pipeline(vectorizer=None, scaler=Scaler(scaler='minmax', clip=False, copy=True, feature_range=(0, 1), ), selector=None, sampler=None, model=MLPClassifier(random_state=42), model_name='MLP Classifier (pipeline)'),\n",
       " 'LinearSupportVectorClassifier': Pipeline(vectorizer=None, scaler=Scaler(scaler='minmax', clip=False, copy=True, feature_range=(0, 1), ), selector=None, sampler=None, model=LinearSVC(random_state=42), model_name='LinearSupportVectorClassifier (pipeline)'),\n",
       " 'DecisionTreeClassifier': Pipeline(vectorizer=None, scaler=Scaler(scaler='minmax', clip=False, copy=True, feature_range=(0, 1), ), selector=None, sampler=None, model=DecisionTreeClassifier(random_state=42), model_name='DecisionTreeClassifier (pipeline)'),\n",
       " 'RandomForestClassifier': Pipeline(vectorizer=None, scaler=Scaler(scaler='minmax', clip=False, copy=True, feature_range=(0, 1), ), selector=None, sampler=None, model=RandomForestClassifier(n_jobs=-1, random_state=42), model_name='RandomForestClassifier (pipeline)'),\n",
       " 'SupportVectorClassifier': Pipeline(vectorizer=None, scaler=Scaler(scaler='minmax', clip=False, copy=True, feature_range=(0, 1), ), selector=None, sampler=None, model=SVC(random_state=42), model_name='SupportVectorClassifier (pipeline)'),\n",
       " 'GradientBoostingMachine': Pipeline(vectorizer=None, scaler=Scaler(scaler='minmax', clip=False, copy=True, feature_range=(0, 1), ), selector=None, sampler=None, model=GradientBoostingClassifier(random_state=42), model_name='GradientBoostingMachine (pipeline)'),\n",
       " 'AdaBoostClassifier (DTC based)': Pipeline(vectorizer=None, scaler=Scaler(scaler='minmax', clip=False, copy=True, feature_range=(0, 1), ), selector=None, sampler=None, model=AdaBoostClassifier(random_state=42), model_name='AdaBoostClassifier (DTC based) (pipeline)'),\n",
       " 'AdaBoostClassifier (RFC based)': Pipeline(vectorizer=None, scaler=Scaler(scaler='minmax', clip=False, copy=True, feature_range=(0, 1), ), selector=None, sampler=None, model=AdaBoostClassifier(estimator=RandomForestClassifier(max_depth=5,\n",
       "                                                     random_state=42),\n",
       "                    random_state=42), model_name='AdaBoostClassifier (RFC based) (pipeline)'),\n",
       " 'AdaBoostClassifier (mixed based)': Pipeline(vectorizer=None, scaler=Scaler(scaler='minmax', clip=False, copy=True, feature_range=(0, 1), ), selector=None, sampler=None, model=AdaBoostClassifier(estimator=LogisticRegression(), random_state=42), model_name='AdaBoostClassifier (mixed based) (pipeline)'),\n",
       " 'KNeighborsClassifier': Pipeline(vectorizer=None, scaler=Scaler(scaler='minmax', clip=False, copy=True, feature_range=(0, 1), ), selector=None, sampler=None, model=KNeighborsClassifier(), model_name='KNeighborsClassifier (pipeline)'),\n",
       " 'ExtraTreesClassifier': Pipeline(vectorizer=None, scaler=Scaler(scaler='minmax', clip=False, copy=True, feature_range=(0, 1), ), selector=None, sampler=None, model=ExtraTreesClassifier(n_jobs=-1, random_state=42), model_name='ExtraTreesClassifier (pipeline)'),\n",
       " 'GaussianNB': Pipeline(vectorizer=None, scaler=Scaler(scaler='minmax', clip=False, copy=True, feature_range=(0, 1), ), selector=None, sampler=None, model=GaussianNB(), model_name='GaussianNB (pipeline)'),\n",
       " 'BernoulliNB': Pipeline(vectorizer=None, scaler=Scaler(scaler='minmax', clip=False, copy=True, feature_range=(0, 1), ), selector=None, sampler=None, model=BernoulliNB(), model_name='BernoulliNB (pipeline)'),\n",
       " 'GaussianProcessClassifier': Pipeline(vectorizer=None, scaler=Scaler(scaler='minmax', clip=False, copy=True, feature_range=(0, 1), ), selector=None, sampler=None, model=GaussianProcessClassifier(n_jobs=-1, random_state=42), model_name='GaussianProcessClassifier (pipeline)'),\n",
       " 'BaggingClassifier (DTC based)': Pipeline(vectorizer=None, scaler=Scaler(scaler='minmax', clip=False, copy=True, feature_range=(0, 1), ), selector=None, sampler=None, model=BaggingClassifier(n_jobs=-1, random_state=42), model_name='BaggingClassifier (DTC based) (pipeline)'),\n",
       " 'BaggingClassifier (RFC based)': Pipeline(vectorizer=None, scaler=Scaler(scaler='minmax', clip=False, copy=True, feature_range=(0, 1), ), selector=None, sampler=None, model=BaggingClassifier(estimator=RandomForestClassifier(max_depth=5,\n",
       "                                                    random_state=42),\n",
       "                   n_jobs=-1, random_state=42), model_name='BaggingClassifier (RFC based) (pipeline)'),\n",
       " 'BaggingClassifier (mixed based)': Pipeline(vectorizer=None, scaler=Scaler(scaler='minmax', clip=False, copy=True, feature_range=(0, 1), ), selector=None, sampler=None, model=BaggingClassifier(estimator=LogisticRegression(), n_jobs=-1, random_state=42), model_name='BaggingClassifier (mixed based) (pipeline)'),\n",
       " 'XGBClassifier': Pipeline(vectorizer=None, scaler=Scaler(scaler='minmax', clip=False, copy=True, feature_range=(0, 1), ), selector=None, sampler=None, model=XGBClassifier(base_score=None, booster=None, callbacks=None,\n",
       "               colsample_bylevel=None, colsample_bynode=None,\n",
       "               colsample_bytree=None, early_stopping_rounds=None,\n",
       "               enable_categorical=False, eval_metric=None, feature_types=None,\n",
       "               gamma=None, gpu_id=None, grow_policy=None, importance_type=None,\n",
       "               interaction_constraints=None, learning_rate=None, max_bin=None,\n",
       "               max_cat_threshold=None, max_cat_to_onehot=None,\n",
       "               max_delta_step=None, max_depth=None, max_leaves=None,\n",
       "               min_child_weight=None, missing=nan, monotone_constraints=None,\n",
       "               n_estimators=100, n_jobs=-1, num_parallel_tree=None,\n",
       "               predictor=None, random_state=42, ...), model_name='XGBClassifier (pipeline)')}"
      ]
     },
     "execution_count": 5,
     "metadata": {},
     "output_type": "execute_result"
    }
   ],
   "source": [
    "tester.models"
   ]
  },
  {
   "attachments": {},
   "cell_type": "markdown",
   "metadata": {},
   "source": [
    "you can add models"
   ]
  },
  {
   "cell_type": "code",
   "execution_count": 6,
   "metadata": {},
   "outputs": [],
   "source": [
    "tester.add_model(LR(model_name=\"LogisticRegression (elasticnet penalty)\", penalty=\"elasticnet\", solver=\"saga\", l1_ratio=0.5))"
   ]
  },
  {
   "cell_type": "code",
   "execution_count": 7,
   "metadata": {},
   "outputs": [
    {
     "data": {
      "text/plain": [
       "{'LogisticRegression': Pipeline(vectorizer=None, scaler=Scaler(scaler='minmax', clip=False, copy=True, feature_range=(0, 1), ), selector=None, sampler=None, model=LogisticRegression(random_state=42), model_name='LogisticRegression (pipeline)'),\n",
       " 'QuadraticDiscriminantAnalysis': Pipeline(vectorizer=None, scaler=Scaler(scaler='minmax', clip=False, copy=True, feature_range=(0, 1), ), selector=None, sampler=None, model=QuadraticDiscriminantAnalysis(), model_name='QuadraticDiscriminantAnalysis (pipeline)'),\n",
       " 'LinearDiscriminantAnalysis': Pipeline(vectorizer=None, scaler=Scaler(scaler='minmax', clip=False, copy=True, feature_range=(0, 1), ), selector=None, sampler=None, model=LinearDiscriminantAnalysis(), model_name='LinearDiscriminantAnalysis (pipeline)'),\n",
       " 'MLP Classifier': Pipeline(vectorizer=None, scaler=Scaler(scaler='minmax', clip=False, copy=True, feature_range=(0, 1), ), selector=None, sampler=None, model=MLPClassifier(random_state=42), model_name='MLP Classifier (pipeline)'),\n",
       " 'LinearSupportVectorClassifier': Pipeline(vectorizer=None, scaler=Scaler(scaler='minmax', clip=False, copy=True, feature_range=(0, 1), ), selector=None, sampler=None, model=LinearSVC(random_state=42), model_name='LinearSupportVectorClassifier (pipeline)'),\n",
       " 'DecisionTreeClassifier': Pipeline(vectorizer=None, scaler=Scaler(scaler='minmax', clip=False, copy=True, feature_range=(0, 1), ), selector=None, sampler=None, model=DecisionTreeClassifier(random_state=42), model_name='DecisionTreeClassifier (pipeline)'),\n",
       " 'RandomForestClassifier': Pipeline(vectorizer=None, scaler=Scaler(scaler='minmax', clip=False, copy=True, feature_range=(0, 1), ), selector=None, sampler=None, model=RandomForestClassifier(n_jobs=-1, random_state=42), model_name='RandomForestClassifier (pipeline)'),\n",
       " 'SupportVectorClassifier': Pipeline(vectorizer=None, scaler=Scaler(scaler='minmax', clip=False, copy=True, feature_range=(0, 1), ), selector=None, sampler=None, model=SVC(random_state=42), model_name='SupportVectorClassifier (pipeline)'),\n",
       " 'GradientBoostingMachine': Pipeline(vectorizer=None, scaler=Scaler(scaler='minmax', clip=False, copy=True, feature_range=(0, 1), ), selector=None, sampler=None, model=GradientBoostingClassifier(random_state=42), model_name='GradientBoostingMachine (pipeline)'),\n",
       " 'AdaBoostClassifier (DTC based)': Pipeline(vectorizer=None, scaler=Scaler(scaler='minmax', clip=False, copy=True, feature_range=(0, 1), ), selector=None, sampler=None, model=AdaBoostClassifier(random_state=42), model_name='AdaBoostClassifier (DTC based) (pipeline)'),\n",
       " 'AdaBoostClassifier (RFC based)': Pipeline(vectorizer=None, scaler=Scaler(scaler='minmax', clip=False, copy=True, feature_range=(0, 1), ), selector=None, sampler=None, model=AdaBoostClassifier(estimator=RandomForestClassifier(max_depth=5,\n",
       "                                                     random_state=42),\n",
       "                    random_state=42), model_name='AdaBoostClassifier (RFC based) (pipeline)'),\n",
       " 'AdaBoostClassifier (mixed based)': Pipeline(vectorizer=None, scaler=Scaler(scaler='minmax', clip=False, copy=True, feature_range=(0, 1), ), selector=None, sampler=None, model=AdaBoostClassifier(estimator=LogisticRegression(), random_state=42), model_name='AdaBoostClassifier (mixed based) (pipeline)'),\n",
       " 'KNeighborsClassifier': Pipeline(vectorizer=None, scaler=Scaler(scaler='minmax', clip=False, copy=True, feature_range=(0, 1), ), selector=None, sampler=None, model=KNeighborsClassifier(), model_name='KNeighborsClassifier (pipeline)'),\n",
       " 'ExtraTreesClassifier': Pipeline(vectorizer=None, scaler=Scaler(scaler='minmax', clip=False, copy=True, feature_range=(0, 1), ), selector=None, sampler=None, model=ExtraTreesClassifier(n_jobs=-1, random_state=42), model_name='ExtraTreesClassifier (pipeline)'),\n",
       " 'GaussianNB': Pipeline(vectorizer=None, scaler=Scaler(scaler='minmax', clip=False, copy=True, feature_range=(0, 1), ), selector=None, sampler=None, model=GaussianNB(), model_name='GaussianNB (pipeline)'),\n",
       " 'BernoulliNB': Pipeline(vectorizer=None, scaler=Scaler(scaler='minmax', clip=False, copy=True, feature_range=(0, 1), ), selector=None, sampler=None, model=BernoulliNB(), model_name='BernoulliNB (pipeline)'),\n",
       " 'GaussianProcessClassifier': Pipeline(vectorizer=None, scaler=Scaler(scaler='minmax', clip=False, copy=True, feature_range=(0, 1), ), selector=None, sampler=None, model=GaussianProcessClassifier(n_jobs=-1, random_state=42), model_name='GaussianProcessClassifier (pipeline)'),\n",
       " 'BaggingClassifier (DTC based)': Pipeline(vectorizer=None, scaler=Scaler(scaler='minmax', clip=False, copy=True, feature_range=(0, 1), ), selector=None, sampler=None, model=BaggingClassifier(n_jobs=-1, random_state=42), model_name='BaggingClassifier (DTC based) (pipeline)'),\n",
       " 'BaggingClassifier (RFC based)': Pipeline(vectorizer=None, scaler=Scaler(scaler='minmax', clip=False, copy=True, feature_range=(0, 1), ), selector=None, sampler=None, model=BaggingClassifier(estimator=RandomForestClassifier(max_depth=5,\n",
       "                                                    random_state=42),\n",
       "                   n_jobs=-1, random_state=42), model_name='BaggingClassifier (RFC based) (pipeline)'),\n",
       " 'BaggingClassifier (mixed based)': Pipeline(vectorizer=None, scaler=Scaler(scaler='minmax', clip=False, copy=True, feature_range=(0, 1), ), selector=None, sampler=None, model=BaggingClassifier(estimator=LogisticRegression(), n_jobs=-1, random_state=42), model_name='BaggingClassifier (mixed based) (pipeline)'),\n",
       " 'XGBClassifier': Pipeline(vectorizer=None, scaler=Scaler(scaler='minmax', clip=False, copy=True, feature_range=(0, 1), ), selector=None, sampler=None, model=XGBClassifier(base_score=None, booster=None, callbacks=None,\n",
       "               colsample_bylevel=None, colsample_bynode=None,\n",
       "               colsample_bytree=None, early_stopping_rounds=None,\n",
       "               enable_categorical=False, eval_metric=None, feature_types=None,\n",
       "               gamma=None, gpu_id=None, grow_policy=None, importance_type=None,\n",
       "               interaction_constraints=None, learning_rate=None, max_bin=None,\n",
       "               max_cat_threshold=None, max_cat_to_onehot=None,\n",
       "               max_delta_step=None, max_depth=None, max_leaves=None,\n",
       "               min_child_weight=None, missing=nan, monotone_constraints=None,\n",
       "               n_estimators=100, n_jobs=-1, num_parallel_tree=None,\n",
       "               predictor=None, random_state=42, ...), model_name='XGBClassifier (pipeline)'),\n",
       " 'LogisticRegression (elasticnet penalty)': Pipeline(vectorizer=None, scaler=Scaler(scaler='minmax', clip=False, copy=True, feature_range=(0, 1), ), selector=None, sampler=None, model=LogisticRegression(l1_ratio=0.5, penalty='elasticnet', random_state=42,\n",
       "                    solver='saga'), model_name='LogisticRegression (elasticnet penalty) (pipeline)')}"
      ]
     },
     "execution_count": 7,
     "metadata": {},
     "output_type": "execute_result"
    }
   ],
   "source": [
    "tester.models"
   ]
  },
  {
   "attachments": {},
   "cell_type": "markdown",
   "metadata": {},
   "source": [
    "you can remove models"
   ]
  },
  {
   "cell_type": "code",
   "execution_count": 8,
   "metadata": {},
   "outputs": [],
   "source": [
    "tester.remove_model(\"LogisticRegression (elasticnet penalty)\")"
   ]
  },
  {
   "cell_type": "code",
   "execution_count": 9,
   "metadata": {},
   "outputs": [
    {
     "data": {
      "text/plain": [
       "{'LogisticRegression': Pipeline(vectorizer=None, scaler=Scaler(scaler='minmax', clip=False, copy=True, feature_range=(0, 1), ), selector=None, sampler=None, model=LogisticRegression(random_state=42), model_name='LogisticRegression (pipeline)'),\n",
       " 'QuadraticDiscriminantAnalysis': Pipeline(vectorizer=None, scaler=Scaler(scaler='minmax', clip=False, copy=True, feature_range=(0, 1), ), selector=None, sampler=None, model=QuadraticDiscriminantAnalysis(), model_name='QuadraticDiscriminantAnalysis (pipeline)'),\n",
       " 'LinearDiscriminantAnalysis': Pipeline(vectorizer=None, scaler=Scaler(scaler='minmax', clip=False, copy=True, feature_range=(0, 1), ), selector=None, sampler=None, model=LinearDiscriminantAnalysis(), model_name='LinearDiscriminantAnalysis (pipeline)'),\n",
       " 'MLP Classifier': Pipeline(vectorizer=None, scaler=Scaler(scaler='minmax', clip=False, copy=True, feature_range=(0, 1), ), selector=None, sampler=None, model=MLPClassifier(random_state=42), model_name='MLP Classifier (pipeline)'),\n",
       " 'LinearSupportVectorClassifier': Pipeline(vectorizer=None, scaler=Scaler(scaler='minmax', clip=False, copy=True, feature_range=(0, 1), ), selector=None, sampler=None, model=LinearSVC(random_state=42), model_name='LinearSupportVectorClassifier (pipeline)'),\n",
       " 'DecisionTreeClassifier': Pipeline(vectorizer=None, scaler=Scaler(scaler='minmax', clip=False, copy=True, feature_range=(0, 1), ), selector=None, sampler=None, model=DecisionTreeClassifier(random_state=42), model_name='DecisionTreeClassifier (pipeline)'),\n",
       " 'RandomForestClassifier': Pipeline(vectorizer=None, scaler=Scaler(scaler='minmax', clip=False, copy=True, feature_range=(0, 1), ), selector=None, sampler=None, model=RandomForestClassifier(n_jobs=-1, random_state=42), model_name='RandomForestClassifier (pipeline)'),\n",
       " 'SupportVectorClassifier': Pipeline(vectorizer=None, scaler=Scaler(scaler='minmax', clip=False, copy=True, feature_range=(0, 1), ), selector=None, sampler=None, model=SVC(random_state=42), model_name='SupportVectorClassifier (pipeline)'),\n",
       " 'GradientBoostingMachine': Pipeline(vectorizer=None, scaler=Scaler(scaler='minmax', clip=False, copy=True, feature_range=(0, 1), ), selector=None, sampler=None, model=GradientBoostingClassifier(random_state=42), model_name='GradientBoostingMachine (pipeline)'),\n",
       " 'AdaBoostClassifier (DTC based)': Pipeline(vectorizer=None, scaler=Scaler(scaler='minmax', clip=False, copy=True, feature_range=(0, 1), ), selector=None, sampler=None, model=AdaBoostClassifier(random_state=42), model_name='AdaBoostClassifier (DTC based) (pipeline)'),\n",
       " 'AdaBoostClassifier (RFC based)': Pipeline(vectorizer=None, scaler=Scaler(scaler='minmax', clip=False, copy=True, feature_range=(0, 1), ), selector=None, sampler=None, model=AdaBoostClassifier(estimator=RandomForestClassifier(max_depth=5,\n",
       "                                                     random_state=42),\n",
       "                    random_state=42), model_name='AdaBoostClassifier (RFC based) (pipeline)'),\n",
       " 'AdaBoostClassifier (mixed based)': Pipeline(vectorizer=None, scaler=Scaler(scaler='minmax', clip=False, copy=True, feature_range=(0, 1), ), selector=None, sampler=None, model=AdaBoostClassifier(estimator=LogisticRegression(), random_state=42), model_name='AdaBoostClassifier (mixed based) (pipeline)'),\n",
       " 'KNeighborsClassifier': Pipeline(vectorizer=None, scaler=Scaler(scaler='minmax', clip=False, copy=True, feature_range=(0, 1), ), selector=None, sampler=None, model=KNeighborsClassifier(), model_name='KNeighborsClassifier (pipeline)'),\n",
       " 'ExtraTreesClassifier': Pipeline(vectorizer=None, scaler=Scaler(scaler='minmax', clip=False, copy=True, feature_range=(0, 1), ), selector=None, sampler=None, model=ExtraTreesClassifier(n_jobs=-1, random_state=42), model_name='ExtraTreesClassifier (pipeline)'),\n",
       " 'GaussianNB': Pipeline(vectorizer=None, scaler=Scaler(scaler='minmax', clip=False, copy=True, feature_range=(0, 1), ), selector=None, sampler=None, model=GaussianNB(), model_name='GaussianNB (pipeline)'),\n",
       " 'BernoulliNB': Pipeline(vectorizer=None, scaler=Scaler(scaler='minmax', clip=False, copy=True, feature_range=(0, 1), ), selector=None, sampler=None, model=BernoulliNB(), model_name='BernoulliNB (pipeline)'),\n",
       " 'GaussianProcessClassifier': Pipeline(vectorizer=None, scaler=Scaler(scaler='minmax', clip=False, copy=True, feature_range=(0, 1), ), selector=None, sampler=None, model=GaussianProcessClassifier(n_jobs=-1, random_state=42), model_name='GaussianProcessClassifier (pipeline)'),\n",
       " 'BaggingClassifier (DTC based)': Pipeline(vectorizer=None, scaler=Scaler(scaler='minmax', clip=False, copy=True, feature_range=(0, 1), ), selector=None, sampler=None, model=BaggingClassifier(n_jobs=-1, random_state=42), model_name='BaggingClassifier (DTC based) (pipeline)'),\n",
       " 'BaggingClassifier (RFC based)': Pipeline(vectorizer=None, scaler=Scaler(scaler='minmax', clip=False, copy=True, feature_range=(0, 1), ), selector=None, sampler=None, model=BaggingClassifier(estimator=RandomForestClassifier(max_depth=5,\n",
       "                                                    random_state=42),\n",
       "                   n_jobs=-1, random_state=42), model_name='BaggingClassifier (RFC based) (pipeline)'),\n",
       " 'BaggingClassifier (mixed based)': Pipeline(vectorizer=None, scaler=Scaler(scaler='minmax', clip=False, copy=True, feature_range=(0, 1), ), selector=None, sampler=None, model=BaggingClassifier(estimator=LogisticRegression(), n_jobs=-1, random_state=42), model_name='BaggingClassifier (mixed based) (pipeline)'),\n",
       " 'XGBClassifier': Pipeline(vectorizer=None, scaler=Scaler(scaler='minmax', clip=False, copy=True, feature_range=(0, 1), ), selector=None, sampler=None, model=XGBClassifier(base_score=None, booster=None, callbacks=None,\n",
       "               colsample_bylevel=None, colsample_bynode=None,\n",
       "               colsample_bytree=None, early_stopping_rounds=None,\n",
       "               enable_categorical=False, eval_metric=None, feature_types=None,\n",
       "               gamma=None, gpu_id=None, grow_policy=None, importance_type=None,\n",
       "               interaction_constraints=None, learning_rate=None, max_bin=None,\n",
       "               max_cat_threshold=None, max_cat_to_onehot=None,\n",
       "               max_delta_step=None, max_depth=None, max_leaves=None,\n",
       "               min_child_weight=None, missing=nan, monotone_constraints=None,\n",
       "               n_estimators=100, n_jobs=-1, num_parallel_tree=None,\n",
       "               predictor=None, random_state=42, ...), model_name='XGBClassifier (pipeline)')}"
      ]
     },
     "execution_count": 9,
     "metadata": {},
     "output_type": "execute_result"
    }
   ],
   "source": [
    "tester.models"
   ]
  },
  {
   "attachments": {},
   "cell_type": "markdown",
   "metadata": {},
   "source": [
    "## 3.1. evaluation of the models"
   ]
  },
  {
   "attachments": {},
   "cell_type": "markdown",
   "metadata": {},
   "source": [
    "CTest has 3 ways implemented to evaluate the models. Depending on the dataset you can choose which one to use"
   ]
  },
  {
   "attachments": {},
   "cell_type": "markdown",
   "metadata": {},
   "source": [
    "### 3.1.1. one-vs-all cross validation"
   ]
  },
  {
   "attachments": {},
   "cell_type": "markdown",
   "metadata": {},
   "source": [
    "**Concept:**\n",
    "\n",
    "The model will be trained on all datapoints except one and then tested on this last one. This will be repeated for all datapoints so that we have our predictions for all datapoints.\n",
    "\n",
    "**Advantage:** optimal use of information for training\n",
    "\n",
    "**Disadvantage:** long train time\n",
    "\n",
    "This concept is very useful for small datasets (datapoints < 150) because the long train time is still not too long and especially with a small amount of information for the model, it is important to use all the information one has for the training."
   ]
  },
  {
   "cell_type": "code",
   "execution_count": 10,
   "metadata": {},
   "outputs": [
    {
     "data": {
      "application/vnd.jupyter.widget-view+json": {
       "model_id": "3506a2320fde4537b62c40bcfcd31aac",
       "version_major": 2,
       "version_minor": 0
      },
      "text/plain": [
       "Crossvalidation:   0%|          | 0/21 [00:00<?, ?it/s]"
      ]
     },
     "metadata": {},
     "output_type": "display_data"
    },
    {
     "data": {
      "application/vnd.jupyter.widget-view+json": {
       "model_id": "6cb8fa84140e4396b358ceb7898a2a27",
       "version_major": 2,
       "version_minor": 0
      },
      "text/plain": [
       "LogisticRegression (pipeline):   0%|          | 0/150 [00:00<?, ?it/s]"
      ]
     },
     "metadata": {},
     "output_type": "display_data"
    },
    {
     "data": {
      "application/vnd.jupyter.widget-view+json": {
       "model_id": "a14ef80df4944cfeb0f684f343aedd50",
       "version_major": 2,
       "version_minor": 0
      },
      "text/plain": [
       "QuadraticDiscriminantAnalysis (pipeline):   0%|          | 0/150 [00:00<?, ?it/s]"
      ]
     },
     "metadata": {},
     "output_type": "display_data"
    },
    {
     "data": {
      "application/vnd.jupyter.widget-view+json": {
       "model_id": "78e230c08ea64c67bbcb5e643ad9d4ee",
       "version_major": 2,
       "version_minor": 0
      },
      "text/plain": [
       "LinearDiscriminantAnalysis (pipeline):   0%|          | 0/150 [00:00<?, ?it/s]"
      ]
     },
     "metadata": {},
     "output_type": "display_data"
    },
    {
     "data": {
      "application/vnd.jupyter.widget-view+json": {
       "model_id": "f62ed9340f3549669afa0395214a7da7",
       "version_major": 2,
       "version_minor": 0
      },
      "text/plain": [
       "MLP Classifier (pipeline):   0%|          | 0/150 [00:00<?, ?it/s]"
      ]
     },
     "metadata": {},
     "output_type": "display_data"
    },
    {
     "data": {
      "application/vnd.jupyter.widget-view+json": {
       "model_id": "0e10bcc2e7a246398a167e253929404d",
       "version_major": 2,
       "version_minor": 0
      },
      "text/plain": [
       "LinearSupportVectorClassifier (pipeline):   0%|          | 0/150 [00:00<?, ?it/s]"
      ]
     },
     "metadata": {},
     "output_type": "display_data"
    },
    {
     "data": {
      "application/vnd.jupyter.widget-view+json": {
       "model_id": "d5ac2642f98b4af88beb9747aa57879e",
       "version_major": 2,
       "version_minor": 0
      },
      "text/plain": [
       "DecisionTreeClassifier (pipeline):   0%|          | 0/150 [00:00<?, ?it/s]"
      ]
     },
     "metadata": {},
     "output_type": "display_data"
    },
    {
     "data": {
      "application/vnd.jupyter.widget-view+json": {
       "model_id": "df3cfd3aca844ce4b11a98ab10ea07ed",
       "version_major": 2,
       "version_minor": 0
      },
      "text/plain": [
       "RandomForestClassifier (pipeline):   0%|          | 0/150 [00:00<?, ?it/s]"
      ]
     },
     "metadata": {},
     "output_type": "display_data"
    },
    {
     "data": {
      "application/vnd.jupyter.widget-view+json": {
       "model_id": "41bad947cee34cb7a943e22a68d44bfb",
       "version_major": 2,
       "version_minor": 0
      },
      "text/plain": [
       "SupportVectorClassifier (pipeline):   0%|          | 0/150 [00:00<?, ?it/s]"
      ]
     },
     "metadata": {},
     "output_type": "display_data"
    },
    {
     "data": {
      "application/vnd.jupyter.widget-view+json": {
       "model_id": "3bb815f2375e422787258097a0960460",
       "version_major": 2,
       "version_minor": 0
      },
      "text/plain": [
       "GradientBoostingMachine (pipeline):   0%|          | 0/150 [00:00<?, ?it/s]"
      ]
     },
     "metadata": {},
     "output_type": "display_data"
    },
    {
     "data": {
      "application/vnd.jupyter.widget-view+json": {
       "model_id": "7b71ebd3eb4745d2aab7810656f843a8",
       "version_major": 2,
       "version_minor": 0
      },
      "text/plain": [
       "AdaBoostClassifier (DTC based) (pipeline):   0%|          | 0/150 [00:00<?, ?it/s]"
      ]
     },
     "metadata": {},
     "output_type": "display_data"
    },
    {
     "data": {
      "application/vnd.jupyter.widget-view+json": {
       "model_id": "4770290470d14c5e95c61df62f79717b",
       "version_major": 2,
       "version_minor": 0
      },
      "text/plain": [
       "AdaBoostClassifier (RFC based) (pipeline):   0%|          | 0/150 [00:00<?, ?it/s]"
      ]
     },
     "metadata": {},
     "output_type": "display_data"
    },
    {
     "data": {
      "application/vnd.jupyter.widget-view+json": {
       "model_id": "7db440c81a8b49b8bfdaa0a9a7c30446",
       "version_major": 2,
       "version_minor": 0
      },
      "text/plain": [
       "AdaBoostClassifier (mixed based) (pipeline):   0%|          | 0/150 [00:00<?, ?it/s]"
      ]
     },
     "metadata": {},
     "output_type": "display_data"
    },
    {
     "data": {
      "application/vnd.jupyter.widget-view+json": {
       "model_id": "096bdba53073496cbd4d011261e280b8",
       "version_major": 2,
       "version_minor": 0
      },
      "text/plain": [
       "KNeighborsClassifier (pipeline):   0%|          | 0/150 [00:00<?, ?it/s]"
      ]
     },
     "metadata": {},
     "output_type": "display_data"
    },
    {
     "data": {
      "application/vnd.jupyter.widget-view+json": {
       "model_id": "753cf6012b0c4764b46c21dbdbad7155",
       "version_major": 2,
       "version_minor": 0
      },
      "text/plain": [
       "ExtraTreesClassifier (pipeline):   0%|          | 0/150 [00:00<?, ?it/s]"
      ]
     },
     "metadata": {},
     "output_type": "display_data"
    },
    {
     "data": {
      "application/vnd.jupyter.widget-view+json": {
       "model_id": "88599f1533ca41cfac771ea4d0b2756c",
       "version_major": 2,
       "version_minor": 0
      },
      "text/plain": [
       "GaussianNB (pipeline):   0%|          | 0/150 [00:00<?, ?it/s]"
      ]
     },
     "metadata": {},
     "output_type": "display_data"
    },
    {
     "data": {
      "application/vnd.jupyter.widget-view+json": {
       "model_id": "72c1e24300b644569fba080676379a6e",
       "version_major": 2,
       "version_minor": 0
      },
      "text/plain": [
       "BernoulliNB (pipeline):   0%|          | 0/150 [00:00<?, ?it/s]"
      ]
     },
     "metadata": {},
     "output_type": "display_data"
    },
    {
     "data": {
      "application/vnd.jupyter.widget-view+json": {
       "model_id": "12eed03a7c2042d7b8e9e7fd465fd741",
       "version_major": 2,
       "version_minor": 0
      },
      "text/plain": [
       "GaussianProcessClassifier (pipeline):   0%|          | 0/150 [00:00<?, ?it/s]"
      ]
     },
     "metadata": {},
     "output_type": "display_data"
    },
    {
     "data": {
      "application/vnd.jupyter.widget-view+json": {
       "model_id": "c22834bbbe2f4f50ac4ae37e4fa8a564",
       "version_major": 2,
       "version_minor": 0
      },
      "text/plain": [
       "BaggingClassifier (DTC based) (pipeline):   0%|          | 0/150 [00:00<?, ?it/s]"
      ]
     },
     "metadata": {},
     "output_type": "display_data"
    },
    {
     "data": {
      "application/vnd.jupyter.widget-view+json": {
       "model_id": "1047c26bc66b424b865ede215fe8815b",
       "version_major": 2,
       "version_minor": 0
      },
      "text/plain": [
       "BaggingClassifier (RFC based) (pipeline):   0%|          | 0/150 [00:00<?, ?it/s]"
      ]
     },
     "metadata": {},
     "output_type": "display_data"
    },
    {
     "data": {
      "application/vnd.jupyter.widget-view+json": {
       "model_id": "21235621cb72424bb009dc958067590b",
       "version_major": 2,
       "version_minor": 0
      },
      "text/plain": [
       "BaggingClassifier (mixed based) (pipeline):   0%|          | 0/150 [00:00<?, ?it/s]"
      ]
     },
     "metadata": {},
     "output_type": "display_data"
    },
    {
     "data": {
      "application/vnd.jupyter.widget-view+json": {
       "model_id": "4b88f6eacca943aa9d11b8a0a585e3f1",
       "version_major": 2,
       "version_minor": 0
      },
      "text/plain": [
       "XGBClassifier (pipeline):   0%|          | 0/150 [00:00<?, ?it/s]"
      ]
     },
     "metadata": {},
     "output_type": "display_data"
    },
    {
     "data": {
      "text/html": [
       "<div>\n",
       "<style scoped>\n",
       "    .dataframe tbody tr th:only-of-type {\n",
       "        vertical-align: middle;\n",
       "    }\n",
       "\n",
       "    .dataframe tbody tr th {\n",
       "        vertical-align: top;\n",
       "    }\n",
       "\n",
       "    .dataframe thead th {\n",
       "        text-align: right;\n",
       "    }\n",
       "</style>\n",
       "<table border=\"1\" class=\"dataframe\">\n",
       "  <thead>\n",
       "    <tr style=\"text-align: right;\">\n",
       "      <th></th>\n",
       "      <th>accuracy</th>\n",
       "      <th>precision</th>\n",
       "      <th>recall</th>\n",
       "      <th>s_score</th>\n",
       "      <th>l_score</th>\n",
       "      <th>train_score</th>\n",
       "      <th>train_time</th>\n",
       "    </tr>\n",
       "  </thead>\n",
       "  <tbody>\n",
       "    <tr>\n",
       "      <th>LinearDiscriminantAnalysis</th>\n",
       "      <td>0.980000</td>\n",
       "      <td>0.980125</td>\n",
       "      <td>0.980000</td>\n",
       "      <td>9.904373e-01</td>\n",
       "      <td>1.000000</td>\n",
       "      <td>0.980000</td>\n",
       "      <td>0:00:00</td>\n",
       "    </tr>\n",
       "    <tr>\n",
       "      <th>QuadraticDiscriminantAnalysis</th>\n",
       "      <td>0.973333</td>\n",
       "      <td>0.973825</td>\n",
       "      <td>0.973333</td>\n",
       "      <td>9.894085e-01</td>\n",
       "      <td>1.000000</td>\n",
       "      <td>0.980045</td>\n",
       "      <td>0:00:00</td>\n",
       "    </tr>\n",
       "    <tr>\n",
       "      <th>BaggingClassifier (DTC based)</th>\n",
       "      <td>0.960000</td>\n",
       "      <td>0.960000</td>\n",
       "      <td>0.960000</td>\n",
       "      <td>9.874448e-01</td>\n",
       "      <td>1.000000</td>\n",
       "      <td>0.999911</td>\n",
       "      <td>0:00:00</td>\n",
       "    </tr>\n",
       "    <tr>\n",
       "      <th>AdaBoostClassifier (RFC based)</th>\n",
       "      <td>0.953333</td>\n",
       "      <td>0.953448</td>\n",
       "      <td>0.953333</td>\n",
       "      <td>9.861117e-01</td>\n",
       "      <td>1.000000</td>\n",
       "      <td>1.000000</td>\n",
       "      <td>0:00:00</td>\n",
       "    </tr>\n",
       "    <tr>\n",
       "      <th>KNeighborsClassifier</th>\n",
       "      <td>0.953333</td>\n",
       "      <td>0.953448</td>\n",
       "      <td>0.953333</td>\n",
       "      <td>9.861117e-01</td>\n",
       "      <td>1.000000</td>\n",
       "      <td>0.960045</td>\n",
       "      <td>0:00:00</td>\n",
       "    </tr>\n",
       "    <tr>\n",
       "      <th>BaggingClassifier (RFC based)</th>\n",
       "      <td>0.953333</td>\n",
       "      <td>0.953448</td>\n",
       "      <td>0.953333</td>\n",
       "      <td>9.861117e-01</td>\n",
       "      <td>1.000000</td>\n",
       "      <td>0.988456</td>\n",
       "      <td>0:00:00</td>\n",
       "    </tr>\n",
       "    <tr>\n",
       "      <th>GaussianNB</th>\n",
       "      <td>0.953333</td>\n",
       "      <td>0.953448</td>\n",
       "      <td>0.953333</td>\n",
       "      <td>9.861117e-01</td>\n",
       "      <td>1.000000</td>\n",
       "      <td>0.959418</td>\n",
       "      <td>0:00:00</td>\n",
       "    </tr>\n",
       "    <tr>\n",
       "      <th>RandomForestClassifier</th>\n",
       "      <td>0.953333</td>\n",
       "      <td>0.953448</td>\n",
       "      <td>0.953333</td>\n",
       "      <td>9.861117e-01</td>\n",
       "      <td>1.000000</td>\n",
       "      <td>1.000000</td>\n",
       "      <td>0:00:00</td>\n",
       "    </tr>\n",
       "    <tr>\n",
       "      <th>SupportVectorClassifier</th>\n",
       "      <td>0.953333</td>\n",
       "      <td>0.953448</td>\n",
       "      <td>0.953333</td>\n",
       "      <td>9.861117e-01</td>\n",
       "      <td>1.000000</td>\n",
       "      <td>0.979732</td>\n",
       "      <td>0:00:00</td>\n",
       "    </tr>\n",
       "    <tr>\n",
       "      <th>GradientBoostingMachine</th>\n",
       "      <td>0.953333</td>\n",
       "      <td>0.953448</td>\n",
       "      <td>0.953333</td>\n",
       "      <td>9.861117e-01</td>\n",
       "      <td>1.000000</td>\n",
       "      <td>1.000000</td>\n",
       "      <td>0:00:00</td>\n",
       "    </tr>\n",
       "    <tr>\n",
       "      <th>AdaBoostClassifier (DTC based)</th>\n",
       "      <td>0.953333</td>\n",
       "      <td>0.954369</td>\n",
       "      <td>0.953333</td>\n",
       "      <td>9.856405e-01</td>\n",
       "      <td>0.999999</td>\n",
       "      <td>0.959866</td>\n",
       "      <td>0:00:00</td>\n",
       "    </tr>\n",
       "    <tr>\n",
       "      <th>ExtraTreesClassifier</th>\n",
       "      <td>0.953333</td>\n",
       "      <td>0.953448</td>\n",
       "      <td>0.953333</td>\n",
       "      <td>9.861117e-01</td>\n",
       "      <td>1.000000</td>\n",
       "      <td>1.000000</td>\n",
       "      <td>0:00:00</td>\n",
       "    </tr>\n",
       "    <tr>\n",
       "      <th>XGBClassifier</th>\n",
       "      <td>0.946667</td>\n",
       "      <td>0.947115</td>\n",
       "      <td>0.946667</td>\n",
       "      <td>9.844775e-01</td>\n",
       "      <td>0.999999</td>\n",
       "      <td>1.000000</td>\n",
       "      <td>0:00:00</td>\n",
       "    </tr>\n",
       "    <tr>\n",
       "      <th>DecisionTreeClassifier</th>\n",
       "      <td>0.940000</td>\n",
       "      <td>0.940109</td>\n",
       "      <td>0.940000</td>\n",
       "      <td>9.830519e-01</td>\n",
       "      <td>0.999999</td>\n",
       "      <td>1.000000</td>\n",
       "      <td>0:00:00</td>\n",
       "    </tr>\n",
       "    <tr>\n",
       "      <th>LinearSupportVectorClassifier</th>\n",
       "      <td>0.933333</td>\n",
       "      <td>0.933761</td>\n",
       "      <td>0.933333</td>\n",
       "      <td>9.809944e-01</td>\n",
       "      <td>0.999997</td>\n",
       "      <td>0.947472</td>\n",
       "      <td>0:00:00</td>\n",
       "    </tr>\n",
       "    <tr>\n",
       "      <th>BaggingClassifier (mixed based)</th>\n",
       "      <td>0.933333</td>\n",
       "      <td>0.933761</td>\n",
       "      <td>0.933333</td>\n",
       "      <td>9.809944e-01</td>\n",
       "      <td>0.999997</td>\n",
       "      <td>0.941387</td>\n",
       "      <td>0:00:00</td>\n",
       "    </tr>\n",
       "    <tr>\n",
       "      <th>GaussianProcessClassifier</th>\n",
       "      <td>0.926667</td>\n",
       "      <td>0.927606</td>\n",
       "      <td>0.926667</td>\n",
       "      <td>9.784865e-01</td>\n",
       "      <td>0.999991</td>\n",
       "      <td>0.929754</td>\n",
       "      <td>0:00:00</td>\n",
       "    </tr>\n",
       "    <tr>\n",
       "      <th>LogisticRegression</th>\n",
       "      <td>0.926667</td>\n",
       "      <td>0.927606</td>\n",
       "      <td>0.926667</td>\n",
       "      <td>9.784865e-01</td>\n",
       "      <td>0.999991</td>\n",
       "      <td>0.938837</td>\n",
       "      <td>0:00:00</td>\n",
       "    </tr>\n",
       "    <tr>\n",
       "      <th>MLP Classifier</th>\n",
       "      <td>0.913333</td>\n",
       "      <td>0.915825</td>\n",
       "      <td>0.913333</td>\n",
       "      <td>9.717302e-01</td>\n",
       "      <td>0.999946</td>\n",
       "      <td>0.929441</td>\n",
       "      <td>0:00:00</td>\n",
       "    </tr>\n",
       "    <tr>\n",
       "      <th>AdaBoostClassifier (mixed based)</th>\n",
       "      <td>0.840000</td>\n",
       "      <td>0.891892</td>\n",
       "      <td>0.840000</td>\n",
       "      <td>7.029740e-01</td>\n",
       "      <td>0.948734</td>\n",
       "      <td>0.840000</td>\n",
       "      <td>0:00:00</td>\n",
       "    </tr>\n",
       "    <tr>\n",
       "      <th>BernoulliNB</th>\n",
       "      <td>0.046667</td>\n",
       "      <td>0.339869</td>\n",
       "      <td>0.046667</td>\n",
       "      <td>7.874948e-07</td>\n",
       "      <td>0.000000</td>\n",
       "      <td>0.380179</td>\n",
       "      <td>0:00:00</td>\n",
       "    </tr>\n",
       "  </tbody>\n",
       "</table>\n",
       "</div>"
      ],
      "text/plain": [
       "                                  accuracy  precision    recall       s_score  \\\n",
       "LinearDiscriminantAnalysis        0.980000   0.980125  0.980000  9.904373e-01   \n",
       "QuadraticDiscriminantAnalysis     0.973333   0.973825  0.973333  9.894085e-01   \n",
       "BaggingClassifier (DTC based)     0.960000   0.960000  0.960000  9.874448e-01   \n",
       "AdaBoostClassifier (RFC based)    0.953333   0.953448  0.953333  9.861117e-01   \n",
       "KNeighborsClassifier              0.953333   0.953448  0.953333  9.861117e-01   \n",
       "BaggingClassifier (RFC based)     0.953333   0.953448  0.953333  9.861117e-01   \n",
       "GaussianNB                        0.953333   0.953448  0.953333  9.861117e-01   \n",
       "RandomForestClassifier            0.953333   0.953448  0.953333  9.861117e-01   \n",
       "SupportVectorClassifier           0.953333   0.953448  0.953333  9.861117e-01   \n",
       "GradientBoostingMachine           0.953333   0.953448  0.953333  9.861117e-01   \n",
       "AdaBoostClassifier (DTC based)    0.953333   0.954369  0.953333  9.856405e-01   \n",
       "ExtraTreesClassifier              0.953333   0.953448  0.953333  9.861117e-01   \n",
       "XGBClassifier                     0.946667   0.947115  0.946667  9.844775e-01   \n",
       "DecisionTreeClassifier            0.940000   0.940109  0.940000  9.830519e-01   \n",
       "LinearSupportVectorClassifier     0.933333   0.933761  0.933333  9.809944e-01   \n",
       "BaggingClassifier (mixed based)   0.933333   0.933761  0.933333  9.809944e-01   \n",
       "GaussianProcessClassifier         0.926667   0.927606  0.926667  9.784865e-01   \n",
       "LogisticRegression                0.926667   0.927606  0.926667  9.784865e-01   \n",
       "MLP Classifier                    0.913333   0.915825  0.913333  9.717302e-01   \n",
       "AdaBoostClassifier (mixed based)  0.840000   0.891892  0.840000  7.029740e-01   \n",
       "BernoulliNB                       0.046667   0.339869  0.046667  7.874948e-07   \n",
       "\n",
       "                                   l_score  train_score train_time  \n",
       "LinearDiscriminantAnalysis        1.000000     0.980000    0:00:00  \n",
       "QuadraticDiscriminantAnalysis     1.000000     0.980045    0:00:00  \n",
       "BaggingClassifier (DTC based)     1.000000     0.999911    0:00:00  \n",
       "AdaBoostClassifier (RFC based)    1.000000     1.000000    0:00:00  \n",
       "KNeighborsClassifier              1.000000     0.960045    0:00:00  \n",
       "BaggingClassifier (RFC based)     1.000000     0.988456    0:00:00  \n",
       "GaussianNB                        1.000000     0.959418    0:00:00  \n",
       "RandomForestClassifier            1.000000     1.000000    0:00:00  \n",
       "SupportVectorClassifier           1.000000     0.979732    0:00:00  \n",
       "GradientBoostingMachine           1.000000     1.000000    0:00:00  \n",
       "AdaBoostClassifier (DTC based)    0.999999     0.959866    0:00:00  \n",
       "ExtraTreesClassifier              1.000000     1.000000    0:00:00  \n",
       "XGBClassifier                     0.999999     1.000000    0:00:00  \n",
       "DecisionTreeClassifier            0.999999     1.000000    0:00:00  \n",
       "LinearSupportVectorClassifier     0.999997     0.947472    0:00:00  \n",
       "BaggingClassifier (mixed based)   0.999997     0.941387    0:00:00  \n",
       "GaussianProcessClassifier         0.999991     0.929754    0:00:00  \n",
       "LogisticRegression                0.999991     0.938837    0:00:00  \n",
       "MLP Classifier                    0.999946     0.929441    0:00:00  \n",
       "AdaBoostClassifier (mixed based)  0.948734     0.840000    0:00:00  \n",
       "BernoulliNB                       0.000000     0.380179    0:00:00  "
      ]
     },
     "execution_count": 10,
     "metadata": {},
     "output_type": "execute_result"
    }
   ],
   "source": [
    "tester.eval_models_cv(X ,y , avg=\"macro\", small_data_eval=True)\n",
    "tester.output_scores_as_pd(sort_by=\"recall\", console_out=False)"
   ]
  },
  {
   "attachments": {},
   "cell_type": "markdown",
   "metadata": {},
   "source": [
    "### 3.1.2. multiple split crossvalidation"
   ]
  },
  {
   "attachments": {},
   "cell_type": "markdown",
   "metadata": {},
   "source": [
    "does **cv_num** splits and takes the average values for evaluating the model"
   ]
  },
  {
   "cell_type": "code",
   "execution_count": 11,
   "metadata": {},
   "outputs": [
    {
     "data": {
      "application/vnd.jupyter.widget-view+json": {
       "model_id": "35bf4b62fa88490cb64feb4df031a283",
       "version_major": 2,
       "version_minor": 0
      },
      "text/plain": [
       "Crossvalidation:   0%|          | 0/21 [00:00<?, ?it/s]"
      ]
     },
     "metadata": {},
     "output_type": "display_data"
    },
    {
     "data": {
      "text/html": [
       "<div>\n",
       "<style scoped>\n",
       "    .dataframe tbody tr th:only-of-type {\n",
       "        vertical-align: middle;\n",
       "    }\n",
       "\n",
       "    .dataframe tbody tr th {\n",
       "        vertical-align: top;\n",
       "    }\n",
       "\n",
       "    .dataframe thead th {\n",
       "        text-align: right;\n",
       "    }\n",
       "</style>\n",
       "<table border=\"1\" class=\"dataframe\">\n",
       "  <thead>\n",
       "    <tr style=\"text-align: right;\">\n",
       "      <th></th>\n",
       "      <th>accuracy</th>\n",
       "      <th>precision</th>\n",
       "      <th>recall</th>\n",
       "      <th>s_score</th>\n",
       "      <th>l_score</th>\n",
       "      <th>train_score</th>\n",
       "      <th>train_time</th>\n",
       "    </tr>\n",
       "  </thead>\n",
       "  <tbody>\n",
       "    <tr>\n",
       "      <th>LinearDiscriminantAnalysis</th>\n",
       "      <td>0.966667</td>\n",
       "      <td>0.850000</td>\n",
       "      <td>0.833333</td>\n",
       "      <td>0.698512</td>\n",
       "      <td>0.700000</td>\n",
       "      <td>0.979259</td>\n",
       "      <td>0:00:00</td>\n",
       "    </tr>\n",
       "    <tr>\n",
       "      <th>QuadraticDiscriminantAnalysis</th>\n",
       "      <td>0.966667</td>\n",
       "      <td>0.850000</td>\n",
       "      <td>0.833333</td>\n",
       "      <td>0.698512</td>\n",
       "      <td>0.700000</td>\n",
       "      <td>0.982222</td>\n",
       "      <td>0:00:00</td>\n",
       "    </tr>\n",
       "    <tr>\n",
       "      <th>SupportVectorClassifier</th>\n",
       "      <td>0.953333</td>\n",
       "      <td>0.800000</td>\n",
       "      <td>0.776667</td>\n",
       "      <td>0.599006</td>\n",
       "      <td>0.600000</td>\n",
       "      <td>0.979259</td>\n",
       "      <td>0:00:00</td>\n",
       "    </tr>\n",
       "    <tr>\n",
       "      <th>AdaBoostClassifier (RFC based)</th>\n",
       "      <td>0.946667</td>\n",
       "      <td>0.800000</td>\n",
       "      <td>0.773333</td>\n",
       "      <td>0.599004</td>\n",
       "      <td>0.600000</td>\n",
       "      <td>1.000000</td>\n",
       "      <td>0:00:00</td>\n",
       "    </tr>\n",
       "    <tr>\n",
       "      <th>RandomForestClassifier</th>\n",
       "      <td>0.946667</td>\n",
       "      <td>0.800000</td>\n",
       "      <td>0.773333</td>\n",
       "      <td>0.599004</td>\n",
       "      <td>0.600000</td>\n",
       "      <td>1.000000</td>\n",
       "      <td>0:00:00</td>\n",
       "    </tr>\n",
       "    <tr>\n",
       "      <th>KNeighborsClassifier</th>\n",
       "      <td>0.946667</td>\n",
       "      <td>0.800000</td>\n",
       "      <td>0.773333</td>\n",
       "      <td>0.599005</td>\n",
       "      <td>0.600000</td>\n",
       "      <td>0.964444</td>\n",
       "      <td>0:00:00</td>\n",
       "    </tr>\n",
       "    <tr>\n",
       "      <th>ExtraTreesClassifier</th>\n",
       "      <td>0.946667</td>\n",
       "      <td>0.800000</td>\n",
       "      <td>0.773333</td>\n",
       "      <td>0.599005</td>\n",
       "      <td>0.600000</td>\n",
       "      <td>1.000000</td>\n",
       "      <td>0:00:00</td>\n",
       "    </tr>\n",
       "    <tr>\n",
       "      <th>GradientBoostingMachine</th>\n",
       "      <td>0.926667</td>\n",
       "      <td>0.800000</td>\n",
       "      <td>0.763333</td>\n",
       "      <td>0.598997</td>\n",
       "      <td>0.600000</td>\n",
       "      <td>1.000000</td>\n",
       "      <td>0:00:00</td>\n",
       "    </tr>\n",
       "    <tr>\n",
       "      <th>BaggingClassifier (DTC based)</th>\n",
       "      <td>0.920000</td>\n",
       "      <td>0.800000</td>\n",
       "      <td>0.760000</td>\n",
       "      <td>0.598951</td>\n",
       "      <td>0.600000</td>\n",
       "      <td>0.992593</td>\n",
       "      <td>0:00:00</td>\n",
       "    </tr>\n",
       "    <tr>\n",
       "      <th>DecisionTreeClassifier</th>\n",
       "      <td>0.953333</td>\n",
       "      <td>0.766667</td>\n",
       "      <td>0.743333</td>\n",
       "      <td>0.499746</td>\n",
       "      <td>0.500000</td>\n",
       "      <td>1.000000</td>\n",
       "      <td>0:00:00</td>\n",
       "    </tr>\n",
       "    <tr>\n",
       "      <th>GaussianNB</th>\n",
       "      <td>0.946667</td>\n",
       "      <td>0.766667</td>\n",
       "      <td>0.740000</td>\n",
       "      <td>0.499745</td>\n",
       "      <td>0.500000</td>\n",
       "      <td>0.961481</td>\n",
       "      <td>0:00:00</td>\n",
       "    </tr>\n",
       "    <tr>\n",
       "      <th>BaggingClassifier (RFC based)</th>\n",
       "      <td>0.946667</td>\n",
       "      <td>0.750000</td>\n",
       "      <td>0.723333</td>\n",
       "      <td>0.499499</td>\n",
       "      <td>0.500000</td>\n",
       "      <td>0.986667</td>\n",
       "      <td>0:00:02</td>\n",
       "    </tr>\n",
       "    <tr>\n",
       "      <th>AdaBoostClassifier (DTC based)</th>\n",
       "      <td>0.940000</td>\n",
       "      <td>0.750000</td>\n",
       "      <td>0.720000</td>\n",
       "      <td>0.499498</td>\n",
       "      <td>0.500000</td>\n",
       "      <td>0.962963</td>\n",
       "      <td>0:00:00</td>\n",
       "    </tr>\n",
       "    <tr>\n",
       "      <th>AdaBoostClassifier (mixed based)</th>\n",
       "      <td>0.766667</td>\n",
       "      <td>0.841667</td>\n",
       "      <td>0.720000</td>\n",
       "      <td>0.685113</td>\n",
       "      <td>0.698573</td>\n",
       "      <td>0.834815</td>\n",
       "      <td>0:00:00</td>\n",
       "    </tr>\n",
       "    <tr>\n",
       "      <th>XGBClassifier</th>\n",
       "      <td>0.933333</td>\n",
       "      <td>0.750000</td>\n",
       "      <td>0.716667</td>\n",
       "      <td>0.499494</td>\n",
       "      <td>0.500000</td>\n",
       "      <td>1.000000</td>\n",
       "      <td>0:00:00</td>\n",
       "    </tr>\n",
       "    <tr>\n",
       "      <th>LinearSupportVectorClassifier</th>\n",
       "      <td>0.866667</td>\n",
       "      <td>0.716667</td>\n",
       "      <td>0.650000</td>\n",
       "      <td>0.400174</td>\n",
       "      <td>0.400000</td>\n",
       "      <td>0.935556</td>\n",
       "      <td>0:00:00</td>\n",
       "    </tr>\n",
       "    <tr>\n",
       "      <th>LogisticRegression</th>\n",
       "      <td>0.846667</td>\n",
       "      <td>0.716667</td>\n",
       "      <td>0.640000</td>\n",
       "      <td>0.400161</td>\n",
       "      <td>0.400000</td>\n",
       "      <td>0.926667</td>\n",
       "      <td>0:00:00</td>\n",
       "    </tr>\n",
       "    <tr>\n",
       "      <th>BaggingClassifier (mixed based)</th>\n",
       "      <td>0.833333</td>\n",
       "      <td>0.716667</td>\n",
       "      <td>0.633333</td>\n",
       "      <td>0.400142</td>\n",
       "      <td>0.400000</td>\n",
       "      <td>0.928889</td>\n",
       "      <td>0:00:00</td>\n",
       "    </tr>\n",
       "    <tr>\n",
       "      <th>GaussianProcessClassifier</th>\n",
       "      <td>0.806667</td>\n",
       "      <td>0.716667</td>\n",
       "      <td>0.620000</td>\n",
       "      <td>0.400069</td>\n",
       "      <td>0.400000</td>\n",
       "      <td>0.917037</td>\n",
       "      <td>0:00:00</td>\n",
       "    </tr>\n",
       "    <tr>\n",
       "      <th>MLP Classifier</th>\n",
       "      <td>0.786667</td>\n",
       "      <td>0.716667</td>\n",
       "      <td>0.610000</td>\n",
       "      <td>0.399949</td>\n",
       "      <td>0.400000</td>\n",
       "      <td>0.919259</td>\n",
       "      <td>0:00:00</td>\n",
       "    </tr>\n",
       "    <tr>\n",
       "      <th>BernoulliNB</th>\n",
       "      <td>0.080000</td>\n",
       "      <td>0.166667</td>\n",
       "      <td>0.073333</td>\n",
       "      <td>0.000193</td>\n",
       "      <td>0.000000</td>\n",
       "      <td>0.412593</td>\n",
       "      <td>0:00:00</td>\n",
       "    </tr>\n",
       "  </tbody>\n",
       "</table>\n",
       "</div>"
      ],
      "text/plain": [
       "                                  accuracy  precision    recall   s_score  \\\n",
       "LinearDiscriminantAnalysis        0.966667   0.850000  0.833333  0.698512   \n",
       "QuadraticDiscriminantAnalysis     0.966667   0.850000  0.833333  0.698512   \n",
       "SupportVectorClassifier           0.953333   0.800000  0.776667  0.599006   \n",
       "AdaBoostClassifier (RFC based)    0.946667   0.800000  0.773333  0.599004   \n",
       "RandomForestClassifier            0.946667   0.800000  0.773333  0.599004   \n",
       "KNeighborsClassifier              0.946667   0.800000  0.773333  0.599005   \n",
       "ExtraTreesClassifier              0.946667   0.800000  0.773333  0.599005   \n",
       "GradientBoostingMachine           0.926667   0.800000  0.763333  0.598997   \n",
       "BaggingClassifier (DTC based)     0.920000   0.800000  0.760000  0.598951   \n",
       "DecisionTreeClassifier            0.953333   0.766667  0.743333  0.499746   \n",
       "GaussianNB                        0.946667   0.766667  0.740000  0.499745   \n",
       "BaggingClassifier (RFC based)     0.946667   0.750000  0.723333  0.499499   \n",
       "AdaBoostClassifier (DTC based)    0.940000   0.750000  0.720000  0.499498   \n",
       "AdaBoostClassifier (mixed based)  0.766667   0.841667  0.720000  0.685113   \n",
       "XGBClassifier                     0.933333   0.750000  0.716667  0.499494   \n",
       "LinearSupportVectorClassifier     0.866667   0.716667  0.650000  0.400174   \n",
       "LogisticRegression                0.846667   0.716667  0.640000  0.400161   \n",
       "BaggingClassifier (mixed based)   0.833333   0.716667  0.633333  0.400142   \n",
       "GaussianProcessClassifier         0.806667   0.716667  0.620000  0.400069   \n",
       "MLP Classifier                    0.786667   0.716667  0.610000  0.399949   \n",
       "BernoulliNB                       0.080000   0.166667  0.073333  0.000193   \n",
       "\n",
       "                                   l_score  train_score train_time  \n",
       "LinearDiscriminantAnalysis        0.700000     0.979259    0:00:00  \n",
       "QuadraticDiscriminantAnalysis     0.700000     0.982222    0:00:00  \n",
       "SupportVectorClassifier           0.600000     0.979259    0:00:00  \n",
       "AdaBoostClassifier (RFC based)    0.600000     1.000000    0:00:00  \n",
       "RandomForestClassifier            0.600000     1.000000    0:00:00  \n",
       "KNeighborsClassifier              0.600000     0.964444    0:00:00  \n",
       "ExtraTreesClassifier              0.600000     1.000000    0:00:00  \n",
       "GradientBoostingMachine           0.600000     1.000000    0:00:00  \n",
       "BaggingClassifier (DTC based)     0.600000     0.992593    0:00:00  \n",
       "DecisionTreeClassifier            0.500000     1.000000    0:00:00  \n",
       "GaussianNB                        0.500000     0.961481    0:00:00  \n",
       "BaggingClassifier (RFC based)     0.500000     0.986667    0:00:02  \n",
       "AdaBoostClassifier (DTC based)    0.500000     0.962963    0:00:00  \n",
       "AdaBoostClassifier (mixed based)  0.698573     0.834815    0:00:00  \n",
       "XGBClassifier                     0.500000     1.000000    0:00:00  \n",
       "LinearSupportVectorClassifier     0.400000     0.935556    0:00:00  \n",
       "LogisticRegression                0.400000     0.926667    0:00:00  \n",
       "BaggingClassifier (mixed based)   0.400000     0.928889    0:00:00  \n",
       "GaussianProcessClassifier         0.400000     0.917037    0:00:00  \n",
       "MLP Classifier                    0.400000     0.919259    0:00:00  \n",
       "BernoulliNB                       0.000000     0.412593    0:00:00  "
      ]
     },
     "execution_count": 11,
     "metadata": {},
     "output_type": "execute_result"
    }
   ],
   "source": [
    "tester.eval_models_cv(X, y, avg=\"macro\", small_data_eval=False, cv_num=10)\n",
    "tester.output_scores_as_pd(sort_by=\"recall\", console_out=False)"
   ]
  },
  {
   "attachments": {},
   "cell_type": "markdown",
   "metadata": {},
   "source": [
    "### 3.1.3. evaluate on given train-test-split"
   ]
  },
  {
   "attachments": {},
   "cell_type": "markdown",
   "metadata": {},
   "source": [
    "sometimes it only makes sense to split a dataset in one way so that cross validation is useless"
   ]
  },
  {
   "cell_type": "code",
   "execution_count": 12,
   "metadata": {},
   "outputs": [
    {
     "data": {
      "application/vnd.jupyter.widget-view+json": {
       "model_id": "7b7aa316459a496fb204acc5b99205e9",
       "version_major": 2,
       "version_minor": 0
      },
      "text/plain": [
       "Crossvalidation:   0%|          | 0/21 [00:00<?, ?it/s]"
      ]
     },
     "metadata": {},
     "output_type": "display_data"
    },
    {
     "data": {
      "text/html": [
       "<div>\n",
       "<style scoped>\n",
       "    .dataframe tbody tr th:only-of-type {\n",
       "        vertical-align: middle;\n",
       "    }\n",
       "\n",
       "    .dataframe tbody tr th {\n",
       "        vertical-align: top;\n",
       "    }\n",
       "\n",
       "    .dataframe thead th {\n",
       "        text-align: right;\n",
       "    }\n",
       "</style>\n",
       "<table border=\"1\" class=\"dataframe\">\n",
       "  <thead>\n",
       "    <tr style=\"text-align: right;\">\n",
       "      <th></th>\n",
       "      <th>accuracy</th>\n",
       "      <th>precision</th>\n",
       "      <th>recall</th>\n",
       "      <th>s_score</th>\n",
       "      <th>l_score</th>\n",
       "      <th>train_score</th>\n",
       "      <th>train_time</th>\n",
       "    </tr>\n",
       "  </thead>\n",
       "  <tbody>\n",
       "    <tr>\n",
       "      <th>AdaBoostClassifier (RFC based)</th>\n",
       "      <td>1.000000</td>\n",
       "      <td>1.000000</td>\n",
       "      <td>1.000000</td>\n",
       "      <td>0.992600</td>\n",
       "      <td>1.000000</td>\n",
       "      <td>1.000000</td>\n",
       "      <td>0:00:00</td>\n",
       "    </tr>\n",
       "    <tr>\n",
       "      <th>GradientBoostingMachine</th>\n",
       "      <td>1.000000</td>\n",
       "      <td>1.000000</td>\n",
       "      <td>1.000000</td>\n",
       "      <td>0.992600</td>\n",
       "      <td>1.000000</td>\n",
       "      <td>1.000000</td>\n",
       "      <td>0:00:00</td>\n",
       "    </tr>\n",
       "    <tr>\n",
       "      <th>BaggingClassifier (RFC based)</th>\n",
       "      <td>1.000000</td>\n",
       "      <td>1.000000</td>\n",
       "      <td>1.000000</td>\n",
       "      <td>0.992600</td>\n",
       "      <td>1.000000</td>\n",
       "      <td>0.966667</td>\n",
       "      <td>0:00:00</td>\n",
       "    </tr>\n",
       "    <tr>\n",
       "      <th>BaggingClassifier (DTC based)</th>\n",
       "      <td>1.000000</td>\n",
       "      <td>1.000000</td>\n",
       "      <td>1.000000</td>\n",
       "      <td>0.992600</td>\n",
       "      <td>1.000000</td>\n",
       "      <td>1.000000</td>\n",
       "      <td>0:00:00</td>\n",
       "    </tr>\n",
       "    <tr>\n",
       "      <th>GaussianNB</th>\n",
       "      <td>1.000000</td>\n",
       "      <td>1.000000</td>\n",
       "      <td>1.000000</td>\n",
       "      <td>0.992600</td>\n",
       "      <td>1.000000</td>\n",
       "      <td>0.950000</td>\n",
       "      <td>0:00:00</td>\n",
       "    </tr>\n",
       "    <tr>\n",
       "      <th>ExtraTreesClassifier</th>\n",
       "      <td>1.000000</td>\n",
       "      <td>1.000000</td>\n",
       "      <td>1.000000</td>\n",
       "      <td>0.992600</td>\n",
       "      <td>1.000000</td>\n",
       "      <td>1.000000</td>\n",
       "      <td>0:00:00</td>\n",
       "    </tr>\n",
       "    <tr>\n",
       "      <th>KNeighborsClassifier</th>\n",
       "      <td>1.000000</td>\n",
       "      <td>1.000000</td>\n",
       "      <td>1.000000</td>\n",
       "      <td>0.992600</td>\n",
       "      <td>1.000000</td>\n",
       "      <td>0.958333</td>\n",
       "      <td>0:00:00</td>\n",
       "    </tr>\n",
       "    <tr>\n",
       "      <th>AdaBoostClassifier (DTC based)</th>\n",
       "      <td>1.000000</td>\n",
       "      <td>1.000000</td>\n",
       "      <td>1.000000</td>\n",
       "      <td>0.992600</td>\n",
       "      <td>1.000000</td>\n",
       "      <td>0.966667</td>\n",
       "      <td>0:00:00</td>\n",
       "    </tr>\n",
       "    <tr>\n",
       "      <th>XGBClassifier</th>\n",
       "      <td>1.000000</td>\n",
       "      <td>1.000000</td>\n",
       "      <td>1.000000</td>\n",
       "      <td>0.992600</td>\n",
       "      <td>1.000000</td>\n",
       "      <td>1.000000</td>\n",
       "      <td>0:00:00</td>\n",
       "    </tr>\n",
       "    <tr>\n",
       "      <th>SupportVectorClassifier</th>\n",
       "      <td>1.000000</td>\n",
       "      <td>1.000000</td>\n",
       "      <td>1.000000</td>\n",
       "      <td>0.992600</td>\n",
       "      <td>1.000000</td>\n",
       "      <td>0.975000</td>\n",
       "      <td>0:00:00</td>\n",
       "    </tr>\n",
       "    <tr>\n",
       "      <th>RandomForestClassifier</th>\n",
       "      <td>1.000000</td>\n",
       "      <td>1.000000</td>\n",
       "      <td>1.000000</td>\n",
       "      <td>0.992600</td>\n",
       "      <td>1.000000</td>\n",
       "      <td>1.000000</td>\n",
       "      <td>0:00:00</td>\n",
       "    </tr>\n",
       "    <tr>\n",
       "      <th>DecisionTreeClassifier</th>\n",
       "      <td>1.000000</td>\n",
       "      <td>1.000000</td>\n",
       "      <td>1.000000</td>\n",
       "      <td>0.992600</td>\n",
       "      <td>1.000000</td>\n",
       "      <td>1.000000</td>\n",
       "      <td>0:00:00</td>\n",
       "    </tr>\n",
       "    <tr>\n",
       "      <th>LinearDiscriminantAnalysis</th>\n",
       "      <td>1.000000</td>\n",
       "      <td>1.000000</td>\n",
       "      <td>1.000000</td>\n",
       "      <td>0.992600</td>\n",
       "      <td>1.000000</td>\n",
       "      <td>0.975000</td>\n",
       "      <td>0:00:00</td>\n",
       "    </tr>\n",
       "    <tr>\n",
       "      <th>QuadraticDiscriminantAnalysis</th>\n",
       "      <td>0.966667</td>\n",
       "      <td>0.972222</td>\n",
       "      <td>0.962963</td>\n",
       "      <td>0.987095</td>\n",
       "      <td>0.999999</td>\n",
       "      <td>0.975000</td>\n",
       "      <td>0:00:00</td>\n",
       "    </tr>\n",
       "    <tr>\n",
       "      <th>LinearSupportVectorClassifier</th>\n",
       "      <td>0.966667</td>\n",
       "      <td>0.972222</td>\n",
       "      <td>0.962963</td>\n",
       "      <td>0.987095</td>\n",
       "      <td>0.999999</td>\n",
       "      <td>0.941667</td>\n",
       "      <td>0:00:00</td>\n",
       "    </tr>\n",
       "    <tr>\n",
       "      <th>GaussianProcessClassifier</th>\n",
       "      <td>0.966667</td>\n",
       "      <td>0.972222</td>\n",
       "      <td>0.962963</td>\n",
       "      <td>0.987095</td>\n",
       "      <td>0.999999</td>\n",
       "      <td>0.925000</td>\n",
       "      <td>0:00:00</td>\n",
       "    </tr>\n",
       "    <tr>\n",
       "      <th>MLP Classifier</th>\n",
       "      <td>0.966667</td>\n",
       "      <td>0.972222</td>\n",
       "      <td>0.962963</td>\n",
       "      <td>0.987095</td>\n",
       "      <td>0.999999</td>\n",
       "      <td>0.925000</td>\n",
       "      <td>0:00:00</td>\n",
       "    </tr>\n",
       "    <tr>\n",
       "      <th>BaggingClassifier (mixed based)</th>\n",
       "      <td>0.966667</td>\n",
       "      <td>0.972222</td>\n",
       "      <td>0.962963</td>\n",
       "      <td>0.987095</td>\n",
       "      <td>0.999999</td>\n",
       "      <td>0.933333</td>\n",
       "      <td>0:00:00</td>\n",
       "    </tr>\n",
       "    <tr>\n",
       "      <th>LogisticRegression</th>\n",
       "      <td>0.966667</td>\n",
       "      <td>0.972222</td>\n",
       "      <td>0.962963</td>\n",
       "      <td>0.987095</td>\n",
       "      <td>0.999999</td>\n",
       "      <td>0.925000</td>\n",
       "      <td>0:00:00</td>\n",
       "    </tr>\n",
       "    <tr>\n",
       "      <th>AdaBoostClassifier (mixed based)</th>\n",
       "      <td>0.866667</td>\n",
       "      <td>0.897436</td>\n",
       "      <td>0.878788</td>\n",
       "      <td>0.868214</td>\n",
       "      <td>0.990541</td>\n",
       "      <td>0.833333</td>\n",
       "      <td>0:00:00</td>\n",
       "    </tr>\n",
       "    <tr>\n",
       "      <th>BernoulliNB</th>\n",
       "      <td>0.366667</td>\n",
       "      <td>0.440476</td>\n",
       "      <td>0.400000</td>\n",
       "      <td>0.000130</td>\n",
       "      <td>0.000000</td>\n",
       "      <td>0.375000</td>\n",
       "      <td>0:00:00</td>\n",
       "    </tr>\n",
       "  </tbody>\n",
       "</table>\n",
       "</div>"
      ],
      "text/plain": [
       "                                  accuracy  precision    recall   s_score  \\\n",
       "AdaBoostClassifier (RFC based)    1.000000   1.000000  1.000000  0.992600   \n",
       "GradientBoostingMachine           1.000000   1.000000  1.000000  0.992600   \n",
       "BaggingClassifier (RFC based)     1.000000   1.000000  1.000000  0.992600   \n",
       "BaggingClassifier (DTC based)     1.000000   1.000000  1.000000  0.992600   \n",
       "GaussianNB                        1.000000   1.000000  1.000000  0.992600   \n",
       "ExtraTreesClassifier              1.000000   1.000000  1.000000  0.992600   \n",
       "KNeighborsClassifier              1.000000   1.000000  1.000000  0.992600   \n",
       "AdaBoostClassifier (DTC based)    1.000000   1.000000  1.000000  0.992600   \n",
       "XGBClassifier                     1.000000   1.000000  1.000000  0.992600   \n",
       "SupportVectorClassifier           1.000000   1.000000  1.000000  0.992600   \n",
       "RandomForestClassifier            1.000000   1.000000  1.000000  0.992600   \n",
       "DecisionTreeClassifier            1.000000   1.000000  1.000000  0.992600   \n",
       "LinearDiscriminantAnalysis        1.000000   1.000000  1.000000  0.992600   \n",
       "QuadraticDiscriminantAnalysis     0.966667   0.972222  0.962963  0.987095   \n",
       "LinearSupportVectorClassifier     0.966667   0.972222  0.962963  0.987095   \n",
       "GaussianProcessClassifier         0.966667   0.972222  0.962963  0.987095   \n",
       "MLP Classifier                    0.966667   0.972222  0.962963  0.987095   \n",
       "BaggingClassifier (mixed based)   0.966667   0.972222  0.962963  0.987095   \n",
       "LogisticRegression                0.966667   0.972222  0.962963  0.987095   \n",
       "AdaBoostClassifier (mixed based)  0.866667   0.897436  0.878788  0.868214   \n",
       "BernoulliNB                       0.366667   0.440476  0.400000  0.000130   \n",
       "\n",
       "                                   l_score  train_score train_time  \n",
       "AdaBoostClassifier (RFC based)    1.000000     1.000000    0:00:00  \n",
       "GradientBoostingMachine           1.000000     1.000000    0:00:00  \n",
       "BaggingClassifier (RFC based)     1.000000     0.966667    0:00:00  \n",
       "BaggingClassifier (DTC based)     1.000000     1.000000    0:00:00  \n",
       "GaussianNB                        1.000000     0.950000    0:00:00  \n",
       "ExtraTreesClassifier              1.000000     1.000000    0:00:00  \n",
       "KNeighborsClassifier              1.000000     0.958333    0:00:00  \n",
       "AdaBoostClassifier (DTC based)    1.000000     0.966667    0:00:00  \n",
       "XGBClassifier                     1.000000     1.000000    0:00:00  \n",
       "SupportVectorClassifier           1.000000     0.975000    0:00:00  \n",
       "RandomForestClassifier            1.000000     1.000000    0:00:00  \n",
       "DecisionTreeClassifier            1.000000     1.000000    0:00:00  \n",
       "LinearDiscriminantAnalysis        1.000000     0.975000    0:00:00  \n",
       "QuadraticDiscriminantAnalysis     0.999999     0.975000    0:00:00  \n",
       "LinearSupportVectorClassifier     0.999999     0.941667    0:00:00  \n",
       "GaussianProcessClassifier         0.999999     0.925000    0:00:00  \n",
       "MLP Classifier                    0.999999     0.925000    0:00:00  \n",
       "BaggingClassifier (mixed based)   0.999999     0.933333    0:00:00  \n",
       "LogisticRegression                0.999999     0.925000    0:00:00  \n",
       "AdaBoostClassifier (mixed based)  0.990541     0.833333    0:00:00  \n",
       "BernoulliNB                       0.000000     0.375000    0:00:00  "
      ]
     },
     "execution_count": 12,
     "metadata": {},
     "output_type": "execute_result"
    }
   ],
   "source": [
    "tester.eval_models(x_train, y_train, x_test, y_test, avg=\"macro\")\n",
    "tester.output_scores_as_pd(sort_by=\"recall\", console_out=False)"
   ]
  },
  {
   "attachments": {},
   "cell_type": "markdown",
   "metadata": {},
   "source": [
    "### 3.2. find best model"
   ]
  },
  {
   "attachments": {},
   "cell_type": "markdown",
   "metadata": {},
   "source": [
    "**Idea:**\n",
    "\n",
    "The find_best_model_randomCV method is using randomCVsearch for every modeltype to find its best hyperparameters and afterwards comparing the results of the modeltypes. The randomCVsearch should be just for a few models per modeltype to save time."
   ]
  },
  {
   "attachments": {},
   "cell_type": "markdown",
   "metadata": {},
   "source": [
    "**Useful parameters:**\n",
    "\n",
    "- you can change the used crossvalidation with **small_data_eval** and if *small_data_eval=False*, you can set the number of CVs with **cv_num**\n",
    "\n",
    "- with the **scoring** parameter you can choose which metric to look at for searching the best model (you can use **avg**, **secondary_scoring**, **strength**, and **pos_label** to more specify it)\n",
    "\n",
    "- you can change the number of parameter sets to test for each model type with **n_trails**\n",
    "\n",
    "- you can change with **leave_loadbar** if the loading bar from the  randomCVsearches of each model type shall disappear after they finished"
   ]
  },
  {
   "cell_type": "code",
   "execution_count": 13,
   "metadata": {},
   "outputs": [
    {
     "data": {
      "application/vnd.jupyter.widget-view+json": {
       "model_id": "a03e98f11abe4c4480980c44c6bb57fc",
       "version_major": 2,
       "version_minor": 0
      },
      "text/plain": [
       "randomCVsearch:   0%|          | 0/21 [00:00<?, ?it/s]"
      ]
     },
     "metadata": {},
     "output_type": "display_data"
    },
    {
     "data": {
      "application/vnd.jupyter.widget-view+json": {
       "model_id": "98629c529f104fd285d4cd60b311d7e3",
       "version_major": 2,
       "version_minor": 0
      },
      "text/plain": [
       "randomCVsearch (LogisticRegression (pipeline)):   0%|          | 0/5 [00:00<?, ?it/s]"
      ]
     },
     "metadata": {},
     "output_type": "display_data"
    },
    {
     "name": "stdout",
     "output_type": "stream",
     "text": [
      "2023-06-27 12:34:34,878 - sam_ml.models.ClassifierTest - INFO - LogisticRegression (pipeline) - score: 0.9506172839506172 (recall) - parameters: {'C': 63.512210106407046, 'penalty': 'l2', 'solver': 'saga'}\n"
     ]
    },
    {
     "data": {
      "application/vnd.jupyter.widget-view+json": {
       "model_id": "0c7f1e0a1d354848a0f3721ec02d7831",
       "version_major": 2,
       "version_minor": 0
      },
      "text/plain": [
       "randomCVsearch (QuadraticDiscriminantAnalysis (pipeline)):   0%|          | 0/5 [00:00<?, ?it/s]"
      ]
     },
     "metadata": {},
     "output_type": "display_data"
    },
    {
     "name": "stdout",
     "output_type": "stream",
     "text": [
      "2023-06-27 12:34:35,018 - sam_ml.models.ClassifierTest - INFO - QuadraticDiscriminantAnalysis (pipeline) - score: 0.9598765432098766 (recall) - parameters: {'reg_param': 0.0}\n"
     ]
    },
    {
     "data": {
      "application/vnd.jupyter.widget-view+json": {
       "model_id": "cb7a17a0984f4b3db3d3593a2ecc2090",
       "version_major": 2,
       "version_minor": 0
      },
      "text/plain": [
       "randomCVsearch (LinearDiscriminantAnalysis (pipeline)):   0%|          | 0/4 [00:00<?, ?it/s]"
      ]
     },
     "metadata": {},
     "output_type": "display_data"
    },
    {
     "name": "stdout",
     "output_type": "stream",
     "text": [
      "2023-06-27 12:34:35,126 - sam_ml.models.ClassifierTest - INFO - LinearDiscriminantAnalysis (pipeline) - score: 0.9814814814814815 (recall) - parameters: {'solver': 'svd'}\n"
     ]
    },
    {
     "data": {
      "application/vnd.jupyter.widget-view+json": {
       "model_id": "79245d41edd845efa7ea0a2d08737c35",
       "version_major": 2,
       "version_minor": 0
      },
      "text/plain": [
       "randomCVsearch (MLP Classifier (pipeline)):   0%|          | 0/5 [00:00<?, ?it/s]"
      ]
     },
     "metadata": {},
     "output_type": "display_data"
    },
    {
     "name": "stdout",
     "output_type": "stream",
     "text": [
      "2023-06-27 12:34:35,607 - sam_ml.models.ClassifierTest - INFO - MLP Classifier (pipeline) - score: 0.9363298738298736 (recall) - parameters: {'activation': 'relu', 'alpha': 0.0001, 'hidden_layer_sizes': (100,), 'learning_rate': 'constant', 'solver': 'adam'}\n"
     ]
    },
    {
     "data": {
      "application/vnd.jupyter.widget-view+json": {
       "model_id": "93a47316b82249908dae44ebaeb3d58a",
       "version_major": 2,
       "version_minor": 0
      },
      "text/plain": [
       "randomCVsearch (LinearSupportVectorClassifier (pipeline)):   0%|          | 0/5 [00:00<?, ?it/s]"
      ]
     },
     "metadata": {},
     "output_type": "display_data"
    },
    {
     "name": "stdout",
     "output_type": "stream",
     "text": [
      "2023-06-27 12:34:35,831 - sam_ml.models.ClassifierTest - INFO - LinearSupportVectorClassifier (pipeline) - score: 0.9907407407407408 (recall) - parameters: {'C': 635.1221010640695, 'dual': True, 'penalty': 'l2'}\n"
     ]
    },
    {
     "data": {
      "application/vnd.jupyter.widget-view+json": {
       "model_id": "5b49d5216d864d9998566a778d416416",
       "version_major": 2,
       "version_minor": 0
      },
      "text/plain": [
       "randomCVsearch (DecisionTreeClassifier (pipeline)):   0%|          | 0/5 [00:00<?, ?it/s]"
      ]
     },
     "metadata": {},
     "output_type": "display_data"
    },
    {
     "name": "stdout",
     "output_type": "stream",
     "text": [
      "2023-06-27 12:34:35,967 - sam_ml.models.ClassifierTest - INFO - DecisionTreeClassifier (pipeline) - score: 0.9517195767195767 (recall) - parameters: {'criterion': 'entropy', 'max_depth': 9, 'min_samples_leaf': 5, 'min_samples_split': 3}\n"
     ]
    },
    {
     "data": {
      "application/vnd.jupyter.widget-view+json": {
       "model_id": "c0771e8e55004aeb8c800478d88f6ad2",
       "version_major": 2,
       "version_minor": 0
      },
      "text/plain": [
       "randomCVsearch (RandomForestClassifier (pipeline)):   0%|          | 0/5 [00:00<?, ?it/s]"
      ]
     },
     "metadata": {},
     "output_type": "display_data"
    },
    {
     "name": "stdout",
     "output_type": "stream",
     "text": [
      "2023-06-27 12:34:36,623 - sam_ml.models.ClassifierTest - INFO - RandomForestClassifier (pipeline) - score: 0.9573412698412698 (recall) - parameters: {'bootstrap': True, 'criterion': 'gini', 'max_depth': 7, 'min_samples_leaf': 4, 'min_samples_split': 4, 'n_estimators': 164}\n"
     ]
    },
    {
     "data": {
      "application/vnd.jupyter.widget-view+json": {
       "model_id": "c00607f22db942c5ae22b67f9c100ef9",
       "version_major": 2,
       "version_minor": 0
      },
      "text/plain": [
       "randomCVsearch (SupportVectorClassifier (pipeline)):   0%|          | 0/5 [00:00<?, ?it/s]"
      ]
     },
     "metadata": {},
     "output_type": "display_data"
    },
    {
     "name": "stdout",
     "output_type": "stream",
     "text": [
      "2023-06-27 12:34:36,940 - sam_ml.models.ClassifierTest - INFO - SupportVectorClassifier (pipeline) - score: 0.9560185185185185 (recall) - parameters: {'C': 24.81040974867808, 'gamma': 0.29154431891537513, 'kernel': 'sigmoid', 'probability': True}\n"
     ]
    },
    {
     "data": {
      "application/vnd.jupyter.widget-view+json": {
       "model_id": "5e0448ce77564c30be30f3d5c7b21758",
       "version_major": 2,
       "version_minor": 0
      },
      "text/plain": [
       "randomCVsearch (GradientBoostingMachine (pipeline)):   0%|          | 0/5 [00:00<?, ?it/s]"
      ]
     },
     "metadata": {},
     "output_type": "display_data"
    },
    {
     "name": "stdout",
     "output_type": "stream",
     "text": [
      "2023-06-27 12:34:38,103 - sam_ml.models.ClassifierTest - INFO - GradientBoostingMachine (pipeline) - score: 0.9529320987654321 (recall) - parameters: {'criterion': 'friedman_mse', 'learning_rate': 0.009470976192691145, 'loss': 'deviance', 'max_depth': 8, 'max_features': 'auto', 'min_samples_leaf': 13, 'min_samples_split': 10, 'n_estimators': 256, 'subsample': 0.7195154778955838}\n"
     ]
    },
    {
     "data": {
      "application/vnd.jupyter.widget-view+json": {
       "model_id": "6ac7e1d01d2a4b9885b855b9566ff49b",
       "version_major": 2,
       "version_minor": 0
      },
      "text/plain": [
       "randomCVsearch (AdaBoostClassifier (DTC based) (pipeline)):   0%|          | 0/5 [00:00<?, ?it/s]"
      ]
     },
     "metadata": {},
     "output_type": "display_data"
    },
    {
     "name": "stdout",
     "output_type": "stream",
     "text": [
      "2023-06-27 12:34:39,526 - sam_ml.models.ClassifierTest - INFO - AdaBoostClassifier (DTC based) (pipeline) - score: 0.9529320987654321 (recall) - parameters: {'algorithm': 'SAMME', 'estimator': DecisionTreeClassifier(max_depth=2), 'learning_rate': 1.1666347719377983, 'n_estimators': 871}\n"
     ]
    },
    {
     "data": {
      "application/vnd.jupyter.widget-view+json": {
       "model_id": "6e8ac8e06000410e80c4e3263386093e",
       "version_major": 2,
       "version_minor": 0
      },
      "text/plain": [
       "randomCVsearch (AdaBoostClassifier (RFC based) (pipeline)):   0%|          | 0/5 [00:00<?, ?it/s]"
      ]
     },
     "metadata": {},
     "output_type": "display_data"
    },
    {
     "name": "stdout",
     "output_type": "stream",
     "text": [
      "2023-06-27 12:34:43,914 - sam_ml.models.ClassifierTest - INFO - AdaBoostClassifier (RFC based) (pipeline) - score: 0.9529320987654321 (recall) - parameters: {'algorithm': 'SAMME.R', 'estimator': RandomForestClassifier(max_depth=8), 'learning_rate': 1.4075303082606903, 'n_estimators': 131}\n"
     ]
    },
    {
     "data": {
      "application/vnd.jupyter.widget-view+json": {
       "model_id": "98715f0b8b334949bb732a2e04ec1408",
       "version_major": 2,
       "version_minor": 0
      },
      "text/plain": [
       "randomCVsearch (AdaBoostClassifier (mixed based) (pipeline)):   0%|          | 0/5 [00:00<?, ?it/s]"
      ]
     },
     "metadata": {},
     "output_type": "display_data"
    },
    {
     "name": "stdout",
     "output_type": "stream",
     "text": [
      "2023-06-27 12:34:47,303 - sam_ml.models.ClassifierTest - INFO - AdaBoostClassifier (mixed based) (pipeline) - score: 0.8192239858906526 (recall) - parameters: {'algorithm': 'SAMME.R', 'estimator': LogisticRegression(), 'learning_rate': 1.0, 'n_estimators': 50}\n"
     ]
    },
    {
     "data": {
      "application/vnd.jupyter.widget-view+json": {
       "model_id": "168ca865c68142fdb75747d2c95acbd8",
       "version_major": 2,
       "version_minor": 0
      },
      "text/plain": [
       "randomCVsearch (KNeighborsClassifier (pipeline)):   0%|          | 0/5 [00:00<?, ?it/s]"
      ]
     },
     "metadata": {},
     "output_type": "display_data"
    },
    {
     "name": "stdout",
     "output_type": "stream",
     "text": [
      "2023-06-27 12:34:47,558 - sam_ml.models.ClassifierTest - INFO - KNeighborsClassifier (pipeline) - score: 0.9542548500881834 (recall) - parameters: {'leaf_size': 19, 'n_neighbors': 5, 'p': 4, 'weights': 'distance'}\n"
     ]
    },
    {
     "data": {
      "application/vnd.jupyter.widget-view+json": {
       "model_id": "253f49a0924a4ff2843a1b4e5ca080a1",
       "version_major": 2,
       "version_minor": 0
      },
      "text/plain": [
       "randomCVsearch (ExtraTreesClassifier (pipeline)):   0%|          | 0/5 [00:00<?, ?it/s]"
      ]
     },
     "metadata": {},
     "output_type": "display_data"
    },
    {
     "name": "stdout",
     "output_type": "stream",
     "text": [
      "2023-06-27 12:34:48,218 - sam_ml.models.ClassifierTest - INFO - ExtraTreesClassifier (pipeline) - score: 0.9529320987654321 (recall) - parameters: {'bootstrap': False, 'criterion': 'gini', 'max_depth': 5, 'min_samples_leaf': 1, 'min_samples_split': 2, 'n_estimators': 100}\n"
     ]
    },
    {
     "data": {
      "application/vnd.jupyter.widget-view+json": {
       "model_id": "4d4a32d39d8c41e6b90e28ce95d67b9c",
       "version_major": 2,
       "version_minor": 0
      },
      "text/plain": [
       "randomCVsearch (GaussianNB (pipeline)):   0%|          | 0/5 [00:00<?, ?it/s]"
      ]
     },
     "metadata": {},
     "output_type": "display_data"
    },
    {
     "name": "stdout",
     "output_type": "stream",
     "text": [
      "2023-06-27 12:34:48,444 - sam_ml.models.ClassifierTest - INFO - GaussianNB (pipeline) - score: 0.9380511463844797 (recall) - parameters: {'var_smoothing': 1e-09}\n"
     ]
    },
    {
     "data": {
      "application/vnd.jupyter.widget-view+json": {
       "model_id": "0a8d79ace5e34e80a347b65b90b56141",
       "version_major": 2,
       "version_minor": 0
      },
      "text/plain": [
       "randomCVsearch (BernoulliNB (pipeline)):   0%|          | 0/5 [00:00<?, ?it/s]"
      ]
     },
     "metadata": {},
     "output_type": "display_data"
    },
    {
     "name": "stdout",
     "output_type": "stream",
     "text": [
      "2023-06-27 12:34:48,572 - sam_ml.models.ClassifierTest - INFO - BernoulliNB (pipeline) - score: 0.3694885361552028 (recall) - parameters: {'binarize': 0, 'fit_prior': True}\n"
     ]
    },
    {
     "data": {
      "application/vnd.jupyter.widget-view+json": {
       "model_id": "a22b9ed125274dd5a65022ee26c8f6b0",
       "version_major": 2,
       "version_minor": 0
      },
      "text/plain": [
       "randomCVsearch (GaussianProcessClassifier (pipeline)):   0%|          | 0/5 [00:00<?, ?it/s]"
      ]
     },
     "metadata": {},
     "output_type": "display_data"
    },
    {
     "name": "stdout",
     "output_type": "stream",
     "text": [
      "2023-06-27 12:34:48,802 - sam_ml.models.ClassifierTest - INFO - GaussianProcessClassifier (pipeline) - score: 0.9321496404829738 (recall) - parameters: {'max_iter_predict': 47, 'multi_class': 'one_vs_one'}\n"
     ]
    },
    {
     "data": {
      "application/vnd.jupyter.widget-view+json": {
       "model_id": "3de9f22a4a2044edb0fc48b3ba2b64ba",
       "version_major": 2,
       "version_minor": 0
      },
      "text/plain": [
       "randomCVsearch (BaggingClassifier (DTC based) (pipeline)):   0%|          | 0/5 [00:00<?, ?it/s]"
      ]
     },
     "metadata": {},
     "output_type": "display_data"
    },
    {
     "name": "stdout",
     "output_type": "stream",
     "text": [
      "2023-06-27 12:34:49,822 - sam_ml.models.ClassifierTest - INFO - BaggingClassifier (DTC based) (pipeline) - score: 0.9529320987654321 (recall) - parameters: {'bootstrap': True, 'bootstrap_features': False, 'estimator': DecisionTreeClassifier(max_depth=4), 'max_features': 1.0, 'max_samples': 1.0, 'n_estimators': 10}\n"
     ]
    },
    {
     "data": {
      "application/vnd.jupyter.widget-view+json": {
       "model_id": "35770834530947feb6a2a6c3ab8a06bd",
       "version_major": 2,
       "version_minor": 0
      },
      "text/plain": [
       "randomCVsearch (BaggingClassifier (RFC based) (pipeline)):   0%|          | 0/5 [00:00<?, ?it/s]"
      ]
     },
     "metadata": {},
     "output_type": "display_data"
    },
    {
     "name": "stdout",
     "output_type": "stream",
     "text": [
      "2023-06-27 12:35:00,466 - sam_ml.models.ClassifierTest - INFO - BaggingClassifier (RFC based) (pipeline) - score: 0.9449955908289241 (recall) - parameters: {'bootstrap': True, 'bootstrap_features': False, 'estimator': RandomForestClassifier(max_depth=4), 'max_features': 1.0, 'max_samples': 1.0, 'n_estimators': 10}\n"
     ]
    },
    {
     "data": {
      "application/vnd.jupyter.widget-view+json": {
       "model_id": "58bb92776a0f488ab70ee3bdd3e4aff4",
       "version_major": 2,
       "version_minor": 0
      },
      "text/plain": [
       "randomCVsearch (BaggingClassifier (mixed based) (pipeline)):   0%|          | 0/5 [00:00<?, ?it/s]"
      ]
     },
     "metadata": {},
     "output_type": "display_data"
    },
    {
     "name": "stdout",
     "output_type": "stream",
     "text": [
      "2023-06-27 12:35:02,549 - sam_ml.models.ClassifierTest - INFO - BaggingClassifier (mixed based) (pipeline) - score: 0.9542548500881834 (recall) - parameters: {'bootstrap': True, 'bootstrap_features': True, 'estimator': KNeighborsClassifier(), 'max_features': 4, 'max_samples': 0.373818018663584, 'n_estimators': 205}\n"
     ]
    },
    {
     "data": {
      "application/vnd.jupyter.widget-view+json": {
       "model_id": "b1c91754f4334a33891546d402750bb6",
       "version_major": 2,
       "version_minor": 0
      },
      "text/plain": [
       "randomCVsearch (XGBClassifier (pipeline)):   0%|          | 0/5 [00:00<?, ?it/s]"
      ]
     },
     "metadata": {},
     "output_type": "display_data"
    },
    {
     "name": "stdout",
     "output_type": "stream",
     "text": [
      "2023-06-27 12:35:03,014 - sam_ml.models.ClassifierTest - INFO - XGBClassifier (pipeline) - score: 0.9459876543209876 (recall) - parameters: {'colsample_bytree': 1.0, 'gamma': 0.0, 'learning_rate': 0.1, 'max_depth': 6, 'min_child_weight': 1, 'n_estimators': 100, 'reg_alpha': 0, 'reg_lambda': 1.0}\n",
      "2023-06-27 12:35:03,083 - sam_ml.models.ClassifierTest - INFO - best model type LogisticRegression - recall: 1.0 - parameters: {'C': 63.512210106407046, 'penalty': 'l2', 'solver': 'saga'}\n"
     ]
    }
   ],
   "source": [
    "scores = tester.find_best_model_randomCV(x_train, y_train, x_test, y_test, scoring=\"recall\", avg=\"macro\", small_data_eval=False)"
   ]
  },
  {
   "cell_type": "code",
   "execution_count": 14,
   "metadata": {},
   "outputs": [
    {
     "data": {
      "text/html": [
       "<div>\n",
       "<style scoped>\n",
       "    .dataframe tbody tr th:only-of-type {\n",
       "        vertical-align: middle;\n",
       "    }\n",
       "\n",
       "    .dataframe tbody tr th {\n",
       "        vertical-align: top;\n",
       "    }\n",
       "\n",
       "    .dataframe thead th {\n",
       "        text-align: right;\n",
       "    }\n",
       "</style>\n",
       "<table border=\"1\" class=\"dataframe\">\n",
       "  <thead>\n",
       "    <tr style=\"text-align: right;\">\n",
       "      <th></th>\n",
       "      <th>accuracy</th>\n",
       "      <th>precision</th>\n",
       "      <th>recall</th>\n",
       "      <th>s_score</th>\n",
       "      <th>l_score</th>\n",
       "      <th>train_time</th>\n",
       "      <th>train_score</th>\n",
       "      <th>best_score (rCVs)</th>\n",
       "      <th>best_hyperparameters (rCVs)</th>\n",
       "    </tr>\n",
       "  </thead>\n",
       "  <tbody>\n",
       "    <tr>\n",
       "      <th>LogisticRegression</th>\n",
       "      <td>1.000000</td>\n",
       "      <td>1.000000</td>\n",
       "      <td>1.000000</td>\n",
       "      <td>0.992600</td>\n",
       "      <td>1.000000</td>\n",
       "      <td>0:00:00</td>\n",
       "      <td>0.966667</td>\n",
       "      <td>0.950617</td>\n",
       "      <td>{'C': 63.512210106407046, 'penalty': 'l2', 'so...</td>\n",
       "    </tr>\n",
       "    <tr>\n",
       "      <th>LinearDiscriminantAnalysis</th>\n",
       "      <td>1.000000</td>\n",
       "      <td>1.000000</td>\n",
       "      <td>1.000000</td>\n",
       "      <td>0.992600</td>\n",
       "      <td>1.000000</td>\n",
       "      <td>0:00:00</td>\n",
       "      <td>0.975000</td>\n",
       "      <td>0.981481</td>\n",
       "      <td>{'solver': 'svd'}</td>\n",
       "    </tr>\n",
       "    <tr>\n",
       "      <th>DecisionTreeClassifier</th>\n",
       "      <td>1.000000</td>\n",
       "      <td>1.000000</td>\n",
       "      <td>1.000000</td>\n",
       "      <td>0.992600</td>\n",
       "      <td>1.000000</td>\n",
       "      <td>0:00:00</td>\n",
       "      <td>0.950000</td>\n",
       "      <td>0.951720</td>\n",
       "      <td>{'criterion': 'entropy', 'max_depth': 9, 'min_...</td>\n",
       "    </tr>\n",
       "    <tr>\n",
       "      <th>RandomForestClassifier</th>\n",
       "      <td>1.000000</td>\n",
       "      <td>1.000000</td>\n",
       "      <td>1.000000</td>\n",
       "      <td>0.992600</td>\n",
       "      <td>1.000000</td>\n",
       "      <td>0:00:00</td>\n",
       "      <td>0.966667</td>\n",
       "      <td>0.957341</td>\n",
       "      <td>{'bootstrap': True, 'criterion': 'gini', 'max_...</td>\n",
       "    </tr>\n",
       "    <tr>\n",
       "      <th>GradientBoostingMachine</th>\n",
       "      <td>1.000000</td>\n",
       "      <td>1.000000</td>\n",
       "      <td>1.000000</td>\n",
       "      <td>0.992600</td>\n",
       "      <td>1.000000</td>\n",
       "      <td>0:00:00</td>\n",
       "      <td>0.958333</td>\n",
       "      <td>0.952932</td>\n",
       "      <td>{'criterion': 'friedman_mse', 'learning_rate':...</td>\n",
       "    </tr>\n",
       "    <tr>\n",
       "      <th>AdaBoostClassifier (RFC based)</th>\n",
       "      <td>1.000000</td>\n",
       "      <td>1.000000</td>\n",
       "      <td>1.000000</td>\n",
       "      <td>0.992600</td>\n",
       "      <td>1.000000</td>\n",
       "      <td>0:00:00</td>\n",
       "      <td>1.000000</td>\n",
       "      <td>0.952932</td>\n",
       "      <td>{'algorithm': 'SAMME.R', 'estimator': RandomFo...</td>\n",
       "    </tr>\n",
       "    <tr>\n",
       "      <th>KNeighborsClassifier</th>\n",
       "      <td>1.000000</td>\n",
       "      <td>1.000000</td>\n",
       "      <td>1.000000</td>\n",
       "      <td>0.992600</td>\n",
       "      <td>1.000000</td>\n",
       "      <td>0:00:00</td>\n",
       "      <td>1.000000</td>\n",
       "      <td>0.954255</td>\n",
       "      <td>{'leaf_size': 19, 'n_neighbors': 5, 'p': 4, 'w...</td>\n",
       "    </tr>\n",
       "    <tr>\n",
       "      <th>ExtraTreesClassifier</th>\n",
       "      <td>1.000000</td>\n",
       "      <td>1.000000</td>\n",
       "      <td>1.000000</td>\n",
       "      <td>0.992600</td>\n",
       "      <td>1.000000</td>\n",
       "      <td>0:00:00</td>\n",
       "      <td>0.983333</td>\n",
       "      <td>0.952932</td>\n",
       "      <td>{'bootstrap': False, 'criterion': 'gini', 'max...</td>\n",
       "    </tr>\n",
       "    <tr>\n",
       "      <th>GaussianNB</th>\n",
       "      <td>1.000000</td>\n",
       "      <td>1.000000</td>\n",
       "      <td>1.000000</td>\n",
       "      <td>0.992600</td>\n",
       "      <td>1.000000</td>\n",
       "      <td>0:00:00</td>\n",
       "      <td>0.950000</td>\n",
       "      <td>0.938051</td>\n",
       "      <td>{'var_smoothing': 1e-09}</td>\n",
       "    </tr>\n",
       "    <tr>\n",
       "      <th>GaussianProcessClassifier</th>\n",
       "      <td>1.000000</td>\n",
       "      <td>1.000000</td>\n",
       "      <td>1.000000</td>\n",
       "      <td>0.992600</td>\n",
       "      <td>1.000000</td>\n",
       "      <td>0:00:00</td>\n",
       "      <td>0.941667</td>\n",
       "      <td>0.932150</td>\n",
       "      <td>{'max_iter_predict': 47, 'multi_class': 'one_v...</td>\n",
       "    </tr>\n",
       "    <tr>\n",
       "      <th>BaggingClassifier (DTC based)</th>\n",
       "      <td>1.000000</td>\n",
       "      <td>1.000000</td>\n",
       "      <td>1.000000</td>\n",
       "      <td>0.992600</td>\n",
       "      <td>1.000000</td>\n",
       "      <td>0:00:00</td>\n",
       "      <td>0.991667</td>\n",
       "      <td>0.952932</td>\n",
       "      <td>{'bootstrap': True, 'bootstrap_features': Fals...</td>\n",
       "    </tr>\n",
       "    <tr>\n",
       "      <th>BaggingClassifier (RFC based)</th>\n",
       "      <td>1.000000</td>\n",
       "      <td>1.000000</td>\n",
       "      <td>1.000000</td>\n",
       "      <td>0.992600</td>\n",
       "      <td>1.000000</td>\n",
       "      <td>0:00:00</td>\n",
       "      <td>0.958333</td>\n",
       "      <td>0.944996</td>\n",
       "      <td>{'bootstrap': True, 'bootstrap_features': Fals...</td>\n",
       "    </tr>\n",
       "    <tr>\n",
       "      <th>BaggingClassifier (mixed based)</th>\n",
       "      <td>1.000000</td>\n",
       "      <td>1.000000</td>\n",
       "      <td>1.000000</td>\n",
       "      <td>0.992600</td>\n",
       "      <td>1.000000</td>\n",
       "      <td>0:00:00</td>\n",
       "      <td>0.958333</td>\n",
       "      <td>0.954255</td>\n",
       "      <td>{'bootstrap': True, 'bootstrap_features': True...</td>\n",
       "    </tr>\n",
       "    <tr>\n",
       "      <th>XGBClassifier</th>\n",
       "      <td>1.000000</td>\n",
       "      <td>1.000000</td>\n",
       "      <td>1.000000</td>\n",
       "      <td>0.992600</td>\n",
       "      <td>1.000000</td>\n",
       "      <td>0:00:00</td>\n",
       "      <td>1.000000</td>\n",
       "      <td>0.945988</td>\n",
       "      <td>{'colsample_bytree': 1.0, 'gamma': 0.0, 'learn...</td>\n",
       "    </tr>\n",
       "    <tr>\n",
       "      <th>AdaBoostClassifier (DTC based)</th>\n",
       "      <td>0.966667</td>\n",
       "      <td>0.966667</td>\n",
       "      <td>0.969697</td>\n",
       "      <td>0.987355</td>\n",
       "      <td>0.999999</td>\n",
       "      <td>0:00:00</td>\n",
       "      <td>1.000000</td>\n",
       "      <td>0.952932</td>\n",
       "      <td>{'algorithm': 'SAMME', 'estimator': DecisionTr...</td>\n",
       "    </tr>\n",
       "    <tr>\n",
       "      <th>QuadraticDiscriminantAnalysis</th>\n",
       "      <td>0.966667</td>\n",
       "      <td>0.972222</td>\n",
       "      <td>0.962963</td>\n",
       "      <td>0.987095</td>\n",
       "      <td>0.999999</td>\n",
       "      <td>0:00:00</td>\n",
       "      <td>0.975000</td>\n",
       "      <td>0.959877</td>\n",
       "      <td>{'reg_param': 0.0}</td>\n",
       "    </tr>\n",
       "    <tr>\n",
       "      <th>MLP Classifier</th>\n",
       "      <td>0.966667</td>\n",
       "      <td>0.972222</td>\n",
       "      <td>0.962963</td>\n",
       "      <td>0.987095</td>\n",
       "      <td>0.999999</td>\n",
       "      <td>0:00:00</td>\n",
       "      <td>0.925000</td>\n",
       "      <td>0.936330</td>\n",
       "      <td>{'activation': 'relu', 'alpha': 0.0001, 'hidde...</td>\n",
       "    </tr>\n",
       "    <tr>\n",
       "      <th>SupportVectorClassifier</th>\n",
       "      <td>0.966667</td>\n",
       "      <td>0.972222</td>\n",
       "      <td>0.962963</td>\n",
       "      <td>0.987095</td>\n",
       "      <td>0.999999</td>\n",
       "      <td>0:00:00</td>\n",
       "      <td>0.975000</td>\n",
       "      <td>0.956019</td>\n",
       "      <td>{'C': 24.81040974867808, 'gamma': 0.2915443189...</td>\n",
       "    </tr>\n",
       "    <tr>\n",
       "      <th>LinearSupportVectorClassifier</th>\n",
       "      <td>0.933333</td>\n",
       "      <td>0.948718</td>\n",
       "      <td>0.925926</td>\n",
       "      <td>0.970185</td>\n",
       "      <td>0.999802</td>\n",
       "      <td>0:00:00</td>\n",
       "      <td>0.966667</td>\n",
       "      <td>0.990741</td>\n",
       "      <td>{'C': 635.1221010640695, 'dual': True, 'penalt...</td>\n",
       "    </tr>\n",
       "    <tr>\n",
       "      <th>AdaBoostClassifier (mixed based)</th>\n",
       "      <td>0.866667</td>\n",
       "      <td>0.897436</td>\n",
       "      <td>0.878788</td>\n",
       "      <td>0.868214</td>\n",
       "      <td>0.990541</td>\n",
       "      <td>0:00:00</td>\n",
       "      <td>0.833333</td>\n",
       "      <td>0.819224</td>\n",
       "      <td>{'algorithm': 'SAMME.R', 'estimator': Logistic...</td>\n",
       "    </tr>\n",
       "    <tr>\n",
       "      <th>BernoulliNB</th>\n",
       "      <td>0.366667</td>\n",
       "      <td>0.440476</td>\n",
       "      <td>0.400000</td>\n",
       "      <td>0.000130</td>\n",
       "      <td>0.000000</td>\n",
       "      <td>0:00:00</td>\n",
       "      <td>0.375000</td>\n",
       "      <td>0.369489</td>\n",
       "      <td>{'binarize': 0, 'fit_prior': True}</td>\n",
       "    </tr>\n",
       "  </tbody>\n",
       "</table>\n",
       "</div>"
      ],
      "text/plain": [
       "                                  accuracy  precision    recall   s_score  \\\n",
       "LogisticRegression                1.000000   1.000000  1.000000  0.992600   \n",
       "LinearDiscriminantAnalysis        1.000000   1.000000  1.000000  0.992600   \n",
       "DecisionTreeClassifier            1.000000   1.000000  1.000000  0.992600   \n",
       "RandomForestClassifier            1.000000   1.000000  1.000000  0.992600   \n",
       "GradientBoostingMachine           1.000000   1.000000  1.000000  0.992600   \n",
       "AdaBoostClassifier (RFC based)    1.000000   1.000000  1.000000  0.992600   \n",
       "KNeighborsClassifier              1.000000   1.000000  1.000000  0.992600   \n",
       "ExtraTreesClassifier              1.000000   1.000000  1.000000  0.992600   \n",
       "GaussianNB                        1.000000   1.000000  1.000000  0.992600   \n",
       "GaussianProcessClassifier         1.000000   1.000000  1.000000  0.992600   \n",
       "BaggingClassifier (DTC based)     1.000000   1.000000  1.000000  0.992600   \n",
       "BaggingClassifier (RFC based)     1.000000   1.000000  1.000000  0.992600   \n",
       "BaggingClassifier (mixed based)   1.000000   1.000000  1.000000  0.992600   \n",
       "XGBClassifier                     1.000000   1.000000  1.000000  0.992600   \n",
       "AdaBoostClassifier (DTC based)    0.966667   0.966667  0.969697  0.987355   \n",
       "QuadraticDiscriminantAnalysis     0.966667   0.972222  0.962963  0.987095   \n",
       "MLP Classifier                    0.966667   0.972222  0.962963  0.987095   \n",
       "SupportVectorClassifier           0.966667   0.972222  0.962963  0.987095   \n",
       "LinearSupportVectorClassifier     0.933333   0.948718  0.925926  0.970185   \n",
       "AdaBoostClassifier (mixed based)  0.866667   0.897436  0.878788  0.868214   \n",
       "BernoulliNB                       0.366667   0.440476  0.400000  0.000130   \n",
       "\n",
       "                                   l_score train_time  train_score  \\\n",
       "LogisticRegression                1.000000    0:00:00     0.966667   \n",
       "LinearDiscriminantAnalysis        1.000000    0:00:00     0.975000   \n",
       "DecisionTreeClassifier            1.000000    0:00:00     0.950000   \n",
       "RandomForestClassifier            1.000000    0:00:00     0.966667   \n",
       "GradientBoostingMachine           1.000000    0:00:00     0.958333   \n",
       "AdaBoostClassifier (RFC based)    1.000000    0:00:00     1.000000   \n",
       "KNeighborsClassifier              1.000000    0:00:00     1.000000   \n",
       "ExtraTreesClassifier              1.000000    0:00:00     0.983333   \n",
       "GaussianNB                        1.000000    0:00:00     0.950000   \n",
       "GaussianProcessClassifier         1.000000    0:00:00     0.941667   \n",
       "BaggingClassifier (DTC based)     1.000000    0:00:00     0.991667   \n",
       "BaggingClassifier (RFC based)     1.000000    0:00:00     0.958333   \n",
       "BaggingClassifier (mixed based)   1.000000    0:00:00     0.958333   \n",
       "XGBClassifier                     1.000000    0:00:00     1.000000   \n",
       "AdaBoostClassifier (DTC based)    0.999999    0:00:00     1.000000   \n",
       "QuadraticDiscriminantAnalysis     0.999999    0:00:00     0.975000   \n",
       "MLP Classifier                    0.999999    0:00:00     0.925000   \n",
       "SupportVectorClassifier           0.999999    0:00:00     0.975000   \n",
       "LinearSupportVectorClassifier     0.999802    0:00:00     0.966667   \n",
       "AdaBoostClassifier (mixed based)  0.990541    0:00:00     0.833333   \n",
       "BernoulliNB                       0.000000    0:00:00     0.375000   \n",
       "\n",
       "                                  best_score (rCVs)  \\\n",
       "LogisticRegression                         0.950617   \n",
       "LinearDiscriminantAnalysis                 0.981481   \n",
       "DecisionTreeClassifier                     0.951720   \n",
       "RandomForestClassifier                     0.957341   \n",
       "GradientBoostingMachine                    0.952932   \n",
       "AdaBoostClassifier (RFC based)             0.952932   \n",
       "KNeighborsClassifier                       0.954255   \n",
       "ExtraTreesClassifier                       0.952932   \n",
       "GaussianNB                                 0.938051   \n",
       "GaussianProcessClassifier                  0.932150   \n",
       "BaggingClassifier (DTC based)              0.952932   \n",
       "BaggingClassifier (RFC based)              0.944996   \n",
       "BaggingClassifier (mixed based)            0.954255   \n",
       "XGBClassifier                              0.945988   \n",
       "AdaBoostClassifier (DTC based)             0.952932   \n",
       "QuadraticDiscriminantAnalysis              0.959877   \n",
       "MLP Classifier                             0.936330   \n",
       "SupportVectorClassifier                    0.956019   \n",
       "LinearSupportVectorClassifier              0.990741   \n",
       "AdaBoostClassifier (mixed based)           0.819224   \n",
       "BernoulliNB                                0.369489   \n",
       "\n",
       "                                                        best_hyperparameters (rCVs)  \n",
       "LogisticRegression                {'C': 63.512210106407046, 'penalty': 'l2', 'so...  \n",
       "LinearDiscriminantAnalysis                                        {'solver': 'svd'}  \n",
       "DecisionTreeClassifier            {'criterion': 'entropy', 'max_depth': 9, 'min_...  \n",
       "RandomForestClassifier            {'bootstrap': True, 'criterion': 'gini', 'max_...  \n",
       "GradientBoostingMachine           {'criterion': 'friedman_mse', 'learning_rate':...  \n",
       "AdaBoostClassifier (RFC based)    {'algorithm': 'SAMME.R', 'estimator': RandomFo...  \n",
       "KNeighborsClassifier              {'leaf_size': 19, 'n_neighbors': 5, 'p': 4, 'w...  \n",
       "ExtraTreesClassifier              {'bootstrap': False, 'criterion': 'gini', 'max...  \n",
       "GaussianNB                                                 {'var_smoothing': 1e-09}  \n",
       "GaussianProcessClassifier         {'max_iter_predict': 47, 'multi_class': 'one_v...  \n",
       "BaggingClassifier (DTC based)     {'bootstrap': True, 'bootstrap_features': Fals...  \n",
       "BaggingClassifier (RFC based)     {'bootstrap': True, 'bootstrap_features': Fals...  \n",
       "BaggingClassifier (mixed based)   {'bootstrap': True, 'bootstrap_features': True...  \n",
       "XGBClassifier                     {'colsample_bytree': 1.0, 'gamma': 0.0, 'learn...  \n",
       "AdaBoostClassifier (DTC based)    {'algorithm': 'SAMME', 'estimator': DecisionTr...  \n",
       "QuadraticDiscriminantAnalysis                                    {'reg_param': 0.0}  \n",
       "MLP Classifier                    {'activation': 'relu', 'alpha': 0.0001, 'hidde...  \n",
       "SupportVectorClassifier           {'C': 24.81040974867808, 'gamma': 0.2915443189...  \n",
       "LinearSupportVectorClassifier     {'C': 635.1221010640695, 'dual': True, 'penalt...  \n",
       "AdaBoostClassifier (mixed based)  {'algorithm': 'SAMME.R', 'estimator': Logistic...  \n",
       "BernoulliNB                                      {'binarize': 0, 'fit_prior': True}  "
      ]
     },
     "execution_count": 14,
     "metadata": {},
     "output_type": "execute_result"
    }
   ],
   "source": [
    "tester.output_scores_as_pd(sort_by=[\"recall\", \"train_time\"], console_out=False)"
   ]
  },
  {
   "cell_type": "code",
   "execution_count": null,
   "metadata": {},
   "outputs": [],
   "source": []
  }
 ],
 "metadata": {
  "kernelspec": {
   "display_name": "Python 3.9.7 ('sam_ml')",
   "language": "python",
   "name": "python3"
  },
  "language_info": {
   "codemirror_mode": {
    "name": "ipython",
    "version": 3
   },
   "file_extension": ".py",
   "mimetype": "text/x-python",
   "name": "python",
   "nbconvert_exporter": "python",
   "pygments_lexer": "ipython3",
   "version": "3.10.11"
  },
  "orig_nbformat": 4,
  "vscode": {
   "interpreter": {
    "hash": "5b738b73aff05be6a815c168ec02e2f25923ef65f9da64e59e0db381ef6ddb14"
   }
  }
 },
 "nbformat": 4,
 "nbformat_minor": 2
}
