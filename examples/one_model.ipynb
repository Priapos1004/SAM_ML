{
 "cells": [
  {
   "cell_type": "markdown",
   "metadata": {},
   "source": [
    "# Example Notebook for one model"
   ]
  },
  {
   "cell_type": "markdown",
   "metadata": {},
   "source": [
    "## 1. libraries"
   ]
  },
  {
   "cell_type": "code",
   "execution_count": 1,
   "metadata": {},
   "outputs": [],
   "source": [
    "import pandas as pd\n",
    "from sklearn.datasets import load_iris\n",
    "from sklearn.metrics import make_scorer\n",
    "from sklearn.model_selection import train_test_split\n",
    "\n",
    "from sam_ml.models import RFC\n",
    "from sam_ml.data import sample\n",
    "from sam_ml.models.scorer import s_scoring"
   ]
  },
  {
   "cell_type": "markdown",
   "metadata": {},
   "source": [
    "## 2. data"
   ]
  },
  {
   "cell_type": "markdown",
   "metadata": {},
   "source": [
    "### 2.1. load dataset"
   ]
  },
  {
   "cell_type": "code",
   "execution_count": 2,
   "metadata": {},
   "outputs": [],
   "source": [
    "df = load_iris()\n",
    "y = pd.Series(df.target)\n",
    "X = pd.DataFrame(df.data, columns=df.feature_names)\n",
    "x_train, x_test, y_train, y_test = train_test_split(X,y, train_size=0.80, random_state=42)"
   ]
  },
  {
   "cell_type": "markdown",
   "metadata": {},
   "source": [
    "### 2.2. upsample data"
   ]
  },
  {
   "cell_type": "code",
   "execution_count": 3,
   "metadata": {},
   "outputs": [
    {
     "name": "stdout",
     "output_type": "stream",
     "text": [
      "Value counts before upsampling:\n"
     ]
    },
    {
     "data": {
      "text/plain": [
       "1    41\n",
       "0    40\n",
       "2    39\n",
       "dtype: int64"
      ]
     },
     "execution_count": 3,
     "metadata": {},
     "output_type": "execute_result"
    }
   ],
   "source": [
    "print(\"Value counts before upsampling:\")\n",
    "y_train.value_counts()"
   ]
  },
  {
   "cell_type": "code",
   "execution_count": 4,
   "metadata": {},
   "outputs": [],
   "source": [
    "x_train, y_train = sample(x_train, y_train, type=\"SMOTE\")"
   ]
  },
  {
   "cell_type": "code",
   "execution_count": 5,
   "metadata": {},
   "outputs": [
    {
     "name": "stdout",
     "output_type": "stream",
     "text": [
      "Value counts after upsampling:\n"
     ]
    },
    {
     "data": {
      "text/plain": [
       "0    41\n",
       "1    41\n",
       "2    41\n",
       "dtype: int64"
      ]
     },
     "execution_count": 5,
     "metadata": {},
     "output_type": "execute_result"
    }
   ],
   "source": [
    "print(\"Value counts after upsampling:\")\n",
    "y_train.value_counts()"
   ]
  },
  {
   "cell_type": "markdown",
   "metadata": {},
   "source": [
    "## 3. model"
   ]
  },
  {
   "cell_type": "markdown",
   "metadata": {},
   "source": [
    "The following class methods apply to all models in sam_ml.models. Here as an example the RandomForestClassifier."
   ]
  },
  {
   "cell_type": "markdown",
   "metadata": {},
   "source": [
    "### 3.1. simple training"
   ]
  },
  {
   "cell_type": "code",
   "execution_count": 6,
   "metadata": {},
   "outputs": [
    {
     "name": "stdout",
     "output_type": "stream",
     "text": [
      "Train score:  1.0  - Train time:  0:00:00\n",
      "accuracy:  1.0\n",
      "precision:  [1. 1. 1.]\n",
      "recall:  [1. 1. 1.]\n",
      "classification report: \n",
      "              precision    recall  f1-score   support\n",
      "\n",
      "           0       1.00      1.00      1.00        10\n",
      "           1       1.00      1.00      1.00         9\n",
      "           2       1.00      1.00      1.00        11\n",
      "\n",
      "    accuracy                           1.00        30\n",
      "   macro avg       1.00      1.00      1.00        30\n",
      "weighted avg       1.00      1.00      1.00        30\n",
      "\n"
     ]
    },
    {
     "data": {
      "text/plain": [
       "{'accuracy': 1.0,\n",
       " 'precision': array([1., 1., 1.]),\n",
       " 'recall': array([1., 1., 1.]),\n",
       " 's_score': 0.9926004570086354,\n",
       " 'l_score': 1.0}"
      ]
     },
     "execution_count": 6,
     "metadata": {},
     "output_type": "execute_result"
    }
   ],
   "source": [
    "model = RFC()\n",
    "model.train(x_train, y_train)\n",
    "model.evaluate(x_test, y_test)"
   ]
  },
  {
   "cell_type": "code",
   "execution_count": 7,
   "metadata": {},
   "outputs": [
    {
     "data": {
      "image/png": "[encoded data removed]",
      "text/plain": [
       "<Figure size 432x288 with 1 Axes>"
      ]
     },
     "metadata": {
      "needs_background": "light"
     },
     "output_type": "display_data"
    }
   ],
   "source": [
    "model.feature_importance()"
   ]
  },
  {
   "cell_type": "markdown",
   "metadata": {},
   "source": [
    "### 3.2. hyperparameter tuning"
   ]
  },
  {
   "cell_type": "markdown",
   "metadata": {},
   "source": [
    "#### 3.2.1. recall optimization (with recall_score function)"
   ]
  },
  {
   "cell_type": "code",
   "execution_count": 8,
   "metadata": {},
   "outputs": [
    {
     "name": "stdout",
     "output_type": "stream",
     "text": [
      "\n",
      "Best: 0.951667 using {'n_estimators': 2, 'min_samples_split': 5, 'min_samples_leaf': 4, 'max_depth': 8, 'criterion': 'gini', 'bootstrap': False}\n",
      "\n",
      "accuracy:  1.0\n",
      "precision:  1.0\n",
      "recall:  1.0\n",
      "classification report: \n",
      "              precision    recall  f1-score   support\n",
      "\n",
      "           0       1.00      1.00      1.00        10\n",
      "           1       1.00      1.00      1.00         9\n",
      "           2       1.00      1.00      1.00        11\n",
      "\n",
      "    accuracy                           1.00        30\n",
      "   macro avg       1.00      1.00      1.00        30\n",
      "weighted avg       1.00      1.00      1.00        30\n",
      "\n"
     ]
    },
    {
     "data": {
      "text/plain": [
       "{'accuracy': 1.0,\n",
       " 'precision': 1.0,\n",
       " 'recall': 1.0,\n",
       " 's_score': 0.9926004570086354,\n",
       " 'l_score': 1.0}"
      ]
     },
     "execution_count": 8,
     "metadata": {},
     "output_type": "execute_result"
    }
   ],
   "source": [
    "model.hyperparameter_tuning(x_train, y_train, scoring=\"recall\", avg=\"macro\", train_afterwards=True)\n",
    "model.evaluate(x_test, y_test, avg=\"macro\")"
   ]
  },
  {
   "cell_type": "markdown",
   "metadata": {},
   "source": [
    "#### 3.2.2. recall optimization (with s_scoring function)"
   ]
  },
  {
   "cell_type": "code",
   "execution_count": 9,
   "metadata": {},
   "outputs": [
    {
     "name": "stdout",
     "output_type": "stream",
     "text": [
      "\n",
      "Best: 0.916447 using {'n_estimators': 200, 'min_samples_split': 3, 'min_samples_leaf': 1, 'max_depth': 5, 'criterion': 'gini', 'bootstrap': True}\n",
      "\n",
      "accuracy:  1.0\n",
      "precision:  1.0\n",
      "recall:  1.0\n",
      "classification report: \n",
      "              precision    recall  f1-score   support\n",
      "\n",
      "           0       1.00      1.00      1.00        10\n",
      "           1       1.00      1.00      1.00         9\n",
      "           2       1.00      1.00      1.00        11\n",
      "\n",
      "    accuracy                           1.00        30\n",
      "   macro avg       1.00      1.00      1.00        30\n",
      "weighted avg       1.00      1.00      1.00        30\n",
      "\n"
     ]
    },
    {
     "data": {
      "text/plain": [
       "{'accuracy': 1.0,\n",
       " 'precision': 1.0,\n",
       " 'recall': 1.0,\n",
       " 's_score': 0.9926004570086354,\n",
       " 'l_score': 1.0}"
      ]
     },
     "execution_count": 9,
     "metadata": {},
     "output_type": "execute_result"
    }
   ],
   "source": [
    "scorer = make_scorer(s_scoring, scoring='recall', pos_label=-1, strength=4)\n",
    "model.hyperparameter_tuning(x_train, y_train, scoring=scorer, train_afterwards=True)\n",
    "model.evaluate(x_test, y_test, avg=\"macro\")"
   ]
  },
  {
   "cell_type": "markdown",
   "metadata": {},
   "source": [
    "### 3.3. crossvalidation"
   ]
  },
  {
   "cell_type": "markdown",
   "metadata": {},
   "source": [
    "#### 3.3.1. small dataset crossvalidation"
   ]
  },
  {
   "cell_type": "markdown",
   "metadata": {},
   "source": [
    "**Concept:**\n",
    "\n",
    "The model will be trained on all datapoints except one and then tested on this last one. This will be repeated for all datapoints so that we have our predictions for all datapoints.\n",
    "\n",
    "**Advantage:** optimal use of information for training\n",
    "\n",
    "**Disadvantage:** long train time\n",
    "\n",
    "This concept is very useful for small datasets (datapoints < 150) because the long train time is still not too long and especially with a small amount of information for the model, it is importatnt to use all the information one has for the training."
   ]
  },
  {
   "cell_type": "code",
   "execution_count": 10,
   "metadata": {},
   "outputs": [
    {
     "name": "stderr",
     "output_type": "stream",
     "text": [
      "RandomForestClassifier: 100%|██████████| 150/150 [00:36<00:00,  4.13it/s]"
     ]
    },
    {
     "name": "stdout",
     "output_type": "stream",
     "text": [
      "classification report:\n",
      "              precision    recall  f1-score   support\n",
      "\n",
      "           0       1.00      1.00      1.00        50\n",
      "           1       0.92      0.94      0.93        50\n",
      "           2       0.94      0.92      0.93        50\n",
      "\n",
      "    accuracy                           0.95       150\n",
      "   macro avg       0.95      0.95      0.95       150\n",
      "weighted avg       0.95      0.95      0.95       150\n",
      "\n"
     ]
    },
    {
     "name": "stderr",
     "output_type": "stream",
     "text": [
      "\n"
     ]
    },
    {
     "data": {
      "text/plain": [
       "{'accuracy': 0.9533333333333334,\n",
       " 'precision': 0.9534480458850206,\n",
       " 'recall': 0.9533333333333333,\n",
       " 's_score': 0.9861117444423929,\n",
       " 'l_score': 0.9999998737227318,\n",
       " 'avg train score': 0.9949777777777777,\n",
       " 'avg train time': '0:00:00'}"
      ]
     },
     "execution_count": 10,
     "metadata": {},
     "output_type": "execute_result"
    }
   ],
   "source": [
    "model.cross_validation_small_data(X, y, upsampling=\"SMOTE\", avg=\"macro\")"
   ]
  },
  {
   "cell_type": "markdown",
   "metadata": {},
   "source": [
    "#### 3.3.2. multiple split crossvalidation"
   ]
  },
  {
   "cell_type": "code",
   "execution_count": 11,
   "metadata": {},
   "outputs": [
    {
     "data": {
      "text/html": [
       "<div>\n",
       "<style scoped>\n",
       "    .dataframe tbody tr th:only-of-type {\n",
       "        vertical-align: middle;\n",
       "    }\n",
       "\n",
       "    .dataframe tbody tr th {\n",
       "        vertical-align: top;\n",
       "    }\n",
       "\n",
       "    .dataframe thead th {\n",
       "        text-align: right;\n",
       "    }\n",
       "</style>\n",
       "<table border=\"1\" class=\"dataframe\">\n",
       "  <thead>\n",
       "    <tr style=\"text-align: right;\">\n",
       "      <th></th>\n",
       "      <th>0</th>\n",
       "      <th>1</th>\n",
       "      <th>2</th>\n",
       "      <th>3</th>\n",
       "      <th>4</th>\n",
       "      <th>average</th>\n",
       "    </tr>\n",
       "  </thead>\n",
       "  <tbody>\n",
       "    <tr>\n",
       "      <th>fit_time</th>\n",
       "      <td>0.283430</td>\n",
       "      <td>0.299103</td>\n",
       "      <td>0.286489</td>\n",
       "      <td>0.285460</td>\n",
       "      <td>0.291005</td>\n",
       "      <td>0.289097</td>\n",
       "    </tr>\n",
       "    <tr>\n",
       "      <th>score_time</th>\n",
       "      <td>0.042777</td>\n",
       "      <td>0.040486</td>\n",
       "      <td>0.042887</td>\n",
       "      <td>0.041304</td>\n",
       "      <td>0.034789</td>\n",
       "      <td>0.040449</td>\n",
       "    </tr>\n",
       "    <tr>\n",
       "      <th>test_precision (macro)</th>\n",
       "      <td>0.969697</td>\n",
       "      <td>0.969697</td>\n",
       "      <td>0.944444</td>\n",
       "      <td>0.969697</td>\n",
       "      <td>1.000000</td>\n",
       "      <td>0.970707</td>\n",
       "    </tr>\n",
       "    <tr>\n",
       "      <th>train_precision (macro)</th>\n",
       "      <td>1.000000</td>\n",
       "      <td>1.000000</td>\n",
       "      <td>1.000000</td>\n",
       "      <td>0.991870</td>\n",
       "      <td>0.991870</td>\n",
       "      <td>0.996748</td>\n",
       "    </tr>\n",
       "    <tr>\n",
       "      <th>test_recall (macro)</th>\n",
       "      <td>0.966667</td>\n",
       "      <td>0.966667</td>\n",
       "      <td>0.933333</td>\n",
       "      <td>0.966667</td>\n",
       "      <td>1.000000</td>\n",
       "      <td>0.966667</td>\n",
       "    </tr>\n",
       "    <tr>\n",
       "      <th>train_recall (macro)</th>\n",
       "      <td>1.000000</td>\n",
       "      <td>1.000000</td>\n",
       "      <td>1.000000</td>\n",
       "      <td>0.991667</td>\n",
       "      <td>0.991667</td>\n",
       "      <td>0.996667</td>\n",
       "    </tr>\n",
       "    <tr>\n",
       "      <th>test_accuracy</th>\n",
       "      <td>0.966667</td>\n",
       "      <td>0.966667</td>\n",
       "      <td>0.933333</td>\n",
       "      <td>0.966667</td>\n",
       "      <td>1.000000</td>\n",
       "      <td>0.966667</td>\n",
       "    </tr>\n",
       "    <tr>\n",
       "      <th>train_accuracy</th>\n",
       "      <td>1.000000</td>\n",
       "      <td>1.000000</td>\n",
       "      <td>1.000000</td>\n",
       "      <td>0.991667</td>\n",
       "      <td>0.991667</td>\n",
       "      <td>0.996667</td>\n",
       "    </tr>\n",
       "    <tr>\n",
       "      <th>test_s_score</th>\n",
       "      <td>0.987355</td>\n",
       "      <td>0.987355</td>\n",
       "      <td>0.972870</td>\n",
       "      <td>0.987355</td>\n",
       "      <td>0.992600</td>\n",
       "      <td>0.985507</td>\n",
       "    </tr>\n",
       "    <tr>\n",
       "      <th>train_s_score</th>\n",
       "      <td>0.992600</td>\n",
       "      <td>0.992600</td>\n",
       "      <td>0.992600</td>\n",
       "      <td>0.991755</td>\n",
       "      <td>0.991755</td>\n",
       "      <td>0.992262</td>\n",
       "    </tr>\n",
       "    <tr>\n",
       "      <th>test_l_score</th>\n",
       "      <td>0.999999</td>\n",
       "      <td>0.999999</td>\n",
       "      <td>0.999897</td>\n",
       "      <td>0.999999</td>\n",
       "      <td>1.000000</td>\n",
       "      <td>0.999979</td>\n",
       "    </tr>\n",
       "    <tr>\n",
       "      <th>train_l_score</th>\n",
       "      <td>1.000000</td>\n",
       "      <td>1.000000</td>\n",
       "      <td>1.000000</td>\n",
       "      <td>1.000000</td>\n",
       "      <td>1.000000</td>\n",
       "      <td>1.000000</td>\n",
       "    </tr>\n",
       "  </tbody>\n",
       "</table>\n",
       "</div>"
      ],
      "text/plain": [
       "                                0         1         2         3         4  \\\n",
       "fit_time                 0.283430  0.299103  0.286489  0.285460  0.291005   \n",
       "score_time               0.042777  0.040486  0.042887  0.041304  0.034789   \n",
       "test_precision (macro)   0.969697  0.969697  0.944444  0.969697  1.000000   \n",
       "train_precision (macro)  1.000000  1.000000  1.000000  0.991870  0.991870   \n",
       "test_recall (macro)      0.966667  0.966667  0.933333  0.966667  1.000000   \n",
       "train_recall (macro)     1.000000  1.000000  1.000000  0.991667  0.991667   \n",
       "test_accuracy            0.966667  0.966667  0.933333  0.966667  1.000000   \n",
       "train_accuracy           1.000000  1.000000  1.000000  0.991667  0.991667   \n",
       "test_s_score             0.987355  0.987355  0.972870  0.987355  0.992600   \n",
       "train_s_score            0.992600  0.992600  0.992600  0.991755  0.991755   \n",
       "test_l_score             0.999999  0.999999  0.999897  0.999999  1.000000   \n",
       "train_l_score            1.000000  1.000000  1.000000  1.000000  1.000000   \n",
       "\n",
       "                          average  \n",
       "fit_time                 0.289097  \n",
       "score_time               0.040449  \n",
       "test_precision (macro)   0.970707  \n",
       "train_precision (macro)  0.996748  \n",
       "test_recall (macro)      0.966667  \n",
       "train_recall (macro)     0.996667  \n",
       "test_accuracy            0.966667  \n",
       "train_accuracy           0.996667  \n",
       "test_s_score             0.985507  \n",
       "train_s_score            0.992262  \n",
       "test_l_score             0.999979  \n",
       "train_l_score            1.000000  "
      ]
     },
     "execution_count": 11,
     "metadata": {},
     "output_type": "execute_result"
    }
   ],
   "source": [
    "model.cross_validation(X, y, cv_num=5, avg=\"macro\", console_out=False)"
   ]
  },
  {
   "cell_type": "code",
   "execution_count": null,
   "metadata": {},
   "outputs": [],
   "source": []
  }
 ],
 "metadata": {
  "interpreter": {
   "hash": "5b738b73aff05be6a815c168ec02e2f25923ef65f9da64e59e0db381ef6ddb14"
  },
  "kernelspec": {
   "display_name": "Python 3.9.7 ('sam_ml')",
   "language": "python",
   "name": "python3"
  },
  "language_info": {
   "codemirror_mode": {
    "name": "ipython",
    "version": 3
   },
   "file_extension": ".py",
   "mimetype": "text/x-python",
   "name": "python",
   "nbconvert_exporter": "python",
   "pygments_lexer": "ipython3",
   "version": "3.9.7"
  },
  "orig_nbformat": 4
 },
 "nbformat": 4,
 "nbformat_minor": 2
}
