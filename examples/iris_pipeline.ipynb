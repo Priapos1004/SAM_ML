{
 "cells": [
  {
   "attachments": {},
   "cell_type": "markdown",
   "metadata": {},
   "source": [
    "# Example Notebook for a pipeline"
   ]
  },
  {
   "attachments": {},
   "cell_type": "markdown",
   "metadata": {},
   "source": [
    "## 0. set log-level of sam_ml library [can be ignored]\n",
    "\n",
    "(e.g. debugging)\n",
    "\n",
    "NOTE: has to happen before importing the sam_ml library"
   ]
  },
  {
   "cell_type": "code",
   "execution_count": null,
   "metadata": {},
   "outputs": [],
   "source": [
    "import os\n",
    "os.environ[\"SAM_ML_LOG_LEVEL\"] = \"info\""
   ]
  },
  {
   "attachments": {},
   "cell_type": "markdown",
   "metadata": {},
   "source": [
    "## 1. libraries"
   ]
  },
  {
   "cell_type": "code",
   "execution_count": 1,
   "metadata": {},
   "outputs": [],
   "source": [
    "import pandas as pd\n",
    "from sklearn.datasets import load_iris\n",
    "from sklearn.model_selection import train_test_split\n",
    "\n",
    "from sam_ml.models.classifier import LR, Pipeline\n",
    "from sam_ml.data.preprocessing import Embeddings_builder, Sampler, Scaler, Selector"
   ]
  },
  {
   "attachments": {},
   "cell_type": "markdown",
   "metadata": {},
   "source": [
    "## 2. data"
   ]
  },
  {
   "attachments": {},
   "cell_type": "markdown",
   "metadata": {},
   "source": [
    "### 2.1. load dataset"
   ]
  },
  {
   "cell_type": "code",
   "execution_count": 2,
   "metadata": {},
   "outputs": [],
   "source": [
    "df = load_iris()\n",
    "y = pd.Series(df.target)\n",
    "X = pd.DataFrame(df.data, columns=df.feature_names)\n",
    "x_train, x_test, y_train, y_test = train_test_split(X,y, train_size=0.80, random_state=42)"
   ]
  },
  {
   "cell_type": "code",
   "execution_count": 3,
   "metadata": {},
   "outputs": [
    {
     "data": {
      "text/html": [
       "<div>\n",
       "<style scoped>\n",
       "    .dataframe tbody tr th:only-of-type {\n",
       "        vertical-align: middle;\n",
       "    }\n",
       "\n",
       "    .dataframe tbody tr th {\n",
       "        vertical-align: top;\n",
       "    }\n",
       "\n",
       "    .dataframe thead th {\n",
       "        text-align: right;\n",
       "    }\n",
       "</style>\n",
       "<table border=\"1\" class=\"dataframe\">\n",
       "  <thead>\n",
       "    <tr style=\"text-align: right;\">\n",
       "      <th></th>\n",
       "      <th>sepal length (cm)</th>\n",
       "      <th>sepal width (cm)</th>\n",
       "      <th>petal length (cm)</th>\n",
       "      <th>petal width (cm)</th>\n",
       "    </tr>\n",
       "  </thead>\n",
       "  <tbody>\n",
       "    <tr>\n",
       "      <th>73</th>\n",
       "      <td>6.1</td>\n",
       "      <td>2.8</td>\n",
       "      <td>4.7</td>\n",
       "      <td>1.2</td>\n",
       "    </tr>\n",
       "    <tr>\n",
       "      <th>18</th>\n",
       "      <td>5.7</td>\n",
       "      <td>3.8</td>\n",
       "      <td>1.7</td>\n",
       "      <td>0.3</td>\n",
       "    </tr>\n",
       "    <tr>\n",
       "      <th>118</th>\n",
       "      <td>7.7</td>\n",
       "      <td>2.6</td>\n",
       "      <td>6.9</td>\n",
       "      <td>2.3</td>\n",
       "    </tr>\n",
       "    <tr>\n",
       "      <th>78</th>\n",
       "      <td>6.0</td>\n",
       "      <td>2.9</td>\n",
       "      <td>4.5</td>\n",
       "      <td>1.5</td>\n",
       "    </tr>\n",
       "    <tr>\n",
       "      <th>76</th>\n",
       "      <td>6.8</td>\n",
       "      <td>2.8</td>\n",
       "      <td>4.8</td>\n",
       "      <td>1.4</td>\n",
       "    </tr>\n",
       "    <tr>\n",
       "      <th>31</th>\n",
       "      <td>5.4</td>\n",
       "      <td>3.4</td>\n",
       "      <td>1.5</td>\n",
       "      <td>0.4</td>\n",
       "    </tr>\n",
       "  </tbody>\n",
       "</table>\n",
       "</div>"
      ],
      "text/plain": [
       "     sepal length (cm)  sepal width (cm)  petal length (cm)  petal width (cm)\n",
       "73                 6.1               2.8                4.7               1.2\n",
       "18                 5.7               3.8                1.7               0.3\n",
       "118                7.7               2.6                6.9               2.3\n",
       "78                 6.0               2.9                4.5               1.5\n",
       "76                 6.8               2.8                4.8               1.4\n",
       "31                 5.4               3.4                1.5               0.4"
      ]
     },
     "execution_count": 3,
     "metadata": {},
     "output_type": "execute_result"
    }
   ],
   "source": [
    "X.sample(6, random_state=42)"
   ]
  },
  {
   "cell_type": "code",
   "execution_count": 4,
   "metadata": {},
   "outputs": [
    {
     "data": {
      "text/plain": [
       "73     1\n",
       "18     0\n",
       "118    2\n",
       "78     1\n",
       "76     1\n",
       "31     0\n",
       "dtype: int64"
      ]
     },
     "execution_count": 4,
     "metadata": {},
     "output_type": "execute_result"
    }
   ],
   "source": [
    "# Flowers: Setosa (= 0), Versicolor (= 1) and Virginica (= 2)\n",
    "y.sample(6, random_state=42)"
   ]
  },
  {
   "attachments": {},
   "cell_type": "markdown",
   "metadata": {},
   "source": [
    "### 2.2. data preparation \n",
    "[not needed because already included in the pipeline]"
   ]
  },
  {
   "attachments": {},
   "cell_type": "markdown",
   "metadata": {},
   "source": [
    "## 3. model"
   ]
  },
  {
   "attachments": {},
   "cell_type": "markdown",
   "metadata": {},
   "source": [
    "All **Classifier** class methods apply also for Pipelines!!!"
   ]
  },
  {
   "attachments": {},
   "cell_type": "markdown",
   "metadata": {},
   "source": [
    "### 3.1. create pipeline"
   ]
  },
  {
   "attachments": {},
   "cell_type": "markdown",
   "metadata": {},
   "source": [
    "Every sam_ml Pipeline consists of 5 steps (4 data preparation + 1 model):\n",
    "\n",
    "**vectorizer**: *Embeddings_builder* class object\n",
    "- auto detects string columns and creates for every string column a vectorizer that vectorizes the columns\n",
    "- to one-hot-encode a string column is equal to vectorizing it\n",
    "\n",
    "**scaler**: *Scaler* class object\n",
    "- scales the data\n",
    "\n",
    "**selector**: *Selector* class object\n",
    "- selectes features\n",
    "\n",
    "**sampler**: *Sampler* class object\n",
    "- up-/downsamples the data in training\n",
    "\n",
    "**model**: *Classifier* subclass object\n",
    "- predicts"
   ]
  },
  {
   "attachments": {},
   "cell_type": "markdown",
   "metadata": {},
   "source": [
    "for an easier use of pipelines, you can also just insert a string with the type of the vectorizer/scaler/selector/sampler instead of giving a class object. In this case, the default class object of this type will be used. If you insert **None**, the step will be skipped in the pipeline"
   ]
  },
  {
   "cell_type": "code",
   "execution_count": 5,
   "metadata": {},
   "outputs": [],
   "source": [
    "model = Pipeline(vectorizer=None, scaler=\"minmax\", selector=Selector(algorithm=\"kbest\", num_features=3), sampler=\"ros\", model=LR(), model_name=\"pipy\")"
   ]
  },
  {
   "attachments": {},
   "cell_type": "markdown",
   "metadata": {},
   "source": [
    "get the possible strings to enter with the **params** function from the data classes"
   ]
  },
  {
   "cell_type": "code",
   "execution_count": 6,
   "metadata": {},
   "outputs": [
    {
     "name": "stdout",
     "output_type": "stream",
     "text": [
      "{'vec': ['bert', 'count', 'tfidf']}\n",
      "{'scaler': ['standard', 'minmax', 'maxabs', 'robust', 'normalizer', 'power', 'quantile', 'quantile_normal']}\n",
      "{'algorithm': ['kbest', 'kbest_chi2', 'pca', 'wrapper', 'sequential', 'select_model', 'rfe', 'rfecv'], 'estimator': [LinearSVC(dual=False, penalty='l1'), LogisticRegression(), ExtraTreesClassifier(n_estimators=50)]}\n",
      "{'algorithm': ['SMOTE', 'rus', 'ros', 'tl', 'nm']}\n"
     ]
    }
   ],
   "source": [
    "print(Embeddings_builder.params())\n",
    "print(Scaler.params())\n",
    "print(Selector.params()) # algorithm parameter\n",
    "print(Sampler.params())"
   ]
  },
  {
   "attachments": {},
   "cell_type": "markdown",
   "metadata": {},
   "source": [
    "you can use the **steps** attribute to get the components of the pipeline. \n",
    "\n",
    "**Note:** the model information will be given as tuple consisting of the sklearn model, the model_type and the hyperparameter tuning grid"
   ]
  },
  {
   "cell_type": "code",
   "execution_count": 7,
   "metadata": {},
   "outputs": [
    {
     "data": {
      "text/plain": [
       "[('vectorizer', None),\n",
       " ('scaler',\n",
       "  Scaler(scaler='minmax', clip=False, copy=True, feature_range=(0, 1), )),\n",
       " ('selector',\n",
       "  Selector(algorithm='kbest', num_features=3, score_func=<function f_classif at 0x7fd8732b8e50>, )),\n",
       " ('sampler',\n",
       "  Sampler(algorithm='ros', random_state=42, sampling_strategy='auto', shrinkage=None, )),\n",
       " ('model',\n",
       "  (LogisticRegression(random_state=42),\n",
       "   'LR',\n",
       "   Configuration space object:\n",
       "     Hyperparameters:\n",
       "       C, Type: UniformFloat, Range: [0.01, 100.0], Default: 1.0, on log-scale\n",
       "       l1_ratio, Type: UniformFloat, Range: [0.01, 1.0], Default: 0.1\n",
       "       penalty, Type: Categorical, Choices: {l2, elasticnet}, Default: l2\n",
       "       solver, Type: Categorical, Choices: {newton-cg, lbfgs, liblinear, sag, saga}, Default: lbfgs, Probabilities: (0.15, 0.15, 0.15, 0.15, 0.4)\n",
       "     Conditions:\n",
       "       l1_ratio | penalty == 'elasticnet'\n",
       "     Forbidden Clauses:\n",
       "       (Forbidden: penalty == 'elasticnet' && Forbidden: solver in {'lbfgs', 'liblinear', 'newton-cg', 'sag'})))]"
      ]
     },
     "execution_count": 7,
     "metadata": {},
     "output_type": "execute_result"
    }
   ],
   "source": [
    "model.steps"
   ]
  },
  {
   "attachments": {},
   "cell_type": "markdown",
   "metadata": {},
   "source": [
    "### 3.2. simple training"
   ]
  },
  {
   "attachments": {},
   "cell_type": "markdown",
   "metadata": {},
   "source": [
    "train and evaluate your pipeline"
   ]
  },
  {
   "cell_type": "code",
   "execution_count": 8,
   "metadata": {},
   "outputs": [
    {
     "name": "stdout",
     "output_type": "stream",
     "text": [
      "Train score:  0.9349593495934959  - Train time:  0:00:00\n",
      "accuracy:  1.0\n",
      "precision:  [1. 1. 1.]\n",
      "recall:  [1. 1. 1.]\n",
      "s_score:  0.9926004570086354\n",
      "l_score:  1.0\n",
      "\n",
      "classification report: \n",
      "              precision    recall  f1-score   support\n",
      "\n",
      "           0       1.00      1.00      1.00        10\n",
      "           1       1.00      1.00      1.00         9\n",
      "           2       1.00      1.00      1.00        11\n",
      "\n",
      "    accuracy                           1.00        30\n",
      "   macro avg       1.00      1.00      1.00        30\n",
      "weighted avg       1.00      1.00      1.00        30\n",
      "\n"
     ]
    },
    {
     "data": {
      "text/plain": [
       "{'accuracy': 1.0,\n",
       " 'precision': array([1., 1., 1.]),\n",
       " 'recall': array([1., 1., 1.]),\n",
       " 's_score': 0.9926004570086354,\n",
       " 'l_score': 1.0}"
      ]
     },
     "execution_count": 8,
     "metadata": {},
     "output_type": "execute_result"
    }
   ],
   "source": [
    "model.train(x_train, y_train)\n",
    "model.evaluate(x_test, y_test)"
   ]
  },
  {
   "attachments": {},
   "cell_type": "markdown",
   "metadata": {},
   "source": [
    "get the importance of the different features of your model"
   ]
  },
  {
   "cell_type": "code",
   "execution_count": 9,
   "metadata": {},
   "outputs": [
    {
     "data": {
      "image/png": "[encoded data removed]",
      "text/plain": [
       "<Figure size 640x480 with 1 Axes>"
      ]
     },
     "metadata": {},
     "output_type": "display_data"
    }
   ],
   "source": [
    "model.feature_importance()"
   ]
  },
  {
   "attachments": {},
   "cell_type": "markdown",
   "metadata": {},
   "source": [
    "predict with your model"
   ]
  },
  {
   "cell_type": "code",
   "execution_count": 10,
   "metadata": {},
   "outputs": [
    {
     "data": {
      "text/html": [
       "<div>\n",
       "<style scoped>\n",
       "    .dataframe tbody tr th:only-of-type {\n",
       "        vertical-align: middle;\n",
       "    }\n",
       "\n",
       "    .dataframe tbody tr th {\n",
       "        vertical-align: top;\n",
       "    }\n",
       "\n",
       "    .dataframe thead th {\n",
       "        text-align: right;\n",
       "    }\n",
       "</style>\n",
       "<table border=\"1\" class=\"dataframe\">\n",
       "  <thead>\n",
       "    <tr style=\"text-align: right;\">\n",
       "      <th></th>\n",
       "      <th>sepal length (cm)</th>\n",
       "      <th>sepal width (cm)</th>\n",
       "      <th>petal length (cm)</th>\n",
       "      <th>petal width (cm)</th>\n",
       "    </tr>\n",
       "  </thead>\n",
       "  <tbody>\n",
       "    <tr>\n",
       "      <th>0</th>\n",
       "      <td>1.3</td>\n",
       "      <td>1.3</td>\n",
       "      <td>1.3</td>\n",
       "      <td>1.3</td>\n",
       "    </tr>\n",
       "    <tr>\n",
       "      <th>1</th>\n",
       "      <td>6.5</td>\n",
       "      <td>1.6</td>\n",
       "      <td>8.6</td>\n",
       "      <td>2.4</td>\n",
       "    </tr>\n",
       "  </tbody>\n",
       "</table>\n",
       "</div>"
      ],
      "text/plain": [
       "   sepal length (cm)  sepal width (cm)  petal length (cm)  petal width (cm)\n",
       "0                1.3               1.3                1.3               1.3\n",
       "1                6.5               1.6                8.6               2.4"
      ]
     },
     "execution_count": 10,
     "metadata": {},
     "output_type": "execute_result"
    }
   ],
   "source": [
    "test_df = pd.DataFrame([[1.3, 1.3, 1.3, 1.3], [6.5, 1.6, 8.6, 2.4]], columns=['sepal length (cm)', 'sepal width (cm)', 'petal length (cm)', 'petal width (cm)'])\n",
    "test_df.head()"
   ]
  },
  {
   "cell_type": "code",
   "execution_count": 11,
   "metadata": {},
   "outputs": [
    {
     "data": {
      "text/plain": [
       "[0, 2]"
      ]
     },
     "execution_count": 11,
     "metadata": {},
     "output_type": "execute_result"
    }
   ],
   "source": [
    "model.predict(test_df)"
   ]
  },
  {
   "attachments": {},
   "cell_type": "markdown",
   "metadata": {},
   "source": [
    "### 3.3. hyperparameter tuning"
   ]
  },
  {
   "attachments": {},
   "cell_type": "markdown",
   "metadata": {},
   "source": [
    "#### 3.3.1. RandomCVSearch"
   ]
  },
  {
   "attachments": {},
   "cell_type": "markdown",
   "metadata": {},
   "source": [
    "you can get the hyperparameter tuning grid as followed:"
   ]
  },
  {
   "cell_type": "code",
   "execution_count": 12,
   "metadata": {},
   "outputs": [
    {
     "data": {
      "text/plain": [
       "Configuration space object:\n",
       "  Hyperparameters:\n",
       "    C, Type: UniformFloat, Range: [0.01, 100.0], Default: 1.0, on log-scale\n",
       "    l1_ratio, Type: UniformFloat, Range: [0.01, 1.0], Default: 0.1\n",
       "    penalty, Type: Categorical, Choices: {l2, elasticnet}, Default: l2\n",
       "    solver, Type: Categorical, Choices: {newton-cg, lbfgs, liblinear, sag, saga}, Default: lbfgs, Probabilities: (0.15, 0.15, 0.15, 0.15, 0.4)\n",
       "  Conditions:\n",
       "    l1_ratio | penalty == 'elasticnet'\n",
       "  Forbidden Clauses:\n",
       "    (Forbidden: penalty == 'elasticnet' && Forbidden: solver in {'lbfgs', 'liblinear', 'newton-cg', 'sag'})"
      ]
     },
     "execution_count": 12,
     "metadata": {},
     "output_type": "execute_result"
    }
   ],
   "source": [
    "model.grid"
   ]
  },
  {
   "attachments": {},
   "cell_type": "markdown",
   "metadata": {},
   "source": [
    "simple scoring with recall/precision/accurracy"
   ]
  },
  {
   "cell_type": "code",
   "execution_count": 13,
   "metadata": {},
   "outputs": [
    {
     "data": {
      "application/vnd.jupyter.widget-view+json": {
       "model_id": "7258055518a74a76b3b0ed7dd6582f4a",
       "version_major": 2,
       "version_minor": 0
      },
      "text/plain": [
       "randomCVsearch (pipy):   0%|          | 0/10 [00:00<?, ?it/s]"
      ]
     },
     "metadata": {},
     "output_type": "display_data"
    },
    {
     "data": {
      "text/plain": [
       "({'C': 63.512210106407046, 'penalty': 'l2', 'solver': 'lbfgs'},\n",
       " 0.9507936507936507)"
      ]
     },
     "execution_count": 13,
     "metadata": {},
     "output_type": "execute_result"
    }
   ],
   "source": [
    "best_hyperparam, best_score = model.randomCVsearch(x_train, y_train, scoring=\"recall\", avg=\"macro\")\n",
    "best_hyperparam, best_score"
   ]
  },
  {
   "cell_type": "code",
   "execution_count": 14,
   "metadata": {},
   "outputs": [
    {
     "name": "stdout",
     "output_type": "stream",
     "text": [
      "Train score:  0.959349593495935  - Train time:  0:00:00\n",
      "accuracy:  1.0\n",
      "precision:  [1. 1. 1.]\n",
      "recall:  [1. 1. 1.]\n",
      "s_score:  0.9926004570086354\n",
      "l_score:  1.0\n",
      "\n",
      "classification report: \n",
      "              precision    recall  f1-score   support\n",
      "\n",
      "           0       1.00      1.00      1.00        10\n",
      "           1       1.00      1.00      1.00         9\n",
      "           2       1.00      1.00      1.00        11\n",
      "\n",
      "    accuracy                           1.00        30\n",
      "   macro avg       1.00      1.00      1.00        30\n",
      "weighted avg       1.00      1.00      1.00        30\n",
      "\n"
     ]
    },
    {
     "data": {
      "text/plain": [
       "{'accuracy': 1.0,\n",
       " 'precision': array([1., 1., 1.]),\n",
       " 'recall': array([1., 1., 1.]),\n",
       " 's_score': 0.9926004570086354,\n",
       " 'l_score': 1.0}"
      ]
     },
     "execution_count": 14,
     "metadata": {},
     "output_type": "execute_result"
    }
   ],
   "source": [
    "best_model = model.get_deepcopy()\n",
    "best_model.set_params(**best_hyperparam)\n",
    "best_model.train(x_train, y_train)\n",
    "best_model.evaluate(x_test, y_test)"
   ]
  },
  {
   "attachments": {},
   "cell_type": "markdown",
   "metadata": {},
   "source": [
    "advanced scoring with s_score/l_score:\n",
    "- **secondary_scoring** and **pos_label** to priorities metrics/classes in optimization\n",
    "- **strength** to set how much the priorization is compared to scores in all the other metrics/classes\n",
    "- always includes all metrics/classes and punishes really bad scores in one metric/class"
   ]
  },
  {
   "cell_type": "code",
   "execution_count": 15,
   "metadata": {},
   "outputs": [
    {
     "data": {
      "application/vnd.jupyter.widget-view+json": {
       "model_id": "7defa50abc1242479ab9505a0a28628a",
       "version_major": 2,
       "version_minor": 0
      },
      "text/plain": [
       "randomCVsearch (pipy):   0%|          | 0/10 [00:00<?, ?it/s]"
      ]
     },
     "metadata": {},
     "output_type": "display_data"
    },
    {
     "data": {
      "text/plain": [
       "({'C': 75.56810141274431, 'penalty': 'l2', 'solver': 'newton-cg'},\n",
       " 0.8668387315015942)"
      ]
     },
     "execution_count": 15,
     "metadata": {},
     "output_type": "execute_result"
    }
   ],
   "source": [
    "best_hyperparam, best_score = model.randomCVsearch(x_train, y_train, scoring=\"s_score\", secondary_scoring=\"recall\", pos_label=-1, strength=4)\n",
    "best_hyperparam, best_score"
   ]
  },
  {
   "cell_type": "code",
   "execution_count": 16,
   "metadata": {},
   "outputs": [
    {
     "name": "stdout",
     "output_type": "stream",
     "text": [
      "Train score:  0.959349593495935  - Train time:  0:00:00\n",
      "accuracy:  1.0\n",
      "precision:  [1. 1. 1.]\n",
      "recall:  [1. 1. 1.]\n",
      "s_score:  0.9926004570086354\n",
      "l_score:  1.0\n",
      "\n",
      "classification report: \n",
      "              precision    recall  f1-score   support\n",
      "\n",
      "           0       1.00      1.00      1.00        10\n",
      "           1       1.00      1.00      1.00         9\n",
      "           2       1.00      1.00      1.00        11\n",
      "\n",
      "    accuracy                           1.00        30\n",
      "   macro avg       1.00      1.00      1.00        30\n",
      "weighted avg       1.00      1.00      1.00        30\n",
      "\n"
     ]
    },
    {
     "data": {
      "text/plain": [
       "{'accuracy': 1.0,\n",
       " 'precision': array([1., 1., 1.]),\n",
       " 'recall': array([1., 1., 1.]),\n",
       " 's_score': 0.9926004570086354,\n",
       " 'l_score': 1.0}"
      ]
     },
     "execution_count": 16,
     "metadata": {},
     "output_type": "execute_result"
    }
   ],
   "source": [
    "best_model = model.get_deepcopy()\n",
    "best_model.set_params(**best_hyperparam)\n",
    "best_model.train(x_train, y_train)\n",
    "best_model.evaluate(x_test, y_test)"
   ]
  },
  {
   "attachments": {},
   "cell_type": "markdown",
   "metadata": {},
   "source": [
    "#### 3.3.2. SMAC3 library *HyperparameterOptimizationFacade*"
   ]
  },
  {
   "cell_type": "code",
   "execution_count": 17,
   "metadata": {},
   "outputs": [
    {
     "name": "stdout",
     "output_type": "stream",
     "text": [
      "[INFO][abstract_initial_design.py:147] Using 8 initial design configurations and 0 additional configurations.\n",
      "[INFO][abstract_intensifier.py:305] Using only one seed for deterministic scenario.\n",
      "[INFO][abstract_intensifier.py:515] Added config 12be8a as new incumbent because there are no incumbents yet.\n",
      "[INFO][abstract_intensifier.py:590] Added config ce10f4 and rejected config 12be8a as incumbent because it is not better than the incumbents on 1 instances:\n",
      "[INFO][configspace.py:175] --- C: 1.521010951219768 -> 68.66295315779564\n",
      "[INFO][configspace.py:175] --- solver: 'sag' -> 'lbfgs'\n",
      "[INFO][smbo.py:319] Finished 50 trials.\n",
      "[INFO][smbo.py:327] Configuration budget is exhausted:\n",
      "[INFO][smbo.py:328] --- Remaining wallclock time: 595.7693600654602\n",
      "[INFO][smbo.py:329] --- Remaining cpu time: inf\n",
      "[INFO][smbo.py:330] --- Remaining trials: 0\n"
     ]
    },
    {
     "data": {
      "text/plain": [
       "Configuration(values={\n",
       "  'C': 68.66295315779564,\n",
       "  'penalty': 'l2',\n",
       "  'solver': 'lbfgs',\n",
       "})"
      ]
     },
     "execution_count": 17,
     "metadata": {},
     "output_type": "execute_result"
    }
   ],
   "source": [
    "best_hyperparam = model.smac_search(x_train, y_train, scoring=\"recall\", avg=\"macro\")\n",
    "best_hyperparam"
   ]
  },
  {
   "cell_type": "code",
   "execution_count": 18,
   "metadata": {},
   "outputs": [
    {
     "name": "stdout",
     "output_type": "stream",
     "text": [
      "Train score:  0.959349593495935  - Train time:  0:00:00\n",
      "accuracy:  1.0\n",
      "precision:  [1. 1. 1.]\n",
      "recall:  [1. 1. 1.]\n",
      "s_score:  0.9926004570086354\n",
      "l_score:  1.0\n",
      "\n",
      "classification report: \n",
      "              precision    recall  f1-score   support\n",
      "\n",
      "           0       1.00      1.00      1.00        10\n",
      "           1       1.00      1.00      1.00         9\n",
      "           2       1.00      1.00      1.00        11\n",
      "\n",
      "    accuracy                           1.00        30\n",
      "   macro avg       1.00      1.00      1.00        30\n",
      "weighted avg       1.00      1.00      1.00        30\n",
      "\n"
     ]
    },
    {
     "data": {
      "text/plain": [
       "{'accuracy': 1.0,\n",
       " 'precision': array([1., 1., 1.]),\n",
       " 'recall': array([1., 1., 1.]),\n",
       " 's_score': 0.9926004570086354,\n",
       " 'l_score': 1.0}"
      ]
     },
     "execution_count": 18,
     "metadata": {},
     "output_type": "execute_result"
    }
   ],
   "source": [
    "best_model = model.get_deepcopy()\n",
    "best_model.set_params(**best_hyperparam)\n",
    "best_model.train(x_train, y_train)\n",
    "best_model.evaluate(x_test, y_test)"
   ]
  },
  {
   "attachments": {},
   "cell_type": "markdown",
   "metadata": {},
   "source": [
    "### 3.4. cross validation"
   ]
  },
  {
   "attachments": {},
   "cell_type": "markdown",
   "metadata": {},
   "source": [
    "#### 3.4.1. all-vs-one cross validation"
   ]
  },
  {
   "attachments": {},
   "cell_type": "markdown",
   "metadata": {},
   "source": [
    "**Concept:**\n",
    "\n",
    "The model will be trained on all datapoints except one and then tested on this last one. This will be repeated for all datapoints so that we have our predictions for all datapoints.\n",
    "\n",
    "**Advantage:** optimal use of information for training\n",
    "\n",
    "**Disadvantage:** long train time\n",
    "\n",
    "This concept is very useful for small datasets (datapoints < 150) because the long train time is still not too long and especially with a small amount of information for the model, it is important to use all the information one has for the training."
   ]
  },
  {
   "cell_type": "code",
   "execution_count": 19,
   "metadata": {},
   "outputs": [
    {
     "data": {
      "application/vnd.jupyter.widget-view+json": {
       "model_id": "8971378b8ecf4ddbba4a252a7892f94f",
       "version_major": 2,
       "version_minor": 0
      },
      "text/plain": [
       "pipy:   0%|          | 0/150 [00:00<?, ?it/s]"
      ]
     },
     "metadata": {},
     "output_type": "display_data"
    },
    {
     "name": "stdout",
     "output_type": "stream",
     "text": [
      "\n",
      "classification report:\n",
      "              precision    recall  f1-score   support\n",
      "\n",
      "           0       1.00      1.00      1.00        50\n",
      "           1       0.92      0.94      0.93        50\n",
      "           2       0.94      0.92      0.93        50\n",
      "\n",
      "    accuracy                           0.95       150\n",
      "   macro avg       0.95      0.95      0.95       150\n",
      "weighted avg       0.95      0.95      0.95       150\n",
      "\n"
     ]
    },
    {
     "data": {
      "text/plain": [
       "{'accuracy': 0.9533333333333334,\n",
       " 'precision': 0.9534480458850206,\n",
       " 'recall': 0.9533333333333333,\n",
       " 's_score': 0.9861117444423929,\n",
       " 'l_score': 0.9999998737227318,\n",
       " 'train_score': 0.9536444444444445,\n",
       " 'train_time': '0:00:00'}"
      ]
     },
     "execution_count": 19,
     "metadata": {},
     "output_type": "execute_result"
    }
   ],
   "source": [
    "model.cross_validation_small_data(X, y, avg=\"macro\")"
   ]
  },
  {
   "attachments": {},
   "cell_type": "markdown",
   "metadata": {},
   "source": [
    "#### 3.4.2. multiple split cross validation"
   ]
  },
  {
   "cell_type": "code",
   "execution_count": 20,
   "metadata": {},
   "outputs": [
    {
     "name": "stdout",
     "output_type": "stream",
     "text": [
      "\n",
      "                                0         1         2         3         4  \\\n",
      "fit_time                 0.013161  0.023031  0.010915  0.014268  0.022855   \n",
      "score_time               0.008637  0.016759  0.011991  0.015992  0.009144   \n",
      "test_precision (macro)   1.000000  0.666667  0.500000  0.916667  0.500000   \n",
      "train_precision (macro)  0.953448  0.947072  0.934937  0.950648  0.953333   \n",
      "test_recall (macro)      1.000000  0.600000  0.466667  0.950000  0.466667   \n",
      "train_recall (macro)     0.953333  0.948333  0.956667  0.952778  0.953333   \n",
      "test_accuracy            1.000000  0.933333  0.933333  0.933333  0.933333   \n",
      "train_accuracy           0.941667  0.941667  0.958333  0.958333  0.966667   \n",
      "test_s_score             0.997527  0.002430  0.002463  0.984473  0.002463   \n",
      "train_s_score            0.986112  0.984818  0.980744  0.985608  0.985437   \n",
      "test_l_score             1.000000  0.000000  0.000000  0.999980  0.000000   \n",
      "train_l_score            1.000000  1.000000  0.999972  1.000000  0.999999   \n",
      "\n",
      "                          average  \n",
      "fit_time                 0.016846  \n",
      "score_time               0.012505  \n",
      "test_precision (macro)   0.716667  \n",
      "train_precision (macro)  0.947888  \n",
      "test_recall (macro)      0.696667  \n",
      "train_recall (macro)     0.952889  \n",
      "test_accuracy            0.946667  \n",
      "train_accuracy           0.953333  \n",
      "test_s_score             0.397871  \n",
      "train_s_score            0.984544  \n",
      "test_l_score             0.399996  \n",
      "train_l_score            0.999994  \n"
     ]
    },
    {
     "data": {
      "text/plain": [
       "{'accuracy': 0.9466666666666667,\n",
       " 'precision': 0.7166666666666666,\n",
       " 'recall': 0.6966666666666667,\n",
       " 's_score': 0.3978713073504214,\n",
       " 'l_score': 0.3999959011044497,\n",
       " 'train_score': 0.9533333333333334,\n",
       " 'train_time': '0:00:00'}"
      ]
     },
     "execution_count": 20,
     "metadata": {},
     "output_type": "execute_result"
    }
   ],
   "source": [
    "model.cross_validation(X, y, cv_num=5, avg=\"macro\")"
   ]
  },
  {
   "attachments": {},
   "cell_type": "markdown",
   "metadata": {},
   "source": [
    "### 3.5. save and load pipelines"
   ]
  },
  {
   "attachments": {},
   "cell_type": "markdown",
   "metadata": {},
   "source": [
    "save your pipeline class object with **only_estimator**=False or you can only save the sklearn model with **only_estimator**=True"
   ]
  },
  {
   "cell_type": "code",
   "execution_count": 21,
   "metadata": {},
   "outputs": [],
   "source": [
    "model.save_model(path=\"pipy.pkl\", only_estimator=False)"
   ]
  },
  {
   "attachments": {},
   "cell_type": "markdown",
   "metadata": {},
   "source": [
    "every *Model* subclass (*Classifier*, *Pipeline*, *RFC*, ...) has the *load_model* function that returns the model"
   ]
  },
  {
   "cell_type": "code",
   "execution_count": 22,
   "metadata": {},
   "outputs": [],
   "source": [
    "loaded_model = Pipeline.load_model(path=\"pipy.pkl\")"
   ]
  },
  {
   "cell_type": "code",
   "execution_count": null,
   "metadata": {},
   "outputs": [],
   "source": []
  }
 ],
 "metadata": {
  "kernelspec": {
   "display_name": "Python 3.9.7 ('sam_ml')",
   "language": "python",
   "name": "python3"
  },
  "language_info": {
   "codemirror_mode": {
    "name": "ipython",
    "version": 3
   },
   "file_extension": ".py",
   "mimetype": "text/x-python",
   "name": "python",
   "nbconvert_exporter": "python",
   "pygments_lexer": "ipython3",
   "version": "3.10.11"
  },
  "orig_nbformat": 4,
  "vscode": {
   "interpreter": {
    "hash": "5b738b73aff05be6a815c168ec02e2f25923ef65f9da64e59e0db381ef6ddb14"
   }
  }
 },
 "nbformat": 4,
 "nbformat_minor": 2
}
