{
 "cells": [
  {
   "cell_type": "markdown",
   "metadata": {},
   "source": [
    "# Example Notebook for a pipeline"
   ]
  },
  {
   "cell_type": "markdown",
   "metadata": {},
   "source": [
    "## 1. libraries"
   ]
  },
  {
   "cell_type": "code",
   "execution_count": 1,
   "metadata": {},
   "outputs": [],
   "source": [
    "import pandas as pd\n",
    "from sklearn.datasets import load_iris\n",
    "from sklearn.model_selection import train_test_split\n",
    "\n",
    "from sam_ml.models import RFC, Pipeline\n",
    "from sam_ml.data import Embeddings_builder, Sampler, Scaler, Selector"
   ]
  },
  {
   "cell_type": "markdown",
   "metadata": {},
   "source": [
    "## 2. data"
   ]
  },
  {
   "cell_type": "markdown",
   "metadata": {},
   "source": [
    "### 2.1. load dataset"
   ]
  },
  {
   "cell_type": "code",
   "execution_count": 2,
   "metadata": {},
   "outputs": [],
   "source": [
    "df = load_iris()\n",
    "y = pd.Series(df.target)\n",
    "X = pd.DataFrame(df.data, columns=df.feature_names)\n",
    "x_train, x_test, y_train, y_test = train_test_split(X,y, train_size=0.80, random_state=42)"
   ]
  },
  {
   "cell_type": "code",
   "execution_count": 3,
   "metadata": {},
   "outputs": [
    {
     "data": {
      "text/html": [
       "<div>\n",
       "<style scoped>\n",
       "    .dataframe tbody tr th:only-of-type {\n",
       "        vertical-align: middle;\n",
       "    }\n",
       "\n",
       "    .dataframe tbody tr th {\n",
       "        vertical-align: top;\n",
       "    }\n",
       "\n",
       "    .dataframe thead th {\n",
       "        text-align: right;\n",
       "    }\n",
       "</style>\n",
       "<table border=\"1\" class=\"dataframe\">\n",
       "  <thead>\n",
       "    <tr style=\"text-align: right;\">\n",
       "      <th></th>\n",
       "      <th>sepal length (cm)</th>\n",
       "      <th>sepal width (cm)</th>\n",
       "      <th>petal length (cm)</th>\n",
       "      <th>petal width (cm)</th>\n",
       "    </tr>\n",
       "  </thead>\n",
       "  <tbody>\n",
       "    <tr>\n",
       "      <th>0</th>\n",
       "      <td>5.1</td>\n",
       "      <td>3.5</td>\n",
       "      <td>1.4</td>\n",
       "      <td>0.2</td>\n",
       "    </tr>\n",
       "    <tr>\n",
       "      <th>1</th>\n",
       "      <td>4.9</td>\n",
       "      <td>3.0</td>\n",
       "      <td>1.4</td>\n",
       "      <td>0.2</td>\n",
       "    </tr>\n",
       "    <tr>\n",
       "      <th>2</th>\n",
       "      <td>4.7</td>\n",
       "      <td>3.2</td>\n",
       "      <td>1.3</td>\n",
       "      <td>0.2</td>\n",
       "    </tr>\n",
       "    <tr>\n",
       "      <th>3</th>\n",
       "      <td>4.6</td>\n",
       "      <td>3.1</td>\n",
       "      <td>1.5</td>\n",
       "      <td>0.2</td>\n",
       "    </tr>\n",
       "    <tr>\n",
       "      <th>4</th>\n",
       "      <td>5.0</td>\n",
       "      <td>3.6</td>\n",
       "      <td>1.4</td>\n",
       "      <td>0.2</td>\n",
       "    </tr>\n",
       "  </tbody>\n",
       "</table>\n",
       "</div>"
      ],
      "text/plain": [
       "   sepal length (cm)  sepal width (cm)  petal length (cm)  petal width (cm)\n",
       "0                5.1               3.5                1.4               0.2\n",
       "1                4.9               3.0                1.4               0.2\n",
       "2                4.7               3.2                1.3               0.2\n",
       "3                4.6               3.1                1.5               0.2\n",
       "4                5.0               3.6                1.4               0.2"
      ]
     },
     "execution_count": 3,
     "metadata": {},
     "output_type": "execute_result"
    }
   ],
   "source": [
    "X.head()"
   ]
  },
  {
   "cell_type": "code",
   "execution_count": 4,
   "metadata": {},
   "outputs": [
    {
     "data": {
      "text/plain": [
       "0    0\n",
       "1    0\n",
       "2    0\n",
       "3    0\n",
       "4    0\n",
       "dtype: int64"
      ]
     },
     "execution_count": 4,
     "metadata": {},
     "output_type": "execute_result"
    }
   ],
   "source": [
    "# Flowers: Setosa (= 0), Versicolor (= 1) and Virginica (= 2)\n",
    "y.head()"
   ]
  },
  {
   "cell_type": "markdown",
   "metadata": {},
   "source": [
    "### 2.2. data preparation \n",
    "[not needed because already included in the pipeline]"
   ]
  },
  {
   "cell_type": "markdown",
   "metadata": {},
   "source": [
    "## 3. model"
   ]
  },
  {
   "cell_type": "markdown",
   "metadata": {},
   "source": [
    "All **Classifier** class methods apply also for Pipelines!!!"
   ]
  },
  {
   "cell_type": "markdown",
   "metadata": {},
   "source": [
    "### 3.1. create pipeline"
   ]
  },
  {
   "cell_type": "markdown",
   "metadata": {},
   "source": [
    "Every sam_ml Pipeline consists of 5 steps (4 data preparation + 1 model):\n",
    "\n",
    "**vectorizer**: *Embeddings_builder* class object\n",
    "- auto detects string columns and creates for every string column a vectorizer that vectorizes the columns\n",
    "- to one-hot-encode a string column is equal to vectorizing it\n",
    "\n",
    "**scaler**: *Scaler* class object\n",
    "- scales the data\n",
    "\n",
    "**selector**: *Selector* class object\n",
    "- selectes features\n",
    "\n",
    "**sampler**: *Sampler* class object\n",
    "- up-/downsamples the data in training\n",
    "\n",
    "**model**: *Classifier* subclass object\n",
    "- predicts"
   ]
  },
  {
   "cell_type": "markdown",
   "metadata": {},
   "source": [
    "for an easier use of pipelines, you can also just insert a string with the type of the vectorizer/scaler/selector/sampler instead of giving a class object. In this case, the default class object of this type will be used. If you insert **None**, the step will be skipped in the pipeline"
   ]
  },
  {
   "cell_type": "code",
   "execution_count": 5,
   "metadata": {},
   "outputs": [],
   "source": [
    "model = Pipeline(vectorizer=None, scaler=\"minmax\", selector=Selector(algorithm=\"kbest\", num_features=3), sampler=\"ros\", model=RFC(), model_name=\"pipy\")"
   ]
  },
  {
   "cell_type": "markdown",
   "metadata": {},
   "source": [
    "get the possible strings to enter with the **params** function from the data classes"
   ]
  },
  {
   "cell_type": "code",
   "execution_count": 6,
   "metadata": {},
   "outputs": [
    {
     "name": "stdout",
     "output_type": "stream",
     "text": [
      "{'vec': ['bert', 'count', 'tfidf']}\n",
      "{'scaler': ['standard', 'minmax', 'maxabs', 'robust', 'normalizer', 'power', 'quantile', 'quantile_normal']}\n",
      "{'algorithm': ['kbest', 'kbest_chi2', 'pca', 'wrapper', 'sequential', 'select_model', 'rfe', 'rfecv'], 'estimator': [LinearSVC(dual=False, penalty='l1'), LogisticRegression(), ExtraTreesClassifier(n_estimators=50)]}\n",
      "{'algorithm': ['SMOTE', 'rus', 'ros', 'tl', 'nm']}\n"
     ]
    }
   ],
   "source": [
    "print(Embeddings_builder.params())\n",
    "print(Scaler.params())\n",
    "print(Selector.params()) # algorithm parameter\n",
    "print(Sampler.params())"
   ]
  },
  {
   "cell_type": "markdown",
   "metadata": {},
   "source": [
    "you can use the **steps** attribute to get the components of the pipeline. \n",
    "\n",
    "**Note:** the model information will be given as tuple consisting of the sklearn model, the model_type and the hyperparameter tuning grid"
   ]
  },
  {
   "cell_type": "code",
   "execution_count": 7,
   "metadata": {},
   "outputs": [
    {
     "data": {
      "text/plain": [
       "[('vectorizer', None),\n",
       " ('scaler', <sam_ml.data.scaler.Scaler at 0x7f937da29af0>),\n",
       " ('selector', <sam_ml.data.feature_selection.Selector at 0x7f937da29160>),\n",
       " ('sampler', <sam_ml.data.sampling.Sampler at 0x7f937da29700>),\n",
       " ('model',\n",
       "  (RandomForestClassifier(n_jobs=-1, random_state=42),\n",
       "   'RFC',\n",
       "   {'n_estimators': [1, 2, 4, 8, 16, 32, 64, 100, 200, 500, 1000],\n",
       "    'max_depth': [2, 3, 4, 5, 6, 7, 8, 10, 15],\n",
       "    'min_samples_split': [2, 3, 5, 10],\n",
       "    'min_samples_leaf': [1, 2, 4],\n",
       "    'bootstrap': [True, False],\n",
       "    'criterion': ['gini', 'entropy']}))]"
      ]
     },
     "execution_count": 7,
     "metadata": {},
     "output_type": "execute_result"
    }
   ],
   "source": [
    "model.steps"
   ]
  },
  {
   "cell_type": "markdown",
   "metadata": {},
   "source": [
    "### 3.2. simple training"
   ]
  },
  {
   "cell_type": "markdown",
   "metadata": {},
   "source": [
    "train and evaluate your pipeline"
   ]
  },
  {
   "cell_type": "code",
   "execution_count": 8,
   "metadata": {},
   "outputs": [
    {
     "name": "stdout",
     "output_type": "stream",
     "text": [
      "started training...\n",
      "Train score:  1.0  - Train time:  0:00:00\n",
      "accuracy:  1.0\n",
      "precision:  [1. 1. 1.]\n",
      "recall:  [1. 1. 1.]\n",
      "s_score:  0.9926004570086354\n",
      "l_score:  1.0\n",
      "\n",
      "classification report: \n",
      "              precision    recall  f1-score   support\n",
      "\n",
      "           0       1.00      1.00      1.00        10\n",
      "           1       1.00      1.00      1.00         9\n",
      "           2       1.00      1.00      1.00        11\n",
      "\n",
      "    accuracy                           1.00        30\n",
      "   macro avg       1.00      1.00      1.00        30\n",
      "weighted avg       1.00      1.00      1.00        30\n",
      "\n"
     ]
    },
    {
     "data": {
      "text/plain": [
       "{'accuracy': 1.0,\n",
       " 'precision': array([1., 1., 1.]),\n",
       " 'recall': array([1., 1., 1.]),\n",
       " 's_score': 0.9926004570086354,\n",
       " 'l_score': 1.0}"
      ]
     },
     "execution_count": 8,
     "metadata": {},
     "output_type": "execute_result"
    }
   ],
   "source": [
    "model.train(x_train, y_train)\n",
    "model.evaluate(x_test, y_test)"
   ]
  },
  {
   "cell_type": "markdown",
   "metadata": {},
   "source": [
    "get the importance of the different features of your model"
   ]
  },
  {
   "cell_type": "code",
   "execution_count": 9,
   "metadata": {},
   "outputs": [
    {
     "data": {
      "image/png": "[encoded data removed]",
      "text/plain": [
       "<Figure size 432x288 with 1 Axes>"
      ]
     },
     "metadata": {
      "needs_background": "light"
     },
     "output_type": "display_data"
    }
   ],
   "source": [
    "model.feature_importance()"
   ]
  },
  {
   "cell_type": "markdown",
   "metadata": {},
   "source": [
    "predict with your model"
   ]
  },
  {
   "cell_type": "code",
   "execution_count": 10,
   "metadata": {},
   "outputs": [
    {
     "data": {
      "text/html": [
       "<div>\n",
       "<style scoped>\n",
       "    .dataframe tbody tr th:only-of-type {\n",
       "        vertical-align: middle;\n",
       "    }\n",
       "\n",
       "    .dataframe tbody tr th {\n",
       "        vertical-align: top;\n",
       "    }\n",
       "\n",
       "    .dataframe thead th {\n",
       "        text-align: right;\n",
       "    }\n",
       "</style>\n",
       "<table border=\"1\" class=\"dataframe\">\n",
       "  <thead>\n",
       "    <tr style=\"text-align: right;\">\n",
       "      <th></th>\n",
       "      <th>sepal length (cm)</th>\n",
       "      <th>sepal width (cm)</th>\n",
       "      <th>petal length (cm)</th>\n",
       "      <th>petal width (cm)</th>\n",
       "    </tr>\n",
       "  </thead>\n",
       "  <tbody>\n",
       "    <tr>\n",
       "      <th>0</th>\n",
       "      <td>1.3</td>\n",
       "      <td>1.3</td>\n",
       "      <td>1.3</td>\n",
       "      <td>1.3</td>\n",
       "    </tr>\n",
       "    <tr>\n",
       "      <th>1</th>\n",
       "      <td>6.5</td>\n",
       "      <td>1.6</td>\n",
       "      <td>8.6</td>\n",
       "      <td>2.4</td>\n",
       "    </tr>\n",
       "  </tbody>\n",
       "</table>\n",
       "</div>"
      ],
      "text/plain": [
       "   sepal length (cm)  sepal width (cm)  petal length (cm)  petal width (cm)\n",
       "0                1.3               1.3                1.3               1.3\n",
       "1                6.5               1.6                8.6               2.4"
      ]
     },
     "execution_count": 10,
     "metadata": {},
     "output_type": "execute_result"
    }
   ],
   "source": [
    "test_df = pd.DataFrame([[1.3, 1.3, 1.3, 1.3], [6.5, 1.6, 8.6, 2.4]], columns=['sepal length (cm)', 'sepal width (cm)', 'petal length (cm)', 'petal width (cm)'])\n",
    "test_df.head()"
   ]
  },
  {
   "cell_type": "code",
   "execution_count": 11,
   "metadata": {},
   "outputs": [
    {
     "data": {
      "text/plain": [
       "[0, 2]"
      ]
     },
     "execution_count": 11,
     "metadata": {},
     "output_type": "execute_result"
    }
   ],
   "source": [
    "model.predict(test_df)"
   ]
  },
  {
   "cell_type": "markdown",
   "metadata": {},
   "source": [
    "### 3.3. hyperparameter tuning"
   ]
  },
  {
   "cell_type": "markdown",
   "metadata": {},
   "source": [
    "The default type of hyperparameter tuning is the *RandomizedSearchCV*; however, with the **rand_search** parameter in the **gridsearch** method you can change it to *GridSearchCV*. (it is recommended to use *RandomizedSearchCV* because it does not take so much time)"
   ]
  },
  {
   "cell_type": "markdown",
   "metadata": {},
   "source": [
    "you can get the hyperparameter tuning grid as followed:"
   ]
  },
  {
   "cell_type": "code",
   "execution_count": 12,
   "metadata": {},
   "outputs": [
    {
     "data": {
      "text/plain": [
       "{'model__n_estimators': [1, 2, 4, 8, 16, 32, 64, 100, 200, 500, 1000],\n",
       " 'model__max_depth': [2, 3, 4, 5, 6, 7, 8, 10, 15],\n",
       " 'model__min_samples_split': [2, 3, 5, 10],\n",
       " 'model__min_samples_leaf': [1, 2, 4],\n",
       " 'model__bootstrap': [True, False],\n",
       " 'model__criterion': ['gini', 'entropy']}"
      ]
     },
     "execution_count": 12,
     "metadata": {},
     "output_type": "execute_result"
    }
   ],
   "source": [
    "model.grid"
   ]
  },
  {
   "cell_type": "markdown",
   "metadata": {},
   "source": [
    "you can change the hyperparameter tuning grid as followed:"
   ]
  },
  {
   "cell_type": "markdown",
   "metadata": {},
   "source": [
    "to add parameters for the different steps, you have to use the following preffixes:\n",
    "\n",
    "*vectorizer__*\n",
    "\n",
    "*scaler__*\n",
    "\n",
    "*selector__*\n",
    "\n",
    "*sampler__*\n",
    "\n",
    "*model__*"
   ]
  },
  {
   "cell_type": "code",
   "execution_count": 13,
   "metadata": {},
   "outputs": [],
   "source": [
    "model.update_grid(selector__k = [1,2,3,4])"
   ]
  },
  {
   "cell_type": "code",
   "execution_count": 14,
   "metadata": {},
   "outputs": [
    {
     "data": {
      "text/plain": [
       "{'selector__k': [1, 2, 3, 4],\n",
       " 'model__n_estimators': [1, 2, 4, 8, 16, 32, 64, 100, 200, 500, 1000],\n",
       " 'model__max_depth': [2, 3, 4, 5, 6, 7, 8, 10, 15],\n",
       " 'model__min_samples_split': [2, 3, 5, 10],\n",
       " 'model__min_samples_leaf': [1, 2, 4],\n",
       " 'model__bootstrap': [True, False],\n",
       " 'model__criterion': ['gini', 'entropy']}"
      ]
     },
     "execution_count": 14,
     "metadata": {},
     "output_type": "execute_result"
    }
   ],
   "source": [
    "model.grid"
   ]
  },
  {
   "cell_type": "markdown",
   "metadata": {},
   "source": [
    "simple scoring with recall/precision/accurracy"
   ]
  },
  {
   "cell_type": "code",
   "execution_count": 15,
   "metadata": {},
   "outputs": [
    {
     "name": "stdout",
     "output_type": "stream",
     "text": [
      "grid:  {'selector__k': [1, 2, 3, 4], 'model__n_estimators': [1, 2, 4, 8, 16, 32, 64, 100, 200, 500, 1000], 'model__max_depth': [2, 3, 4, 5, 6, 7, 8, 10, 15], 'model__min_samples_split': [2, 3, 5, 10], 'model__min_samples_leaf': [1, 2, 4], 'model__bootstrap': [True, False], 'model__criterion': ['gini', 'entropy']}\n",
      "\n",
      "starting hyperparameter tuning...\n",
      "... hyperparameter tuning finished\n",
      "\n",
      "mean: 0.931111 (stdev: 0.073221) with: {'selector__k': 4, 'model__n_estimators': 1000, 'model__min_samples_split': 5, 'model__min_samples_leaf': 4, 'model__max_depth': 4, 'model__criterion': 'entropy', 'model__bootstrap': False}\n",
      "mean: 0.931296 (stdev: 0.068786) with: {'selector__k': 1, 'model__n_estimators': 64, 'model__min_samples_split': 10, 'model__min_samples_leaf': 2, 'model__max_depth': 3, 'model__criterion': 'gini', 'model__bootstrap': True}\n",
      "mean: 0.934815 (stdev: 0.064501) with: {'selector__k': 3, 'model__n_estimators': 32, 'model__min_samples_split': 5, 'model__min_samples_leaf': 1, 'model__max_depth': 3, 'model__criterion': 'entropy', 'model__bootstrap': True}\n",
      "mean: 0.939630 (stdev: 0.064705) with: {'selector__k': 1, 'model__n_estimators': 1000, 'model__min_samples_split': 10, 'model__min_samples_leaf': 2, 'model__max_depth': 6, 'model__criterion': 'gini', 'model__bootstrap': False}\n",
      "mean: 0.920185 (stdev: 0.070236) with: {'selector__k': 1, 'model__n_estimators': 32, 'model__min_samples_split': 2, 'model__min_samples_leaf': 2, 'model__max_depth': 5, 'model__criterion': 'gini', 'model__bootstrap': False}\n",
      "mean: 0.937593 (stdev: 0.061809) with: {'selector__k': 2, 'model__n_estimators': 16, 'model__min_samples_split': 5, 'model__min_samples_leaf': 4, 'model__max_depth': 4, 'model__criterion': 'entropy', 'model__bootstrap': True}\n",
      "mean: 0.929259 (stdev: 0.065811) with: {'selector__k': 3, 'model__n_estimators': 1000, 'model__min_samples_split': 5, 'model__min_samples_leaf': 4, 'model__max_depth': 6, 'model__criterion': 'entropy', 'model__bootstrap': False}\n",
      "mean: 0.941852 (stdev: 0.065589) with: {'selector__k': 3, 'model__n_estimators': 64, 'model__min_samples_split': 2, 'model__min_samples_leaf': 2, 'model__max_depth': 15, 'model__criterion': 'gini', 'model__bootstrap': True}\n",
      "mean: 0.924259 (stdev: 0.070031) with: {'selector__k': 4, 'model__n_estimators': 200, 'model__min_samples_split': 10, 'model__min_samples_leaf': 1, 'model__max_depth': 2, 'model__criterion': 'entropy', 'model__bootstrap': False}\n",
      "mean: 0.922778 (stdev: 0.069557) with: {'selector__k': 4, 'model__n_estimators': 4, 'model__min_samples_split': 5, 'model__min_samples_leaf': 2, 'model__max_depth': 5, 'model__criterion': 'gini', 'model__bootstrap': False}\n",
      "mean: 0.931111 (stdev: 0.076317) with: {'selector__k': 4, 'model__n_estimators': 2, 'model__min_samples_split': 2, 'model__min_samples_leaf': 2, 'model__max_depth': 5, 'model__criterion': 'entropy', 'model__bootstrap': False}\n",
      "mean: 0.920000 (stdev: 0.074558) with: {'selector__k': 3, 'model__n_estimators': 2, 'model__min_samples_split': 3, 'model__min_samples_leaf': 4, 'model__max_depth': 8, 'model__criterion': 'entropy', 'model__bootstrap': True}\n",
      "mean: 0.944074 (stdev: 0.066387) with: {'selector__k': 2, 'model__n_estimators': 8, 'model__min_samples_split': 5, 'model__min_samples_leaf': 1, 'model__max_depth': 5, 'model__criterion': 'gini', 'model__bootstrap': True}\n",
      "mean: 0.939074 (stdev: 0.068305) with: {'selector__k': 2, 'model__n_estimators': 32, 'model__min_samples_split': 3, 'model__min_samples_leaf': 2, 'model__max_depth': 3, 'model__criterion': 'gini', 'model__bootstrap': True}\n",
      "mean: 0.946852 (stdev: 0.059606) with: {'selector__k': 2, 'model__n_estimators': 8, 'model__min_samples_split': 10, 'model__min_samples_leaf': 2, 'model__max_depth': 6, 'model__criterion': 'gini', 'model__bootstrap': True}\n",
      "mean: 0.937593 (stdev: 0.065447) with: {'selector__k': 4, 'model__n_estimators': 100, 'model__min_samples_split': 2, 'model__min_samples_leaf': 1, 'model__max_depth': 3, 'model__criterion': 'entropy', 'model__bootstrap': True}\n",
      "mean: 0.927037 (stdev: 0.064498) with: {'selector__k': 4, 'model__n_estimators': 200, 'model__min_samples_split': 5, 'model__min_samples_leaf': 2, 'model__max_depth': 2, 'model__criterion': 'entropy', 'model__bootstrap': True}\n",
      "mean: 0.920185 (stdev: 0.070236) with: {'selector__k': 1, 'model__n_estimators': 1000, 'model__min_samples_split': 3, 'model__min_samples_leaf': 1, 'model__max_depth': 5, 'model__criterion': 'entropy', 'model__bootstrap': True}\n",
      "mean: 0.934074 (stdev: 0.066415) with: {'selector__k': 1, 'model__n_estimators': 8, 'model__min_samples_split': 10, 'model__min_samples_leaf': 1, 'model__max_depth': 8, 'model__criterion': 'entropy', 'model__bootstrap': False}\n",
      "mean: 0.922963 (stdev: 0.071675) with: {'selector__k': 1, 'model__n_estimators': 16, 'model__min_samples_split': 3, 'model__min_samples_leaf': 1, 'model__max_depth': 5, 'model__criterion': 'entropy', 'model__bootstrap': True}\n",
      "mean: 0.940370 (stdev: 0.062673) with: {'selector__k': 3, 'model__n_estimators': 1000, 'model__min_samples_split': 2, 'model__min_samples_leaf': 2, 'model__max_depth': 10, 'model__criterion': 'entropy', 'model__bootstrap': True}\n",
      "mean: 0.929259 (stdev: 0.065811) with: {'selector__k': 3, 'model__n_estimators': 32, 'model__min_samples_split': 5, 'model__min_samples_leaf': 4, 'model__max_depth': 15, 'model__criterion': 'entropy', 'model__bootstrap': False}\n",
      "mean: 0.931111 (stdev: 0.073221) with: {'selector__k': 4, 'model__n_estimators': 500, 'model__min_samples_split': 5, 'model__min_samples_leaf': 4, 'model__max_depth': 10, 'model__criterion': 'entropy', 'model__bootstrap': False}\n",
      "mean: 0.928889 (stdev: 0.068814) with: {'selector__k': 4, 'model__n_estimators': 16, 'model__min_samples_split': 5, 'model__min_samples_leaf': 1, 'model__max_depth': 7, 'model__criterion': 'gini', 'model__bootstrap': True}\n",
      "mean: 0.936852 (stdev: 0.060101) with: {'selector__k': 2, 'model__n_estimators': 8, 'model__min_samples_split': 2, 'model__min_samples_leaf': 2, 'model__max_depth': 2, 'model__criterion': 'gini', 'model__bootstrap': True}\n",
      "mean: 0.937593 (stdev: 0.057943) with: {'selector__k': 2, 'model__n_estimators': 8, 'model__min_samples_split': 2, 'model__min_samples_leaf': 4, 'model__max_depth': 7, 'model__criterion': 'gini', 'model__bootstrap': True}\n",
      "mean: 0.925185 (stdev: 0.066338) with: {'selector__k': 4, 'model__n_estimators': 2, 'model__min_samples_split': 10, 'model__min_samples_leaf': 2, 'model__max_depth': 5, 'model__criterion': 'gini', 'model__bootstrap': True}\n",
      "mean: 0.937593 (stdev: 0.068893) with: {'selector__k': 4, 'model__n_estimators': 200, 'model__min_samples_split': 2, 'model__min_samples_leaf': 2, 'model__max_depth': 4, 'model__criterion': 'gini', 'model__bootstrap': True}\n",
      "mean: 0.939630 (stdev: 0.061022) with: {'selector__k': 1, 'model__n_estimators': 2, 'model__min_samples_split': 10, 'model__min_samples_leaf': 4, 'model__max_depth': 8, 'model__criterion': 'entropy', 'model__bootstrap': False}\n",
      "mean: 0.934815 (stdev: 0.060806) with: {'selector__k': 3, 'model__n_estimators': 1000, 'model__min_samples_split': 5, 'model__min_samples_leaf': 2, 'model__max_depth': 5, 'model__criterion': 'gini', 'model__bootstrap': False}\n",
      "mean: 0.931296 (stdev: 0.068786) with: {'selector__k': 1, 'model__n_estimators': 500, 'model__min_samples_split': 2, 'model__min_samples_leaf': 4, 'model__max_depth': 8, 'model__criterion': 'gini', 'model__bootstrap': True}\n",
      "mean: 0.937593 (stdev: 0.068893) with: {'selector__k': 3, 'model__n_estimators': 16, 'model__min_samples_split': 2, 'model__min_samples_leaf': 2, 'model__max_depth': 10, 'model__criterion': 'gini', 'model__bootstrap': True}\n",
      "mean: 0.929259 (stdev: 0.069239) with: {'selector__k': 3, 'model__n_estimators': 500, 'model__min_samples_split': 2, 'model__min_samples_leaf': 4, 'model__max_depth': 10, 'model__criterion': 'entropy', 'model__bootstrap': True}\n",
      "mean: 0.921481 (stdev: 0.065148) with: {'selector__k': 3, 'model__n_estimators': 64, 'model__min_samples_split': 3, 'model__min_samples_leaf': 2, 'model__max_depth': 2, 'model__criterion': 'entropy', 'model__bootstrap': False}\n",
      "mean: 0.933889 (stdev: 0.074195) with: {'selector__k': 4, 'model__n_estimators': 32, 'model__min_samples_split': 3, 'model__min_samples_leaf': 1, 'model__max_depth': 4, 'model__criterion': 'gini', 'model__bootstrap': False}\n",
      "mean: 0.931296 (stdev: 0.068786) with: {'selector__k': 1, 'model__n_estimators': 500, 'model__min_samples_split': 10, 'model__min_samples_leaf': 2, 'model__max_depth': 10, 'model__criterion': 'entropy', 'model__bootstrap': True}\n",
      "mean: 0.925556 (stdev: 0.074101) with: {'selector__k': 4, 'model__n_estimators': 500, 'model__min_samples_split': 10, 'model__min_samples_leaf': 4, 'model__max_depth': 3, 'model__criterion': 'gini', 'model__bootstrap': False}\n",
      "mean: 0.915000 (stdev: 0.074676) with: {'selector__k': 2, 'model__n_estimators': 1, 'model__min_samples_split': 3, 'model__min_samples_leaf': 2, 'model__max_depth': 3, 'model__criterion': 'gini', 'model__bootstrap': False}\n",
      "mean: 0.943148 (stdev: 0.066954) with: {'selector__k': 2, 'model__n_estimators': 100, 'model__min_samples_split': 10, 'model__min_samples_leaf': 4, 'model__max_depth': 8, 'model__criterion': 'entropy', 'model__bootstrap': True}\n",
      "mean: 0.933889 (stdev: 0.071006) with: {'selector__k': 2, 'model__n_estimators': 64, 'model__min_samples_split': 2, 'model__min_samples_leaf': 2, 'model__max_depth': 3, 'model__criterion': 'gini', 'model__bootstrap': False}\n",
      "mean: 0.942407 (stdev: 0.061806) with: {'selector__k': 1, 'model__n_estimators': 16, 'model__min_samples_split': 5, 'model__min_samples_leaf': 4, 'model__max_depth': 4, 'model__criterion': 'gini', 'model__bootstrap': False}\n",
      "mean: 0.936852 (stdev: 0.070718) with: {'selector__k': 1, 'model__n_estimators': 16, 'model__min_samples_split': 10, 'model__min_samples_leaf': 4, 'model__max_depth': 6, 'model__criterion': 'gini', 'model__bootstrap': True}\n",
      "mean: 0.934815 (stdev: 0.067995) with: {'selector__k': 4, 'model__n_estimators': 200, 'model__min_samples_split': 5, 'model__min_samples_leaf': 4, 'model__max_depth': 4, 'model__criterion': 'entropy', 'model__bootstrap': False}\n",
      "mean: 0.926667 (stdev: 0.080474) with: {'selector__k': 4, 'model__n_estimators': 1000, 'model__min_samples_split': 3, 'model__min_samples_leaf': 2, 'model__max_depth': 7, 'model__criterion': 'entropy', 'model__bootstrap': False}\n",
      "mean: 0.929259 (stdev: 0.065811) with: {'selector__k': 3, 'model__n_estimators': 16, 'model__min_samples_split': 3, 'model__min_samples_leaf': 1, 'model__max_depth': 7, 'model__criterion': 'gini', 'model__bootstrap': False}\n",
      "mean: 0.940370 (stdev: 0.062673) with: {'selector__k': 3, 'model__n_estimators': 1000, 'model__min_samples_split': 5, 'model__min_samples_leaf': 2, 'model__max_depth': 8, 'model__criterion': 'entropy', 'model__bootstrap': True}\n",
      "mean: 0.945185 (stdev: 0.062455) with: {'selector__k': 2, 'model__n_estimators': 32, 'model__min_samples_split': 5, 'model__min_samples_leaf': 2, 'model__max_depth': 2, 'model__criterion': 'entropy', 'model__bootstrap': False}\n",
      "mean: 0.931296 (stdev: 0.068786) with: {'selector__k': 1, 'model__n_estimators': 100, 'model__min_samples_split': 10, 'model__min_samples_leaf': 4, 'model__max_depth': 7, 'model__criterion': 'gini', 'model__bootstrap': True}\n",
      "mean: 0.935370 (stdev: 0.063367) with: {'selector__k': 2, 'model__n_estimators': 1, 'model__min_samples_split': 2, 'model__min_samples_leaf': 1, 'model__max_depth': 5, 'model__criterion': 'gini', 'model__bootstrap': True}\n",
      "mean: 0.935370 (stdev: 0.067912) with: {'selector__k': 4, 'model__n_estimators': 64, 'model__min_samples_split': 3, 'model__min_samples_leaf': 2, 'model__max_depth': 10, 'model__criterion': 'gini', 'model__bootstrap': True}\n",
      "mean: 0.936852 (stdev: 0.056117) with: {'selector__k': 2, 'model__n_estimators': 4, 'model__min_samples_split': 10, 'model__min_samples_leaf': 4, 'model__max_depth': 3, 'model__criterion': 'gini', 'model__bootstrap': True}\n",
      "mean: 0.946852 (stdev: 0.066924) with: {'selector__k': 2, 'model__n_estimators': 500, 'model__min_samples_split': 2, 'model__min_samples_leaf': 1, 'model__max_depth': 6, 'model__criterion': 'gini', 'model__bootstrap': False}\n",
      "mean: 0.943148 (stdev: 0.063403) with: {'selector__k': 2, 'model__n_estimators': 64, 'model__min_samples_split': 3, 'model__min_samples_leaf': 2, 'model__max_depth': 4, 'model__criterion': 'gini', 'model__bootstrap': False}\n",
      "mean: 0.943148 (stdev: 0.063403) with: {'selector__k': 2, 'model__n_estimators': 1000, 'model__min_samples_split': 2, 'model__min_samples_leaf': 2, 'model__max_depth': 10, 'model__criterion': 'gini', 'model__bootstrap': False}\n",
      "mean: 0.946852 (stdev: 0.066924) with: {'selector__k': 2, 'model__n_estimators': 64, 'model__min_samples_split': 3, 'model__min_samples_leaf': 1, 'model__max_depth': 8, 'model__criterion': 'entropy', 'model__bootstrap': True}\n",
      "mean: 0.945185 (stdev: 0.062455) with: {'selector__k': 1, 'model__n_estimators': 8, 'model__min_samples_split': 2, 'model__min_samples_leaf': 2, 'model__max_depth': 2, 'model__criterion': 'gini', 'model__bootstrap': False}\n",
      "mean: 0.935741 (stdev: 0.067551) with: {'selector__k': 3, 'model__n_estimators': 4, 'model__min_samples_split': 10, 'model__min_samples_leaf': 2, 'model__max_depth': 8, 'model__criterion': 'gini', 'model__bootstrap': False}\n",
      "mean: 0.932593 (stdev: 0.070284) with: {'selector__k': 2, 'model__n_estimators': 4, 'model__min_samples_split': 2, 'model__min_samples_leaf': 1, 'model__max_depth': 6, 'model__criterion': 'entropy', 'model__bootstrap': True}\n",
      "mean: 0.929259 (stdev: 0.069239) with: {'selector__k': 4, 'model__n_estimators': 1000, 'model__min_samples_split': 2, 'model__min_samples_leaf': 4, 'model__max_depth': 3, 'model__criterion': 'entropy', 'model__bootstrap': True}\n",
      "mean: 0.947407 (stdev: 0.059399) with: {'selector__k': 2, 'model__n_estimators': 100, 'model__min_samples_split': 10, 'model__min_samples_leaf': 1, 'model__max_depth': 2, 'model__criterion': 'gini', 'model__bootstrap': True}\n",
      "mean: 0.946852 (stdev: 0.063370) with: {'selector__k': 2, 'model__n_estimators': 100, 'model__min_samples_split': 3, 'model__min_samples_leaf': 1, 'model__max_depth': 15, 'model__criterion': 'gini', 'model__bootstrap': True}\n",
      "mean: 0.938148 (stdev: 0.061693) with: {'selector__k': 4, 'model__n_estimators': 64, 'model__min_samples_split': 5, 'model__min_samples_leaf': 4, 'model__max_depth': 3, 'model__criterion': 'gini', 'model__bootstrap': True}\n",
      "mean: 0.931667 (stdev: 0.069938) with: {'selector__k': 3, 'model__n_estimators': 2, 'model__min_samples_split': 5, 'model__min_samples_leaf': 4, 'model__max_depth': 5, 'model__criterion': 'gini', 'model__bootstrap': False}\n",
      "mean: 0.932037 (stdev: 0.070341) with: {'selector__k': 2, 'model__n_estimators': 16, 'model__min_samples_split': 3, 'model__min_samples_leaf': 2, 'model__max_depth': 7, 'model__criterion': 'entropy', 'model__bootstrap': True}\n",
      "mean: 0.934074 (stdev: 0.059034) with: {'selector__k': 1, 'model__n_estimators': 2, 'model__min_samples_split': 10, 'model__min_samples_leaf': 4, 'model__max_depth': 3, 'model__criterion': 'gini', 'model__bootstrap': True}\n",
      "mean: 0.946852 (stdev: 0.066924) with: {'selector__k': 2, 'model__n_estimators': 500, 'model__min_samples_split': 3, 'model__min_samples_leaf': 1, 'model__max_depth': 10, 'model__criterion': 'entropy', 'model__bootstrap': True}\n",
      "mean: 0.926481 (stdev: 0.071329) with: {'selector__k': 3, 'model__n_estimators': 8, 'model__min_samples_split': 2, 'model__min_samples_leaf': 4, 'model__max_depth': 7, 'model__criterion': 'entropy', 'model__bootstrap': False}\n",
      "mean: 0.928519 (stdev: 0.067628) with: {'selector__k': 1, 'model__n_estimators': 100, 'model__min_samples_split': 5, 'model__min_samples_leaf': 2, 'model__max_depth': 15, 'model__criterion': 'entropy', 'model__bootstrap': True}\n",
      "mean: 0.938519 (stdev: 0.068417) with: {'selector__k': 2, 'model__n_estimators': 1000, 'model__min_samples_split': 2, 'model__min_samples_leaf': 1, 'model__max_depth': 7, 'model__criterion': 'gini', 'model__bootstrap': False}\n",
      "mean: 0.927037 (stdev: 0.067992) with: {'selector__k': 4, 'model__n_estimators': 500, 'model__min_samples_split': 10, 'model__min_samples_leaf': 4, 'model__max_depth': 4, 'model__criterion': 'entropy', 'model__bootstrap': True}\n",
      "mean: 0.940370 (stdev: 0.066263) with: {'selector__k': 4, 'model__n_estimators': 200, 'model__min_samples_split': 5, 'model__min_samples_leaf': 1, 'model__max_depth': 10, 'model__criterion': 'entropy', 'model__bootstrap': True}\n",
      "mean: 0.931296 (stdev: 0.068786) with: {'selector__k': 1, 'model__n_estimators': 500, 'model__min_samples_split': 10, 'model__min_samples_leaf': 2, 'model__max_depth': 6, 'model__criterion': 'entropy', 'model__bootstrap': True}\n",
      "mean: 0.931296 (stdev: 0.068786) with: {'selector__k': 1, 'model__n_estimators': 1000, 'model__min_samples_split': 10, 'model__min_samples_leaf': 4, 'model__max_depth': 2, 'model__criterion': 'entropy', 'model__bootstrap': True}\n",
      "mean: 0.917778 (stdev: 0.073120) with: {'selector__k': 3, 'model__n_estimators': 4, 'model__min_samples_split': 10, 'model__min_samples_leaf': 4, 'model__max_depth': 10, 'model__criterion': 'entropy', 'model__bootstrap': False}\n",
      "mean: 0.920185 (stdev: 0.070236) with: {'selector__k': 1, 'model__n_estimators': 500, 'model__min_samples_split': 3, 'model__min_samples_leaf': 1, 'model__max_depth': 6, 'model__criterion': 'entropy', 'model__bootstrap': False}\n",
      "\n",
      "Best: 0.947407 using {'selector__k': 2, 'model__n_estimators': 100, 'model__min_samples_split': 10, 'model__min_samples_leaf': 1, 'model__max_depth': 2, 'model__criterion': 'gini', 'model__bootstrap': True}\n",
      "\n",
      "starting to train best model...\n",
      "... best model trained\n",
      "accuracy:  1.0\n",
      "precision:  1.0\n",
      "recall:  1.0\n",
      "s_score:  0.9926004570086354\n",
      "l_score:  1.0\n",
      "\n",
      "classification report: \n",
      "              precision    recall  f1-score   support\n",
      "\n",
      "           0       1.00      1.00      1.00        10\n",
      "           1       1.00      1.00      1.00         9\n",
      "           2       1.00      1.00      1.00        11\n",
      "\n",
      "    accuracy                           1.00        30\n",
      "   macro avg       1.00      1.00      1.00        30\n",
      "weighted avg       1.00      1.00      1.00        30\n",
      "\n"
     ]
    },
    {
     "data": {
      "text/plain": [
       "{'accuracy': 1.0,\n",
       " 'precision': 1.0,\n",
       " 'recall': 1.0,\n",
       " 's_score': 0.9926004570086354,\n",
       " 'l_score': 1.0}"
      ]
     },
     "execution_count": 15,
     "metadata": {},
     "output_type": "execute_result"
    }
   ],
   "source": [
    "model.gridsearch(x_train, y_train, scoring=\"recall\", avg=\"macro\", train_afterwards=True)\n",
    "model.evaluate(x_test, y_test, avg=\"macro\")"
   ]
  },
  {
   "cell_type": "markdown",
   "metadata": {},
   "source": [
    "advanced scoring with s_score/l_score:\n",
    "- **secondary_scoring** and **pos_label** to priorities metrics/classes in optimization\n",
    "- **strength** to set how much the priorization is compared to scores in all the other metrics/classes\n",
    "- always includes all metrics/classes and punishes really bad scores in one metric/class"
   ]
  },
  {
   "cell_type": "code",
   "execution_count": 16,
   "metadata": {},
   "outputs": [
    {
     "name": "stdout",
     "output_type": "stream",
     "text": [
      "grid:  {'selector__k': [1, 2, 3, 4], 'model__n_estimators': [1, 2, 4, 8, 16, 32, 64, 100, 200, 500, 1000], 'model__max_depth': [2, 3, 4, 5, 6, 7, 8, 10, 15], 'model__min_samples_split': [2, 3, 5, 10], 'model__min_samples_leaf': [1, 2, 4], 'model__bootstrap': [True, False], 'model__criterion': ['gini', 'entropy']}\n",
      "\n",
      "starting hyperparameter tuning...\n",
      "... hyperparameter tuning finished\n",
      "\n",
      "mean: 0.817999 (stdev: 0.265367) with: {'selector__k': 4, 'model__n_estimators': 1000, 'model__min_samples_split': 5, 'model__min_samples_leaf': 4, 'model__max_depth': 4, 'model__criterion': 'entropy', 'model__bootstrap': False}\n",
      "mean: 0.807910 (stdev: 0.269266) with: {'selector__k': 1, 'model__n_estimators': 64, 'model__min_samples_split': 10, 'model__min_samples_leaf': 2, 'model__max_depth': 3, 'model__criterion': 'gini', 'model__bootstrap': True}\n",
      "mean: 0.861364 (stdev: 0.187150) with: {'selector__k': 3, 'model__n_estimators': 32, 'model__min_samples_split': 5, 'model__min_samples_leaf': 1, 'model__max_depth': 3, 'model__criterion': 'entropy', 'model__bootstrap': True}\n",
      "mean: 0.834201 (stdev: 0.246067) with: {'selector__k': 1, 'model__n_estimators': 1000, 'model__min_samples_split': 10, 'model__min_samples_leaf': 2, 'model__max_depth': 6, 'model__criterion': 'gini', 'model__bootstrap': False}\n",
      "mean: 0.812693 (stdev: 0.243895) with: {'selector__k': 1, 'model__n_estimators': 32, 'model__min_samples_split': 2, 'model__min_samples_leaf': 2, 'model__max_depth': 5, 'model__criterion': 'gini', 'model__bootstrap': False}\n",
      "mean: 0.846598 (stdev: 0.218155) with: {'selector__k': 2, 'model__n_estimators': 16, 'model__min_samples_split': 5, 'model__min_samples_leaf': 4, 'model__max_depth': 4, 'model__criterion': 'entropy', 'model__bootstrap': True}\n",
      "mean: 0.836368 (stdev: 0.217100) with: {'selector__k': 3, 'model__n_estimators': 1000, 'model__min_samples_split': 5, 'model__min_samples_leaf': 4, 'model__max_depth': 6, 'model__criterion': 'entropy', 'model__bootstrap': False}\n",
      "mean: 0.872990 (stdev: 0.188579) with: {'selector__k': 3, 'model__n_estimators': 64, 'model__min_samples_split': 2, 'model__min_samples_leaf': 2, 'model__max_depth': 15, 'model__criterion': 'gini', 'model__bootstrap': True}\n",
      "mean: 0.793841 (stdev: 0.263940) with: {'selector__k': 4, 'model__n_estimators': 200, 'model__min_samples_split': 10, 'model__min_samples_leaf': 1, 'model__max_depth': 2, 'model__criterion': 'entropy', 'model__bootstrap': False}\n",
      "mean: 0.790004 (stdev: 0.280723) with: {'selector__k': 4, 'model__n_estimators': 4, 'model__min_samples_split': 5, 'model__min_samples_leaf': 2, 'model__max_depth': 5, 'model__criterion': 'gini', 'model__bootstrap': False}\n",
      "mean: 0.799495 (stdev: 0.286590) with: {'selector__k': 4, 'model__n_estimators': 2, 'model__min_samples_split': 2, 'model__min_samples_leaf': 2, 'model__max_depth': 5, 'model__criterion': 'entropy', 'model__bootstrap': False}\n",
      "mean: 0.768008 (stdev: 0.298411) with: {'selector__k': 3, 'model__n_estimators': 2, 'model__min_samples_split': 3, 'model__min_samples_leaf': 4, 'model__max_depth': 8, 'model__criterion': 'entropy', 'model__bootstrap': True}\n",
      "mean: 0.857006 (stdev: 0.221496) with: {'selector__k': 2, 'model__n_estimators': 8, 'model__min_samples_split': 5, 'model__min_samples_leaf': 1, 'model__max_depth': 5, 'model__criterion': 'gini', 'model__bootstrap': True}\n",
      "mean: 0.851240 (stdev: 0.220888) with: {'selector__k': 2, 'model__n_estimators': 32, 'model__min_samples_split': 3, 'model__min_samples_leaf': 2, 'model__max_depth': 3, 'model__criterion': 'gini', 'model__bootstrap': True}\n",
      "mean: 0.897260 (stdev: 0.144683) with: {'selector__k': 2, 'model__n_estimators': 8, 'model__min_samples_split': 10, 'model__min_samples_leaf': 2, 'model__max_depth': 6, 'model__criterion': 'gini', 'model__bootstrap': True}\n",
      "mean: 0.864609 (stdev: 0.188358) with: {'selector__k': 4, 'model__n_estimators': 100, 'model__min_samples_split': 2, 'model__min_samples_leaf': 1, 'model__max_depth': 3, 'model__criterion': 'entropy', 'model__bootstrap': True}\n",
      "mean: 0.834095 (stdev: 0.215921) with: {'selector__k': 4, 'model__n_estimators': 200, 'model__min_samples_split': 5, 'model__min_samples_leaf': 2, 'model__max_depth': 2, 'model__criterion': 'entropy', 'model__bootstrap': True}\n",
      "mean: 0.794435 (stdev: 0.265264) with: {'selector__k': 1, 'model__n_estimators': 1000, 'model__min_samples_split': 3, 'model__min_samples_leaf': 1, 'model__max_depth': 5, 'model__criterion': 'entropy', 'model__bootstrap': True}\n",
      "mean: 0.827463 (stdev: 0.244702) with: {'selector__k': 1, 'model__n_estimators': 8, 'model__min_samples_split': 10, 'model__min_samples_leaf': 1, 'model__max_depth': 8, 'model__criterion': 'entropy', 'model__bootstrap': False}\n",
      "mean: 0.797680 (stdev: 0.266933) with: {'selector__k': 1, 'model__n_estimators': 16, 'model__min_samples_split': 3, 'model__min_samples_leaf': 1, 'model__max_depth': 5, 'model__criterion': 'entropy', 'model__bootstrap': True}\n",
      "mean: 0.868101 (stdev: 0.187718) with: {'selector__k': 3, 'model__n_estimators': 1000, 'model__min_samples_split': 2, 'model__min_samples_leaf': 2, 'model__max_depth': 10, 'model__criterion': 'entropy', 'model__bootstrap': True}\n",
      "mean: 0.836368 (stdev: 0.217100) with: {'selector__k': 3, 'model__n_estimators': 32, 'model__min_samples_split': 5, 'model__min_samples_leaf': 4, 'model__max_depth': 15, 'model__criterion': 'entropy', 'model__bootstrap': False}\n",
      "mean: 0.817999 (stdev: 0.265367) with: {'selector__k': 4, 'model__n_estimators': 500, 'model__min_samples_split': 5, 'model__min_samples_leaf': 4, 'model__max_depth': 10, 'model__criterion': 'entropy', 'model__bootstrap': False}\n",
      "mean: 0.815972 (stdev: 0.263016) with: {'selector__k': 4, 'model__n_estimators': 16, 'model__min_samples_split': 5, 'model__min_samples_leaf': 1, 'model__max_depth': 7, 'model__criterion': 'gini', 'model__bootstrap': True}\n",
      "mean: 0.867717 (stdev: 0.184743) with: {'selector__k': 2, 'model__n_estimators': 8, 'model__min_samples_split': 2, 'model__min_samples_leaf': 2, 'model__max_depth': 2, 'model__criterion': 'gini', 'model__bootstrap': True}\n",
      "mean: 0.865102 (stdev: 0.184755) with: {'selector__k': 2, 'model__n_estimators': 8, 'model__min_samples_split': 2, 'model__min_samples_leaf': 4, 'model__max_depth': 7, 'model__criterion': 'gini', 'model__bootstrap': True}\n",
      "mean: 0.816508 (stdev: 0.241290) with: {'selector__k': 4, 'model__n_estimators': 2, 'model__min_samples_split': 10, 'model__min_samples_leaf': 2, 'model__max_depth': 5, 'model__criterion': 'gini', 'model__bootstrap': True}\n",
      "mean: 0.846105 (stdev: 0.221174) with: {'selector__k': 4, 'model__n_estimators': 200, 'model__min_samples_split': 2, 'model__min_samples_leaf': 2, 'model__max_depth': 4, 'model__criterion': 'gini', 'model__bootstrap': True}\n",
      "mean: 0.834447 (stdev: 0.244728) with: {'selector__k': 1, 'model__n_estimators': 2, 'model__min_samples_split': 10, 'model__min_samples_leaf': 4, 'model__max_depth': 8, 'model__criterion': 'entropy', 'model__bootstrap': False}\n",
      "mean: 0.861610 (stdev: 0.185349) with: {'selector__k': 3, 'model__n_estimators': 1000, 'model__min_samples_split': 5, 'model__min_samples_leaf': 2, 'model__max_depth': 5, 'model__criterion': 'gini', 'model__bootstrap': False}\n",
      "mean: 0.807910 (stdev: 0.269266) with: {'selector__k': 1, 'model__n_estimators': 500, 'model__min_samples_split': 2, 'model__min_samples_leaf': 4, 'model__max_depth': 8, 'model__criterion': 'gini', 'model__bootstrap': True}\n",
      "mean: 0.809589 (stdev: 0.269168) with: {'selector__k': 3, 'model__n_estimators': 16, 'model__min_samples_split': 2, 'model__min_samples_leaf': 2, 'model__max_depth': 10, 'model__criterion': 'gini', 'model__bootstrap': True}\n",
      "mean: 0.799606 (stdev: 0.265697) with: {'selector__k': 3, 'model__n_estimators': 500, 'model__min_samples_split': 2, 'model__min_samples_leaf': 4, 'model__max_depth': 10, 'model__criterion': 'entropy', 'model__bootstrap': True}\n",
      "mean: 0.809099 (stdev: 0.239512) with: {'selector__k': 3, 'model__n_estimators': 64, 'model__min_samples_split': 3, 'model__min_samples_leaf': 2, 'model__max_depth': 2, 'model__criterion': 'entropy', 'model__bootstrap': False}\n",
      "mean: 0.802987 (stdev: 0.286962) with: {'selector__k': 4, 'model__n_estimators': 32, 'model__min_samples_split': 3, 'model__min_samples_leaf': 1, 'model__max_depth': 4, 'model__criterion': 'gini', 'model__bootstrap': False}\n",
      "mean: 0.807910 (stdev: 0.269266) with: {'selector__k': 1, 'model__n_estimators': 500, 'model__min_samples_split': 10, 'model__min_samples_leaf': 2, 'model__max_depth': 10, 'model__criterion': 'entropy', 'model__bootstrap': True}\n",
      "mean: 0.793004 (stdev: 0.283477) with: {'selector__k': 4, 'model__n_estimators': 500, 'model__min_samples_split': 10, 'model__min_samples_leaf': 4, 'model__max_depth': 3, 'model__criterion': 'gini', 'model__bootstrap': False}\n",
      "mean: 0.743985 (stdev: 0.311114) with: {'selector__k': 2, 'model__n_estimators': 1, 'model__min_samples_split': 3, 'model__min_samples_leaf': 2, 'model__max_depth': 3, 'model__criterion': 'gini', 'model__bootstrap': False}\n",
      "mean: 0.834585 (stdev: 0.248360) with: {'selector__k': 2, 'model__n_estimators': 100, 'model__min_samples_split': 10, 'model__min_samples_leaf': 4, 'model__max_depth': 8, 'model__criterion': 'entropy', 'model__bootstrap': True}\n",
      "mean: 0.839749 (stdev: 0.242149) with: {'selector__k': 2, 'model__n_estimators': 64, 'model__min_samples_split': 2, 'model__min_samples_leaf': 2, 'model__max_depth': 3, 'model__criterion': 'gini', 'model__bootstrap': False}\n",
      "mean: 0.837692 (stdev: 0.246009) with: {'selector__k': 1, 'model__n_estimators': 16, 'model__min_samples_split': 5, 'model__min_samples_leaf': 4, 'model__max_depth': 4, 'model__criterion': 'gini', 'model__bootstrap': False}\n",
      "mean: 0.814401 (stdev: 0.272185) with: {'selector__k': 1, 'model__n_estimators': 16, 'model__min_samples_split': 10, 'model__min_samples_leaf': 4, 'model__max_depth': 6, 'model__criterion': 'gini', 'model__bootstrap': True}\n",
      "mean: 0.842860 (stdev: 0.219872) with: {'selector__k': 4, 'model__n_estimators': 200, 'model__min_samples_split': 5, 'model__min_samples_leaf': 4, 'model__max_depth': 4, 'model__criterion': 'entropy', 'model__bootstrap': False}\n",
      "mean: 0.778808 (stdev: 0.303329) with: {'selector__k': 4, 'model__n_estimators': 1000, 'model__min_samples_split': 3, 'model__min_samples_leaf': 2, 'model__max_depth': 7, 'model__criterion': 'entropy', 'model__bootstrap': False}\n",
      "mean: 0.818110 (stdev: 0.242646) with: {'selector__k': 3, 'model__n_estimators': 16, 'model__min_samples_split': 3, 'model__min_samples_leaf': 1, 'model__max_depth': 7, 'model__criterion': 'gini', 'model__bootstrap': False}\n",
      "mean: 0.868101 (stdev: 0.187718) with: {'selector__k': 3, 'model__n_estimators': 1000, 'model__min_samples_split': 5, 'model__min_samples_leaf': 2, 'model__max_depth': 8, 'model__criterion': 'entropy', 'model__bootstrap': True}\n",
      "mean: 0.840938 (stdev: 0.247241) with: {'selector__k': 2, 'model__n_estimators': 32, 'model__min_samples_split': 5, 'model__min_samples_leaf': 2, 'model__max_depth': 2, 'model__criterion': 'entropy', 'model__bootstrap': False}\n",
      "mean: 0.807910 (stdev: 0.269266) with: {'selector__k': 1, 'model__n_estimators': 100, 'model__min_samples_split': 10, 'model__min_samples_leaf': 4, 'model__max_depth': 7, 'model__criterion': 'gini', 'model__bootstrap': True}\n",
      "mean: 0.845620 (stdev: 0.238209) with: {'selector__k': 2, 'model__n_estimators': 1, 'model__min_samples_split': 2, 'model__min_samples_leaf': 1, 'model__max_depth': 5, 'model__criterion': 'gini', 'model__bootstrap': True}\n",
      "mean: 0.825574 (stdev: 0.245904) with: {'selector__k': 4, 'model__n_estimators': 64, 'model__min_samples_split': 3, 'model__min_samples_leaf': 2, 'model__max_depth': 10, 'model__criterion': 'gini', 'model__bootstrap': True}\n",
      "mean: 0.867963 (stdev: 0.182911) with: {'selector__k': 2, 'model__n_estimators': 4, 'model__min_samples_split': 10, 'model__min_samples_leaf': 4, 'model__max_depth': 3, 'model__criterion': 'gini', 'model__bootstrap': True}\n",
      "mean: 0.878510 (stdev: 0.190419) with: {'selector__k': 2, 'model__n_estimators': 500, 'model__min_samples_split': 2, 'model__min_samples_leaf': 1, 'model__max_depth': 6, 'model__criterion': 'gini', 'model__bootstrap': False}\n",
      "mean: 0.871347 (stdev: 0.188807) with: {'selector__k': 2, 'model__n_estimators': 64, 'model__min_samples_split': 3, 'model__min_samples_leaf': 2, 'model__max_depth': 4, 'model__criterion': 'gini', 'model__bootstrap': False}\n",
      "mean: 0.871347 (stdev: 0.188807) with: {'selector__k': 2, 'model__n_estimators': 1000, 'model__min_samples_split': 2, 'model__min_samples_leaf': 2, 'model__max_depth': 10, 'model__criterion': 'gini', 'model__bootstrap': False}\n",
      "mean: 0.860251 (stdev: 0.222582) with: {'selector__k': 2, 'model__n_estimators': 64, 'model__min_samples_split': 3, 'model__min_samples_leaf': 1, 'model__max_depth': 8, 'model__criterion': 'entropy', 'model__bootstrap': True}\n",
      "mean: 0.840938 (stdev: 0.247241) with: {'selector__k': 1, 'model__n_estimators': 8, 'model__min_samples_split': 2, 'model__min_samples_leaf': 2, 'model__max_depth': 2, 'model__criterion': 'gini', 'model__bootstrap': False}\n",
      "mean: 0.847023 (stdev: 0.219433) with: {'selector__k': 3, 'model__n_estimators': 4, 'model__min_samples_split': 10, 'model__min_samples_leaf': 2, 'model__max_depth': 8, 'model__criterion': 'gini', 'model__bootstrap': False}\n",
      "mean: 0.822082 (stdev: 0.245790) with: {'selector__k': 2, 'model__n_estimators': 4, 'model__min_samples_split': 2, 'model__min_samples_leaf': 1, 'model__max_depth': 6, 'model__criterion': 'entropy', 'model__bootstrap': True}\n",
      "mean: 0.817864 (stdev: 0.243980) with: {'selector__k': 4, 'model__n_estimators': 1000, 'model__min_samples_split': 2, 'model__min_samples_leaf': 4, 'model__max_depth': 3, 'model__criterion': 'entropy', 'model__bootstrap': True}\n",
      "mean: 0.879974 (stdev: 0.186919) with: {'selector__k': 2, 'model__n_estimators': 100, 'model__min_samples_split': 10, 'model__min_samples_leaf': 1, 'model__max_depth': 2, 'model__criterion': 'gini', 'model__bootstrap': True}\n",
      "mean: 0.878756 (stdev: 0.188628) with: {'selector__k': 2, 'model__n_estimators': 100, 'model__min_samples_split': 3, 'model__min_samples_leaf': 1, 'model__max_depth': 15, 'model__criterion': 'gini', 'model__bootstrap': True}\n",
      "mean: 0.847570 (stdev: 0.218385) with: {'selector__k': 4, 'model__n_estimators': 64, 'model__min_samples_split': 5, 'model__min_samples_leaf': 4, 'model__max_depth': 3, 'model__criterion': 'gini', 'model__bootstrap': True}\n",
      "mean: 0.837475 (stdev: 0.241125) with: {'selector__k': 3, 'model__n_estimators': 2, 'model__min_samples_split': 5, 'model__min_samples_leaf': 4, 'model__max_depth': 5, 'model__criterion': 'gini', 'model__bootstrap': False}\n",
      "mean: 0.839368 (stdev: 0.220019) with: {'selector__k': 2, 'model__n_estimators': 16, 'model__min_samples_split': 3, 'model__min_samples_leaf': 2, 'model__max_depth': 7, 'model__criterion': 'entropy', 'model__bootstrap': True}\n",
      "mean: 0.864472 (stdev: 0.183566) with: {'selector__k': 1, 'model__n_estimators': 2, 'model__min_samples_split': 10, 'model__min_samples_leaf': 4, 'model__max_depth': 3, 'model__criterion': 'gini', 'model__bootstrap': True}\n",
      "mean: 0.860251 (stdev: 0.222582) with: {'selector__k': 2, 'model__n_estimators': 500, 'model__min_samples_split': 3, 'model__min_samples_leaf': 1, 'model__max_depth': 10, 'model__criterion': 'entropy', 'model__bootstrap': True}\n",
      "mean: 0.796114 (stdev: 0.265250) with: {'selector__k': 3, 'model__n_estimators': 8, 'model__min_samples_split': 2, 'model__min_samples_leaf': 4, 'model__max_depth': 7, 'model__criterion': 'entropy', 'model__bootstrap': False}\n",
      "mean: 0.804664 (stdev: 0.267735) with: {'selector__k': 1, 'model__n_estimators': 100, 'model__min_samples_split': 5, 'model__min_samples_leaf': 2, 'model__max_depth': 15, 'model__criterion': 'entropy', 'model__bootstrap': True}\n",
      "mean: 0.850268 (stdev: 0.220676) with: {'selector__k': 2, 'model__n_estimators': 1000, 'model__min_samples_split': 2, 'model__min_samples_leaf': 1, 'model__max_depth': 7, 'model__criterion': 'gini', 'model__bootstrap': False}\n",
      "mean: 0.815591 (stdev: 0.242758) with: {'selector__k': 4, 'model__n_estimators': 500, 'model__min_samples_split': 10, 'model__min_samples_leaf': 4, 'model__max_depth': 4, 'model__criterion': 'entropy', 'model__bootstrap': True}\n",
      "mean: 0.849597 (stdev: 0.220921) with: {'selector__k': 4, 'model__n_estimators': 200, 'model__min_samples_split': 5, 'model__min_samples_leaf': 1, 'model__max_depth': 10, 'model__criterion': 'entropy', 'model__bootstrap': True}\n",
      "mean: 0.807910 (stdev: 0.269266) with: {'selector__k': 1, 'model__n_estimators': 500, 'model__min_samples_split': 10, 'model__min_samples_leaf': 2, 'model__max_depth': 6, 'model__criterion': 'entropy', 'model__bootstrap': True}\n",
      "mean: 0.807910 (stdev: 0.269266) with: {'selector__k': 1, 'model__n_estimators': 1000, 'model__min_samples_split': 10, 'model__min_samples_leaf': 4, 'model__max_depth': 2, 'model__criterion': 'entropy', 'model__bootstrap': True}\n",
      "mean: 0.765735 (stdev: 0.297032) with: {'selector__k': 3, 'model__n_estimators': 4, 'model__min_samples_split': 10, 'model__min_samples_leaf': 4, 'model__max_depth': 10, 'model__criterion': 'entropy', 'model__bootstrap': False}\n",
      "mean: 0.812693 (stdev: 0.243895) with: {'selector__k': 1, 'model__n_estimators': 500, 'model__min_samples_split': 3, 'model__min_samples_leaf': 1, 'model__max_depth': 6, 'model__criterion': 'entropy', 'model__bootstrap': False}\n",
      "\n",
      "Best: 0.897260 using {'selector__k': 2, 'model__n_estimators': 8, 'model__min_samples_split': 10, 'model__min_samples_leaf': 2, 'model__max_depth': 6, 'model__criterion': 'gini', 'model__bootstrap': True}\n",
      "\n",
      "starting to train best model...\n",
      "... best model trained\n",
      "accuracy:  1.0\n",
      "precision:  1.0\n",
      "recall:  1.0\n",
      "s_score:  0.9816036781135836\n",
      "l_score:  1.0\n",
      "\n",
      "classification report: \n",
      "              precision    recall  f1-score   support\n",
      "\n",
      "           0       1.00      1.00      1.00        10\n",
      "           1       1.00      1.00      1.00         9\n",
      "           2       1.00      1.00      1.00        11\n",
      "\n",
      "    accuracy                           1.00        30\n",
      "   macro avg       1.00      1.00      1.00        30\n",
      "weighted avg       1.00      1.00      1.00        30\n",
      "\n"
     ]
    },
    {
     "data": {
      "text/plain": [
       "{'accuracy': 1.0,\n",
       " 'precision': 1.0,\n",
       " 'recall': 1.0,\n",
       " 's_score': 0.9816036781135836,\n",
       " 'l_score': 1.0}"
      ]
     },
     "execution_count": 16,
     "metadata": {},
     "output_type": "execute_result"
    }
   ],
   "source": [
    "model.gridsearch(x_train, y_train, scoring=\"s_score\", train_afterwards=True, secondary_scoring=\"recall\", pos_label=-1, strength=4)\n",
    "model.evaluate(x_test, y_test, avg=\"macro\", secondary_scoring=\"recall\", pos_label=-1, strength=4)"
   ]
  },
  {
   "cell_type": "markdown",
   "metadata": {},
   "source": [
    "### 3.4. cross validation"
   ]
  },
  {
   "cell_type": "markdown",
   "metadata": {},
   "source": [
    "#### 3.4.1. all-vs-one cross validation"
   ]
  },
  {
   "cell_type": "markdown",
   "metadata": {},
   "source": [
    "**Concept:**\n",
    "\n",
    "The model will be trained on all datapoints except one and then tested on this last one. This will be repeated for all datapoints so that we have our predictions for all datapoints.\n",
    "\n",
    "**Advantage:** optimal use of information for training\n",
    "\n",
    "**Disadvantage:** long train time\n",
    "\n",
    "This concept is very useful for small datasets (datapoints < 150) because the long train time is still not too long and especially with a small amount of information for the model, it is important to use all the information one has for the training."
   ]
  },
  {
   "cell_type": "code",
   "execution_count": 17,
   "metadata": {},
   "outputs": [
    {
     "name": "stdout",
     "output_type": "stream",
     "text": [
      "starting to cross validate...\n"
     ]
    },
    {
     "name": "stderr",
     "output_type": "stream",
     "text": [
      "pipy: 100%|██████████| 150/150 [00:02<00:00, 51.25it/s]"
     ]
    },
    {
     "name": "stdout",
     "output_type": "stream",
     "text": [
      "... cross validation completed\n",
      "\n",
      "classification report:\n",
      "              precision    recall  f1-score   support\n",
      "\n",
      "           0       1.00      1.00      1.00        50\n",
      "           1       0.98      0.94      0.96        50\n",
      "           2       0.94      0.98      0.96        50\n",
      "\n",
      "    accuracy                           0.97       150\n",
      "   macro avg       0.97      0.97      0.97       150\n",
      "weighted avg       0.97      0.97      0.97       150\n",
      "\n"
     ]
    },
    {
     "name": "stderr",
     "output_type": "stream",
     "text": [
      "\n"
     ]
    },
    {
     "data": {
      "text/plain": [
       "{'accuracy': 0.9733333333333334,\n",
       " 'precision': 0.9738247863247862,\n",
       " 'recall': 0.9733333333333333,\n",
       " 's_score': 0.9894085490834833,\n",
       " 'l_score': 0.9999999893463261,\n",
       " 'avg train score': 0.9734222222222223,\n",
       " 'avg train time': '0:00:00'}"
      ]
     },
     "execution_count": 17,
     "metadata": {},
     "output_type": "execute_result"
    }
   ],
   "source": [
    "model.cross_validation_small_data(X, y, avg=\"macro\")"
   ]
  },
  {
   "cell_type": "markdown",
   "metadata": {},
   "source": [
    "#### 3.4.2. multiple split cross validation"
   ]
  },
  {
   "cell_type": "code",
   "execution_count": 18,
   "metadata": {},
   "outputs": [
    {
     "name": "stdout",
     "output_type": "stream",
     "text": [
      "starting to cross validate...\n",
      "... cross validation completed\n",
      "\n",
      "                                0         1         2         3         4  \\\n",
      "fit_time                 0.023468  0.017522  0.021925  0.023937  0.021231   \n",
      "score_time               0.010181  0.011443  0.013307  0.011746  0.012636   \n",
      "test_precision (macro)   1.000000  1.000000  0.500000  0.916667  1.000000   \n",
      "train_precision (macro)  0.973825  0.955000  1.000000  0.969948  0.956522   \n",
      "test_recall (macro)      1.000000  1.000000  0.450000  0.950000  1.000000   \n",
      "train_recall (macro)     0.973333  0.955000  1.000000  0.972222  0.980000   \n",
      "test_accuracy            1.000000  1.000000  0.900000  0.933333  1.000000   \n",
      "train_accuracy           0.966667  0.950000  1.000000  0.975000  0.975000   \n",
      "test_s_score             0.997527  0.995061  0.002459  0.984473  0.997527   \n",
      "train_s_score            0.989409  0.986459  0.992600  0.989121  0.986704   \n",
      "test_l_score             1.000000  1.000000  0.000000  0.999980  1.000000   \n",
      "train_l_score            1.000000  1.000000  1.000000  1.000000  0.999997   \n",
      "\n",
      "                          average  \n",
      "fit_time                 0.021617  \n",
      "score_time               0.011863  \n",
      "test_precision (macro)   0.883333  \n",
      "train_precision (macro)  0.971059  \n",
      "test_recall (macro)      0.880000  \n",
      "train_recall (macro)     0.976111  \n",
      "test_accuracy            0.966667  \n",
      "train_accuracy           0.973333  \n",
      "test_s_score             0.795410  \n",
      "train_s_score            0.988859  \n",
      "test_l_score             0.799996  \n",
      "train_l_score            0.999999  \n"
     ]
    },
    {
     "data": {
      "text/plain": [
       "{'accuracy': 0.9666666666666666,\n",
       " 'precision': 0.8833333333333334,\n",
       " 'recall': 0.8800000000000001,\n",
       " 's_score': 0.7954096415208831,\n",
       " 'l_score': 0.7999959011044497,\n",
       " 'avg train score': 0.9733333333333333,\n",
       " 'avg train time': '0:00:00'}"
      ]
     },
     "execution_count": 18,
     "metadata": {},
     "output_type": "execute_result"
    }
   ],
   "source": [
    "model.cross_validation(X, y, cv_num=5, avg=\"macro\")"
   ]
  },
  {
   "cell_type": "markdown",
   "metadata": {},
   "source": [
    "### 3.5. save and load pipelines"
   ]
  },
  {
   "cell_type": "markdown",
   "metadata": {},
   "source": [
    "save your pipeline class object with **only_estimator**=False or you can only save the sklearn model with **only_estimator**=True"
   ]
  },
  {
   "cell_type": "code",
   "execution_count": 19,
   "metadata": {},
   "outputs": [
    {
     "name": "stdout",
     "output_type": "stream",
     "text": [
      "saving started...\n",
      "... model saved\n"
     ]
    }
   ],
   "source": [
    "model.save_model(path=\"pipy.pkl\", only_estimator=False)"
   ]
  },
  {
   "cell_type": "markdown",
   "metadata": {},
   "source": [
    "every *Model* subclass (*Classifier*, *Pipeline*, *RFC*, ...) has the *load_model* function that returns the model"
   ]
  },
  {
   "cell_type": "code",
   "execution_count": 20,
   "metadata": {},
   "outputs": [
    {
     "name": "stdout",
     "output_type": "stream",
     "text": [
      "loading model...\n",
      "... model loaded\n"
     ]
    }
   ],
   "source": [
    "loaded_model = Pipeline.load_model(path=\"pipy.pkl\")"
   ]
  },
  {
   "cell_type": "code",
   "execution_count": null,
   "metadata": {},
   "outputs": [],
   "source": []
  }
 ],
 "metadata": {
  "kernelspec": {
   "display_name": "Python 3.9.7 ('sam_ml')",
   "language": "python",
   "name": "python3"
  },
  "language_info": {
   "codemirror_mode": {
    "name": "ipython",
    "version": 3
   },
   "file_extension": ".py",
   "mimetype": "text/x-python",
   "name": "python",
   "nbconvert_exporter": "python",
   "pygments_lexer": "ipython3",
   "version": "3.9.7"
  },
  "orig_nbformat": 4,
  "vscode": {
   "interpreter": {
    "hash": "5b738b73aff05be6a815c168ec02e2f25923ef65f9da64e59e0db381ef6ddb14"
   }
  }
 },
 "nbformat": 4,
 "nbformat_minor": 2
}
